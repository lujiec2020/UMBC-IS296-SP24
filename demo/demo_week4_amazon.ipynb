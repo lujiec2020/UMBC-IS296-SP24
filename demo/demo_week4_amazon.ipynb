{
 "cells": [
  {
   "cell_type": "code",
   "execution_count": 20,
   "id": "d1e515e4",
   "metadata": {},
   "outputs": [],
   "source": [
    "from datascience import *\n",
    "import numpy as np"
   ]
  },
  {
   "cell_type": "markdown",
   "id": "74bbfc4e",
   "metadata": {},
   "source": [
    "### Q1. Load data from the csv file \"amazon_2024_valentines_best_sellers.csv\" and show top  5 rows"
   ]
  },
  {
   "cell_type": "code",
   "execution_count": null,
   "id": "1deb201c",
   "metadata": {},
   "outputs": [],
   "source": []
  },
  {
   "cell_type": "markdown",
   "id": "06072472",
   "metadata": {},
   "source": [
    "###  Q2. What percentage of best-sellers are chocalate products"
   ]
  },
  {
   "cell_type": "code",
   "execution_count": null,
   "id": "aac42682",
   "metadata": {},
   "outputs": [],
   "source": []
  },
  {
   "cell_type": "markdown",
   "id": "9d61073a",
   "metadata": {},
   "source": [
    "### Q3. What is the average price of the Chocolate products? (ignore missing values)"
   ]
  },
  {
   "cell_type": "code",
   "execution_count": null,
   "id": "adbd9673",
   "metadata": {},
   "outputs": [],
   "source": []
  },
  {
   "cell_type": "markdown",
   "id": "f73dfb37",
   "metadata": {},
   "source": [
    "### Q4.  Create a column that computes the weighted average star using the three columns \"three_star\", \"four_star\", \"five_star\", and find the top 5 products with the highest weighted star  \n",
    "#### Note: for a given product, if 30% review are 3-star, 20% are 4-star and 50% are 5-star, then the weighted average star is 30% * 3 + 20% *4 + 50% * 5"
   ]
  },
  {
   "cell_type": "code",
   "execution_count": null,
   "id": "e3263c33",
   "metadata": {},
   "outputs": [],
   "source": []
  },
  {
   "cell_type": "markdown",
   "id": "f3d8e3a9",
   "metadata": {},
   "source": [
    "### Q5. what is the ratio of number of reviewers for the product at position 1 versus the product at position 10"
   ]
  },
  {
   "cell_type": "code",
   "execution_count": null,
   "id": "d25f6322",
   "metadata": {},
   "outputs": [],
   "source": []
  },
  {
   "cell_type": "markdown",
   "id": "41952496",
   "metadata": {},
   "source": [
    "### Q6. What is the mean weighted rating for the top 10 product, according to ranking (product position), what about the bottom 10? round the result to two significant decimal digits"
   ]
  },
  {
   "cell_type": "code",
   "execution_count": null,
   "id": "dd011973",
   "metadata": {},
   "outputs": [],
   "source": []
  }
 ],
 "metadata": {
  "kernelspec": {
   "display_name": "Python 3 (ipykernel)",
   "language": "python",
   "name": "python3"
  },
  "language_info": {
   "codemirror_mode": {
    "name": "ipython",
    "version": 3
   },
   "file_extension": ".py",
   "mimetype": "text/x-python",
   "name": "python",
   "nbconvert_exporter": "python",
   "pygments_lexer": "ipython3",
   "version": "3.11.5"
  }
 },
 "nbformat": 4,
 "nbformat_minor": 5
}
