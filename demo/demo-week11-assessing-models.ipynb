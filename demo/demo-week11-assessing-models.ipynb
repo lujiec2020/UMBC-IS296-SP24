{
 "cells": [
  {
   "cell_type": "code",
   "execution_count": null,
   "id": "4e3c4b8e",
   "metadata": {},
   "outputs": [],
   "source": [
    "from datascience import *\n",
    "import numpy as np\n",
    "\n",
    "%matplotlib inline\n",
    "import matplotlib.pyplot as plots\n",
    "plots.style.use('fivethirtyeight')"
   ]
  },
  {
   "cell_type": "markdown",
   "id": "acb964d3",
   "metadata": {},
   "source": [
    "## Example1: Swain vs. Alabama ##"
   ]
  },
  {
   "cell_type": "code",
   "execution_count": null,
   "id": "cfeec009",
   "metadata": {},
   "outputs": [],
   "source": [
    "population_proportions = make_array(.26, .74)\n",
    "population_proportions"
   ]
  },
  {
   "cell_type": "code",
   "execution_count": null,
   "id": "ec763bfc",
   "metadata": {},
   "outputs": [],
   "source": [
    "sample_proportions(100, population_proportions)"
   ]
  },
  {
   "cell_type": "code",
   "execution_count": null,
   "id": "4b1969df",
   "metadata": {},
   "outputs": [],
   "source": [
    "def panel_proportion():\n",
    "    return sample_proportions(100, population_proportions).item(0)"
   ]
  },
  {
   "cell_type": "code",
   "execution_count": null,
   "id": "54dfdb67",
   "metadata": {},
   "outputs": [],
   "source": [
    "panel_proportion()"
   ]
  },
  {
   "cell_type": "code",
   "execution_count": null,
   "id": "28f7916e",
   "metadata": {},
   "outputs": [],
   "source": [
    "panels = make_array()\n",
    "\n",
    "for i in np.arange(1000):\n",
    "    new_panel = panel_proportion() * 100\n",
    "    panels = np.append(panels, new_panel)\n",
    "panels\n",
    "Table().with_column('Number of Black Men on Panel of 100', panels)"
   ]
  },
  {
   "cell_type": "code",
   "execution_count": null,
   "id": "888b3adc",
   "metadata": {},
   "outputs": [],
   "source": [
    "Table().with_column('Number of Black Men on Panel of 100', panels).hist(bins=np.arange(5.5,40.))"
   ]
  },
  {
   "cell_type": "markdown",
   "id": "064eb920",
   "metadata": {
    "collapsed": true
   },
   "source": [
    "## Example 2: Jury Panels ##"
   ]
  },
  {
   "cell_type": "code",
   "execution_count": null,
   "id": "6850c369",
   "metadata": {},
   "outputs": [],
   "source": [
    "jury = Table().with_columns(\n",
    "    'Ethnicity', make_array('Asian', 'Black', 'Latino', 'White', 'Other'),\n",
    "    'Eligible', make_array(0.15, 0.18, 0.12, 0.54, 0.01),\n",
    "    'Panels', make_array(0.26, 0.08, 0.08, 0.54, 0.04)\n",
    ")\n",
    "\n",
    "jury"
   ]
  },
  {
   "cell_type": "code",
   "execution_count": null,
   "id": "3970f8eb",
   "metadata": {},
   "outputs": [],
   "source": [
    "jury.barh('Ethnicity')"
   ]
  },
  {
   "cell_type": "code",
   "execution_count": null,
   "id": "df1a02a1",
   "metadata": {},
   "outputs": [],
   "source": [
    "# Under the model, this is the true distribution of people\n",
    "# from which the jurors are randomly sampled\n",
    "model = make_array(0.15, 0.18, 0.12, 0.54, 0.01)"
   ]
  },
  {
   "cell_type": "code",
   "execution_count": null,
   "id": "e8fe9360",
   "metadata": {},
   "outputs": [],
   "source": [
    "# Let's simulate a random draw of 1423 jurors from this distribution\n",
    "simulated = sample_proportions(1423, model)\n",
    "simulated"
   ]
  },
  {
   "cell_type": "code",
   "execution_count": null,
   "id": "de3994e5",
   "metadata": {},
   "outputs": [],
   "source": [
    "# The actual observed distribution (Panels) looks quite different\n",
    "# from the simulation -- try running this several times to confirm!\n",
    "jury_with_simulated = jury.with_column('Simulated', simulated)\n",
    "jury_with_simulated"
   ]
  },
  {
   "cell_type": "code",
   "execution_count": null,
   "id": "40afbd07",
   "metadata": {},
   "outputs": [],
   "source": [
    "jury_with_simulated.barh('Ethnicity')"
   ]
  },
  {
   "cell_type": "markdown",
   "id": "fd8372ca",
   "metadata": {},
   "source": [
    "### Distance Between Distributions"
   ]
  },
  {
   "cell_type": "code",
   "execution_count": null,
   "id": "45db5d17",
   "metadata": {},
   "outputs": [],
   "source": [
    "# In the last lecture, the difference between observed black/purple\n",
    "# and their expected values (26%/75%) was our statistic.\n",
    "#\n",
    "# In this case, we need to understand how each of the 5 categories\n",
    "# differ from their expected values according to the model.\n",
    "\n",
    "diffs = jury.column('Panels') - jury.column('Eligible')\n",
    "jury_with_difference = jury.with_column('Difference', diffs)\n",
    "jury_with_difference"
   ]
  },
  {
   "cell_type": "markdown",
   "id": "139bc0d1",
   "metadata": {},
   "source": [
    "### Total Variation Distance"
   ]
  },
  {
   "cell_type": "code",
   "execution_count": null,
   "id": "81b8b7bf",
   "metadata": {},
   "outputs": [],
   "source": [
    "def tvd(dist1, dist2):\n",
    "    return sum(abs(dist1 - dist2))/2"
   ]
  },
  {
   "cell_type": "code",
   "execution_count": null,
   "id": "43ae54f6",
   "metadata": {},
   "outputs": [],
   "source": [
    "# The TVD of our observed data (Panels) from their expected values\n",
    "# assuming the model is true (Eligbible)\n",
    "obsvd_tvd = tvd(jury.column('Panels'), jury.column('Eligible'))\n",
    "obsvd_tvd"
   ]
  },
  {
   "cell_type": "code",
   "execution_count": null,
   "id": "b59967e1",
   "metadata": {},
   "outputs": [],
   "source": [
    "# The TVD of a model simluation from its expected values\n",
    "tvd(sample_proportions(1423, model), jury.column('Eligible'))"
   ]
  },
  {
   "cell_type": "code",
   "execution_count": null,
   "id": "ba5a2f15",
   "metadata": {},
   "outputs": [],
   "source": [
    "def simulated_tvd():\n",
    "    return tvd(sample_proportions(1423, model), model)\n",
    "\n",
    "tvds = make_array()\n",
    "\n",
    "num_simulations = 10000\n",
    "for i in np.arange(num_simulations):\n",
    "    new_tvd = simulated_tvd()\n",
    "    tvds = np.append(tvds, new_tvd)\n",
    "tvds"
   ]
  },
  {
   "cell_type": "code",
   "execution_count": null,
   "id": "f062ca97",
   "metadata": {},
   "outputs": [],
   "source": [
    "title = 'Simulated TVDs (if model is true)'\n",
    "bins = np.arange(0, .05, .005)\n",
    "\n",
    "Table().with_column(title, tvds).hist(bins = bins)\n",
    "print('Observed TVD: ' + str(obsvd_tvd))"
   ]
  },
  {
   "cell_type": "code",
   "execution_count": null,
   "id": "9d942d61",
   "metadata": {},
   "outputs": [],
   "source": []
  }
 ],
 "metadata": {
  "kernelspec": {
   "display_name": "Python 3 (ipykernel)",
   "language": "python",
   "name": "python3"
  },
  "language_info": {
   "codemirror_mode": {
    "name": "ipython",
    "version": 3
   },
   "file_extension": ".py",
   "mimetype": "text/x-python",
   "name": "python",
   "nbconvert_exporter": "python",
   "pygments_lexer": "ipython3",
   "version": "3.11.5"
  }
 },
 "nbformat": 4,
 "nbformat_minor": 5
}
