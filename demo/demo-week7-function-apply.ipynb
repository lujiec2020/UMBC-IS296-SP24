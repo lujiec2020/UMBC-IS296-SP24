{
 "cells": [
  {
   "cell_type": "code",
   "execution_count": null,
   "id": "79bc6a06",
   "metadata": {},
   "outputs": [],
   "source": [
    "from datascience import *\n",
    "import numpy as np\n",
    "\n",
    "%matplotlib inline\n",
    "import matplotlib.pyplot as plots\n",
    "plots.style.use('fivethirtyeight')"
   ]
  },
  {
   "cell_type": "markdown",
   "id": "1955f628",
   "metadata": {},
   "source": [
    "## Functions ##"
   ]
  },
  {
   "cell_type": "code",
   "execution_count": null,
   "id": "1ae1abe9",
   "metadata": {},
   "outputs": [],
   "source": [
    "def say_hello(name):\n",
    "    return 'hello ' + name\n",
    "say_hello('Andrew')"
   ]
  },
  {
   "cell_type": "code",
   "execution_count": null,
   "id": "e40054d9",
   "metadata": {},
   "outputs": [],
   "source": [
    "#Your turn: write a function trip that returns the triple of a given input"
   ]
  },
  {
   "cell_type": "code",
   "execution_count": null,
   "id": "01397e90",
   "metadata": {},
   "outputs": [],
   "source": [
    "triple(9)"
   ]
  },
  {
   "cell_type": "code",
   "execution_count": null,
   "id": "4d668c86",
   "metadata": {},
   "outputs": [],
   "source": [
    "triple('hello')"
   ]
  },
  {
   "cell_type": "code",
   "execution_count": null,
   "id": "8063ff47",
   "metadata": {},
   "outputs": [],
   "source": [
    "num = 4"
   ]
  },
  {
   "cell_type": "code",
   "execution_count": null,
   "id": "01b0d4aa",
   "metadata": {},
   "outputs": [],
   "source": [
    "triple(num)"
   ]
  },
  {
   "cell_type": "markdown",
   "id": "35a7177f",
   "metadata": {},
   "source": [
    "### Note About Scopes"
   ]
  },
  {
   "cell_type": "code",
   "execution_count": null,
   "id": "2601ae61",
   "metadata": {},
   "outputs": [],
   "source": [
    "x"
   ]
  },
  {
   "cell_type": "code",
   "execution_count": null,
   "id": "61d4bd31",
   "metadata": {},
   "outputs": [],
   "source": [
    "x = 5"
   ]
  },
  {
   "cell_type": "code",
   "execution_count": null,
   "id": "609887f5",
   "metadata": {},
   "outputs": [],
   "source": [
    "triple(2 * x)"
   ]
  },
  {
   "cell_type": "code",
   "execution_count": null,
   "id": "ee29d594",
   "metadata": {
    "scrolled": true
   },
   "outputs": [],
   "source": [
    "x"
   ]
  },
  {
   "cell_type": "markdown",
   "id": "1cd61a36",
   "metadata": {},
   "source": [
    "### Type Agnostic"
   ]
  },
  {
   "cell_type": "code",
   "execution_count": null,
   "id": "5570cbe6",
   "metadata": {},
   "outputs": [],
   "source": [
    "triple('ha')"
   ]
  },
  {
   "cell_type": "code",
   "execution_count": null,
   "id": "ccbf8863",
   "metadata": {},
   "outputs": [],
   "source": [
    "triple(np.arange(4))"
   ]
  },
  {
   "cell_type": "markdown",
   "id": "502272f0",
   "metadata": {},
   "source": [
    "### What this function do?"
   ]
  },
  {
   "cell_type": "code",
   "execution_count": null,
   "id": "f4e97924",
   "metadata": {},
   "outputs": [],
   "source": [
    "def percent_of_total(s):\n",
    "    return np.round(s / sum(s) * 100, 2)"
   ]
  },
  {
   "cell_type": "code",
   "execution_count": null,
   "id": "75e6e2d4",
   "metadata": {},
   "outputs": [],
   "source": [
    "percent_of_total(make_array(1,1,1,1))"
   ]
  },
  {
   "cell_type": "code",
   "execution_count": null,
   "id": "dd5a969a",
   "metadata": {},
   "outputs": [],
   "source": [
    "percent_of_total(make_array(1, 213, 38))"
   ]
  },
  {
   "cell_type": "markdown",
   "id": "9e01bcaa",
   "metadata": {},
   "source": [
    "### Multiple Arguments\n",
    "\n",
    "$ h^2 = x^2 + y^2 \\hspace{20 pt} => \\hspace{20 pt} h = \\sqrt{ x^2 + y^2 } $"
   ]
  },
  {
   "cell_type": "code",
   "execution_count": null,
   "id": "77b77aca",
   "metadata": {},
   "outputs": [],
   "source": [
    "def hypotenuse(x,y):\n",
    "    hypot_squared = (x ** 2 + y ** 2)\n",
    "    return hypot_squared ** 0.5"
   ]
  },
  {
   "cell_type": "code",
   "execution_count": null,
   "id": "23bb6d39",
   "metadata": {},
   "outputs": [],
   "source": [
    "hypotenuse(9, 12)"
   ]
  },
  {
   "cell_type": "code",
   "execution_count": null,
   "id": "e6e74c1d",
   "metadata": {},
   "outputs": [],
   "source": [
    "hypotenuse(2, 2)"
   ]
  },
  {
   "cell_type": "code",
   "execution_count": null,
   "id": "0afa6eef",
   "metadata": {},
   "outputs": [],
   "source": [
    "hypotenuse(1)"
   ]
  },
  {
   "cell_type": "code",
   "execution_count": null,
   "id": "f9a23faa",
   "metadata": {},
   "outputs": [],
   "source": [
    "#Your turn: write a function called hello2 will do the following\n",
    "#hello2('A','B')\n",
    "#output: 'Hello A and B'\n",
    "..."
   ]
  },
  {
   "cell_type": "code",
   "execution_count": null,
   "id": "89c7c067",
   "metadata": {},
   "outputs": [],
   "source": [
    "hello2('A', 'B')"
   ]
  },
  {
   "cell_type": "markdown",
   "id": "7963b49d",
   "metadata": {},
   "source": [
    "## Apply using function"
   ]
  },
  {
   "cell_type": "code",
   "execution_count": null,
   "id": "e17f56f7",
   "metadata": {},
   "outputs": [],
   "source": [
    "student = Table().with_columns(\n",
    "    'Name', make_array('Jim', 'Dwight', 'Michael', 'Creed'),\n",
    "    'Birth Year', make_array(1985, 1988, 1967, 1904)\n",
    ")\n",
    "student"
   ]
  },
  {
   "cell_type": "code",
   "execution_count": null,
   "id": "18b7d144",
   "metadata": {},
   "outputs": [],
   "source": [
    "def greeting(person):\n",
    "    return 'Bonjour ' + person"
   ]
  },
  {
   "cell_type": "code",
   "execution_count": null,
   "id": "89bc8648",
   "metadata": {},
   "outputs": [],
   "source": [
    "greeting('Karen')"
   ]
  },
  {
   "cell_type": "code",
   "execution_count": null,
   "id": "7ac0ca61",
   "metadata": {},
   "outputs": [],
   "source": [
    "greeting('Dang')"
   ]
  },
  {
   "cell_type": "code",
   "execution_count": null,
   "id": "ea8599df",
   "metadata": {},
   "outputs": [],
   "source": [
    "student.with_column('greeting',student.apply(greeting, 'Name'))"
   ]
  },
  {
   "cell_type": "code",
   "execution_count": null,
   "id": "2bec5c34",
   "metadata": {},
   "outputs": [],
   "source": [
    "def name_and_age(name, year):\n",
    "    age = 2024 - year -1\n",
    "    return name + ' is ' + str(age) + ' years old'"
   ]
  },
  {
   "cell_type": "code",
   "execution_count": null,
   "id": "beee9e99",
   "metadata": {},
   "outputs": [],
   "source": [
    "name_and_age('Thomas',2006)"
   ]
  },
  {
   "cell_type": "code",
   "execution_count": null,
   "id": "e3dedc7a",
   "metadata": {},
   "outputs": [],
   "source": [
    "student2 = student.apply(name_and_age, 'Name','Birth Year')\n",
    "student2"
   ]
  },
  {
   "cell_type": "code",
   "execution_count": 4,
   "id": "75f1f98c",
   "metadata": {},
   "outputs": [],
   "source": [
    "#Your turn: add an addtional column called Over35, if the stduent age in 2024 is over 35 then \"Yes\", other than \"No\"\n",
    "#hint: write a function, then use apply\n",
    "..."
   ]
  }
 ],
 "metadata": {
  "kernelspec": {
   "display_name": "Python 3 (ipykernel)",
   "language": "python",
   "name": "python3"
  },
  "language_info": {
   "codemirror_mode": {
    "name": "ipython",
    "version": 3
   },
   "file_extension": ".py",
   "mimetype": "text/x-python",
   "name": "python",
   "nbconvert_exporter": "python",
   "pygments_lexer": "ipython3",
   "version": "3.11.5"
  }
 },
 "nbformat": 4,
 "nbformat_minor": 5
}
