{
 "cells": [
  {
   "cell_type": "code",
   "execution_count": null,
   "id": "79bc6a06",
   "metadata": {},
   "outputs": [],
   "source": [
    "from datascience import *\n",
    "import numpy as np\n",
    "\n",
    "%matplotlib inline\n",
    "import matplotlib.pyplot as plots\n",
    "plots.style.use('fivethirtyeight')"
   ]
  },
  {
   "cell_type": "markdown",
   "id": "ae0566bc",
   "metadata": {},
   "source": [
    "## Grouping and Pivot: Ice cream Cones"
   ]
  },
  {
   "cell_type": "code",
   "execution_count": null,
   "id": "5d088c84",
   "metadata": {},
   "outputs": [],
   "source": [
    "cones = Table.read_table('../data/cones.csv')"
   ]
  },
  {
   "cell_type": "code",
   "execution_count": null,
   "id": "7464be86",
   "metadata": {},
   "outputs": [],
   "source": [
    "cones"
   ]
  },
  {
   "cell_type": "code",
   "execution_count": null,
   "id": "754c0603",
   "metadata": {},
   "outputs": [],
   "source": [
    "pivot_cones = cones.pivot('Color','Flavor', 'Price', np.max)\n",
    "pivot_cones"
   ]
  },
  {
   "cell_type": "code",
   "execution_count": null,
   "id": "2041f079",
   "metadata": {},
   "outputs": [],
   "source": [
    "cones.drop('Color').group('Flavor', np.average).barh('Flavor')"
   ]
  },
  {
   "cell_type": "code",
   "execution_count": null,
   "id": "c290e201",
   "metadata": {},
   "outputs": [],
   "source": [
    "cones.group(('Color','Flavor')).num_rows"
   ]
  },
  {
   "cell_type": "code",
   "execution_count": null,
   "id": "ad18cf49",
   "metadata": {
    "scrolled": true
   },
   "outputs": [],
   "source": [
    "cones.drop('Color').group('Flavor', np.average)"
   ]
  },
  {
   "cell_type": "code",
   "execution_count": null,
   "id": "52a85326",
   "metadata": {},
   "outputs": [],
   "source": [
    "# Question: what if you don't drop color, what will happen?\n",
    "cones.group('Flavor', np.average)"
   ]
  },
  {
   "cell_type": "code",
   "execution_count": null,
   "id": "5b43fec8",
   "metadata": {
    "scrolled": true
   },
   "outputs": [],
   "source": [
    "cones.drop('Color').group('Flavor', min)"
   ]
  },
  {
   "cell_type": "markdown",
   "id": "6ad61672",
   "metadata": {},
   "source": [
    "## Grouping By One Column: Welcome Survey ##"
   ]
  },
  {
   "cell_type": "code",
   "execution_count": null,
   "id": "774fbce1",
   "metadata": {},
   "outputs": [],
   "source": [
    "survey = Table.read_table('../data/welcome_survey_v2.csv')\n",
    "survey\n",
    "# what kind of table is it? a transaction table or aggregated/summary table, what is the unit of analysis?"
   ]
  },
  {
   "cell_type": "code",
   "execution_count": null,
   "id": "3100c42b",
   "metadata": {},
   "outputs": [],
   "source": [
    "survey.group('Year', np.average)"
   ]
  },
  {
   "cell_type": "code",
   "execution_count": null,
   "id": "1d33f12d",
   "metadata": {},
   "outputs": [],
   "source": [
    "by_extra = survey.group('Extraversion', np.average)\n",
    "by_extra"
   ]
  },
  {
   "cell_type": "code",
   "execution_count": null,
   "id": "272380b9",
   "metadata": {},
   "outputs": [],
   "source": [
    "by_extra.select(0,2,3).plot('Extraversion') # Drop the 'Years average' column"
   ]
  },
  {
   "cell_type": "code",
   "execution_count": null,
   "id": "5f4a7e38",
   "metadata": {
    "scrolled": true
   },
   "outputs": [],
   "source": [
    "by_extra.select(0,3).plot('Extraversion')"
   ]
  },
  {
   "cell_type": "markdown",
   "id": "699eb7f1",
   "metadata": {},
   "source": [
    "## Grouping by Two Columns ##"
   ]
  },
  {
   "cell_type": "code",
   "execution_count": null,
   "id": "bb93d0e8",
   "metadata": {},
   "outputs": [],
   "source": [
    "survey = Table.read_table('../data/welcome_survey_v3.csv')\n",
    "survey"
   ]
  },
  {
   "cell_type": "code",
   "execution_count": null,
   "id": "0ca4ceef",
   "metadata": {},
   "outputs": [],
   "source": [
    "survey.group(['Handedness','Sleep position'])"
   ]
  },
  {
   "cell_type": "code",
   "execution_count": null,
   "id": "ee6bdfe7",
   "metadata": {},
   "outputs": [],
   "source": [
    "#sum(g.column(2))\n",
    "survey.num_rows"
   ]
  },
  {
   "cell_type": "markdown",
   "id": "882253b8",
   "metadata": {},
   "source": [
    "## Pivot Tables"
   ]
  },
  {
   "cell_type": "code",
   "execution_count": null,
   "id": "3ecaa678",
   "metadata": {},
   "outputs": [],
   "source": [
    "survey.pivot('Handedness', 'Sleep position')"
   ]
  },
  {
   "cell_type": "code",
   "execution_count": null,
   "id": "9de424c7",
   "metadata": {},
   "outputs": [],
   "source": [
    "survey.pivot( 'Handedness', 'Sleep position', 'Hours of sleep', collect=np.average)"
   ]
  },
  {
   "cell_type": "code",
   "execution_count": null,
   "id": "6d6bba7f",
   "metadata": {},
   "outputs": [],
   "source": [
    "survey.group('Handedness', np.average)"
   ]
  },
  {
   "cell_type": "code",
   "execution_count": null,
   "id": "c1e1a9f8",
   "metadata": {},
   "outputs": [],
   "source": [
    "sky = Table.read_table('../data/skyscrapers.csv')\n",
    "sky"
   ]
  },
  {
   "cell_type": "code",
   "execution_count": null,
   "id": "82c42f0c",
   "metadata": {
    "scrolled": true
   },
   "outputs": [],
   "source": [
    "#For each city, what’s the tallest building for each material?\n",
    "#For each city, what’s the age difference between the oldest  steel building and the oldest concrete building?"
   ]
  }
 ],
 "metadata": {
  "kernelspec": {
   "display_name": "Python 3 (ipykernel)",
   "language": "python",
   "name": "python3"
  },
  "language_info": {
   "codemirror_mode": {
    "name": "ipython",
    "version": 3
   },
   "file_extension": ".py",
   "mimetype": "text/x-python",
   "name": "python",
   "nbconvert_exporter": "python",
   "pygments_lexer": "ipython3",
   "version": "3.11.5"
  }
 },
 "nbformat": 4,
 "nbformat_minor": 5
}
