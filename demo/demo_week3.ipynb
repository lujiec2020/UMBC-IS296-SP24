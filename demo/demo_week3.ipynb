{
 "cells": [
  {
   "cell_type": "code",
   "execution_count": 1,
   "metadata": {},
   "outputs": [],
   "source": [
    "from datascience import *"
   ]
  },
  {
   "cell_type": "code",
   "execution_count": 7,
   "metadata": {},
   "outputs": [
    {
     "data": {
      "text/html": [
       "<table border=\"1\" class=\"dataframe\">\n",
       "    <thead>\n",
       "        <tr>\n",
       "            <th>name</th> <th>net worth</th> <th>citizenship</th> <th>industry</th>\n",
       "        </tr>\n",
       "    </thead>\n",
       "    <tbody>\n",
       "        <tr>\n",
       "            <td>Jeff Bezos     </td> <td>115739645754</td> <td>United States</td> <td>Technology </td>\n",
       "        </tr>\n",
       "    </tbody>\n",
       "        <tr>\n",
       "            <td>Bill Gates     </td> <td>115488591742</td> <td>United States</td> <td>Technology </td>\n",
       "        </tr>\n",
       "    </tbody>\n",
       "        <tr>\n",
       "            <td>Bernard Arnault</td> <td>102244728472</td> <td>France       </td> <td>Consumer   </td>\n",
       "        </tr>\n",
       "    </tbody>\n",
       "        <tr>\n",
       "            <td>Warren Buffett </td> <td>89408278188 </td> <td>United States</td> <td>Diversified</td>\n",
       "        </tr>\n",
       "    </tbody>\n",
       "</table>\n",
       "<p>... (496 rows omitted)</p>"
      ],
      "text/plain": [
       "<IPython.core.display.HTML object>"
      ]
     },
     "metadata": {},
     "output_type": "display_data"
    }
   ],
   "source": [
    "bill=Table.read_table('../data/billionaires.csv')\n",
    "bill.show(4)"
   ]
  },
  {
   "cell_type": "code",
   "execution_count": 8,
   "metadata": {},
   "outputs": [
    {
     "data": {
      "text/plain": [
       "500"
      ]
     },
     "execution_count": 8,
     "metadata": {},
     "output_type": "execute_result"
    }
   ],
   "source": [
    "bill.num_rows"
   ]
  },
  {
   "cell_type": "code",
   "execution_count": 9,
   "metadata": {},
   "outputs": [
    {
     "data": {
      "text/plain": [
       "4"
      ]
     },
     "execution_count": 9,
     "metadata": {},
     "output_type": "execute_result"
    }
   ],
   "source": [
    "bill.num_columns"
   ]
  },
  {
   "cell_type": "code",
   "execution_count": 12,
   "metadata": {},
   "outputs": [
    {
     "data": {
      "text/plain": [
       "('name', 'net worth', 'citizenship', 'industry')"
      ]
     },
     "execution_count": 12,
     "metadata": {},
     "output_type": "execute_result"
    }
   ],
   "source": [
    "bill.labels"
   ]
  },
  {
   "cell_type": "code",
   "execution_count": 13,
   "metadata": {},
   "outputs": [
    {
     "data": {
      "text/html": [
       "<table border=\"1\" class=\"dataframe\">\n",
       "    <thead>\n",
       "        <tr>\n",
       "            <th>name</th> <th>net worth</th> <th>citizenship</th> <th>industry</th>\n",
       "        </tr>\n",
       "    </thead>\n",
       "    <tbody>\n",
       "        <tr>\n",
       "            <td>Bill Gates    </td> <td>115488591742</td> <td>United States</td> <td>Technology </td>\n",
       "        </tr>\n",
       "    </tbody>\n",
       "        <tr>\n",
       "            <td>Warren Buffett</td> <td>89408278188 </td> <td>United States</td> <td>Diversified</td>\n",
       "        </tr>\n",
       "    </tbody>\n",
       "        <tr>\n",
       "            <td>Amancio Ortega</td> <td>73839366133 </td> <td>Spain        </td> <td>Retail     </td>\n",
       "        </tr>\n",
       "    </tbody>\n",
       "</table>"
      ],
      "text/plain": [
       "name           | net worth    | citizenship   | industry\n",
       "Bill Gates     | 115488591742 | United States | Technology\n",
       "Warren Buffett | 89408278188  | United States | Diversified\n",
       "Amancio Ortega | 73839366133  | Spain         | Retail"
      ]
     },
     "execution_count": 13,
     "metadata": {},
     "output_type": "execute_result"
    }
   ],
   "source": [
    "bill.take(make_array(1,3,5))"
   ]
  },
  {
   "cell_type": "code",
   "execution_count": 17,
   "metadata": {},
   "outputs": [
    {
     "data": {
      "text/html": [
       "<table border=\"1\" class=\"dataframe\">\n",
       "    <thead>\n",
       "        <tr>\n",
       "            <th>name</th> <th>net worth</th>\n",
       "        </tr>\n",
       "    </thead>\n",
       "    <tbody>\n",
       "        <tr>\n",
       "            <td>Jeff Bezos     </td> <td>115739645754</td>\n",
       "        </tr>\n",
       "    </tbody>\n",
       "        <tr>\n",
       "            <td>Bill Gates     </td> <td>115488591742</td>\n",
       "        </tr>\n",
       "    </tbody>\n",
       "        <tr>\n",
       "            <td>Bernard Arnault</td> <td>102244728472</td>\n",
       "        </tr>\n",
       "    </tbody>\n",
       "        <tr>\n",
       "            <td>Warren Buffett </td> <td>89408278188 </td>\n",
       "        </tr>\n",
       "    </tbody>\n",
       "        <tr>\n",
       "            <td>Mark Zuckerberg</td> <td>83053011017 </td>\n",
       "        </tr>\n",
       "    </tbody>\n",
       "        <tr>\n",
       "            <td>Amancio Ortega </td> <td>73839366133 </td>\n",
       "        </tr>\n",
       "    </tbody>\n",
       "        <tr>\n",
       "            <td>Larry Page     </td> <td>69933009751 </td>\n",
       "        </tr>\n",
       "    </tbody>\n",
       "        <tr>\n",
       "            <td>Sergey Brin    </td> <td>67825250468 </td>\n",
       "        </tr>\n",
       "    </tbody>\n",
       "        <tr>\n",
       "            <td>Carlos Slim    </td> <td>62527178289 </td>\n",
       "        </tr>\n",
       "    </tbody>\n",
       "        <tr>\n",
       "            <td>Charles Koch   </td> <td>61046822719 </td>\n",
       "        </tr>\n",
       "    </tbody>\n",
       "</table>\n",
       "<p>... (490 rows omitted)</p>"
      ],
      "text/plain": [
       "name            | net worth\n",
       "Jeff Bezos      | 115739645754\n",
       "Bill Gates      | 115488591742\n",
       "Bernard Arnault | 102244728472\n",
       "Warren Buffett  | 89408278188\n",
       "Mark Zuckerberg | 83053011017\n",
       "Amancio Ortega  | 73839366133\n",
       "Larry Page      | 69933009751\n",
       "Sergey Brin     | 67825250468\n",
       "Carlos Slim     | 62527178289\n",
       "Charles Koch    | 61046822719\n",
       "... (490 rows omitted)"
      ]
     },
     "execution_count": 17,
     "metadata": {},
     "output_type": "execute_result"
    }
   ],
   "source": [
    "bill_networth = bill.select('name','net worth')\n",
    "bill_networth"
   ]
  },
  {
   "cell_type": "code",
   "execution_count": 20,
   "metadata": {},
   "outputs": [
    {
     "data": {
      "text/html": [
       "<table border=\"1\" class=\"dataframe\">\n",
       "    <thead>\n",
       "        <tr>\n",
       "            <th>name</th> <th>net worth</th> <th>industry</th>\n",
       "        </tr>\n",
       "    </thead>\n",
       "    <tbody>\n",
       "        <tr>\n",
       "            <td>Jeff Bezos     </td> <td>115739645754</td> <td>Technology </td>\n",
       "        </tr>\n",
       "    </tbody>\n",
       "        <tr>\n",
       "            <td>Bill Gates     </td> <td>115488591742</td> <td>Technology </td>\n",
       "        </tr>\n",
       "    </tbody>\n",
       "        <tr>\n",
       "            <td>Bernard Arnault</td> <td>102244728472</td> <td>Consumer   </td>\n",
       "        </tr>\n",
       "    </tbody>\n",
       "        <tr>\n",
       "            <td>Warren Buffett </td> <td>89408278188 </td> <td>Diversified</td>\n",
       "        </tr>\n",
       "    </tbody>\n",
       "        <tr>\n",
       "            <td>Mark Zuckerberg</td> <td>83053011017 </td> <td>Technology </td>\n",
       "        </tr>\n",
       "    </tbody>\n",
       "        <tr>\n",
       "            <td>Amancio Ortega </td> <td>73839366133 </td> <td>Retail     </td>\n",
       "        </tr>\n",
       "    </tbody>\n",
       "        <tr>\n",
       "            <td>Larry Page     </td> <td>69933009751 </td> <td>Technology </td>\n",
       "        </tr>\n",
       "    </tbody>\n",
       "        <tr>\n",
       "            <td>Sergey Brin    </td> <td>67825250468 </td> <td>Technology </td>\n",
       "        </tr>\n",
       "    </tbody>\n",
       "        <tr>\n",
       "            <td>Carlos Slim    </td> <td>62527178289 </td> <td>Diversified</td>\n",
       "        </tr>\n",
       "    </tbody>\n",
       "        <tr>\n",
       "            <td>Charles Koch   </td> <td>61046822719 </td> <td>Industrial </td>\n",
       "        </tr>\n",
       "    </tbody>\n",
       "</table>\n",
       "<p>... (490 rows omitted)</p>"
      ],
      "text/plain": [
       "name            | net worth    | industry\n",
       "Jeff Bezos      | 115739645754 | Technology\n",
       "Bill Gates      | 115488591742 | Technology\n",
       "Bernard Arnault | 102244728472 | Consumer\n",
       "Warren Buffett  | 89408278188  | Diversified\n",
       "Mark Zuckerberg | 83053011017  | Technology\n",
       "Amancio Ortega  | 73839366133  | Retail\n",
       "Larry Page      | 69933009751  | Technology\n",
       "Sergey Brin     | 67825250468  | Technology\n",
       "Carlos Slim     | 62527178289  | Diversified\n",
       "Charles Koch    | 61046822719  | Industrial\n",
       "... (490 rows omitted)"
      ]
     },
     "execution_count": 20,
     "metadata": {},
     "output_type": "execute_result"
    }
   ],
   "source": [
    "bill3 = bill.drop('citizenship')\n",
    "bill3"
   ]
  },
  {
   "cell_type": "code",
   "execution_count": 22,
   "metadata": {},
   "outputs": [],
   "source": [
    "bill_new = bill.relabeled('net worth', 'networth')"
   ]
  },
  {
   "cell_type": "code",
   "execution_count": 27,
   "metadata": {},
   "outputs": [
    {
     "data": {
      "text/html": [
       "<table border=\"1\" class=\"dataframe\">\n",
       "    <thead>\n",
       "        <tr>\n",
       "            <th>name</th> <th>net worth</th> <th>citizenship</th> <th>industry</th>\n",
       "        </tr>\n",
       "    </thead>\n",
       "    <tbody>\n",
       "        <tr>\n",
       "            <td>Abby Johnson           </td> <td>18201852296</td> <td>United States     </td> <td>Finance        </td>\n",
       "        </tr>\n",
       "    </tbody>\n",
       "        <tr>\n",
       "            <td>Agnete Thinggaard      </td> <td>5525158878 </td> <td>Denmark           </td> <td>Consumer       </td>\n",
       "        </tr>\n",
       "    </tbody>\n",
       "        <tr>\n",
       "            <td>Alain Bouchard         </td> <td>4419419767 </td> <td>Canada            </td> <td>Retail         </td>\n",
       "        </tr>\n",
       "    </tbody>\n",
       "        <tr>\n",
       "            <td>Alain Merieux          </td> <td>5878201295 </td> <td>France            </td> <td>Health Care    </td>\n",
       "        </tr>\n",
       "    </tbody>\n",
       "        <tr>\n",
       "            <td>Alain Wertheimer       </td> <td>30197517906</td> <td>France            </td> <td>Consumer       </td>\n",
       "        </tr>\n",
       "    </tbody>\n",
       "        <tr>\n",
       "            <td>Alberto Bailleres      </td> <td>8650037963 </td> <td>Mexico            </td> <td>Commodities    </td>\n",
       "        </tr>\n",
       "    </tbody>\n",
       "        <tr>\n",
       "            <td>Alejandro Santo Domingo</td> <td>13377266267</td> <td>Colombia          </td> <td>Food & Beverage</td>\n",
       "        </tr>\n",
       "    </tbody>\n",
       "        <tr>\n",
       "            <td>Alexander Abramov      </td> <td>7247853620 </td> <td>Russian Federation</td> <td>Industrial     </td>\n",
       "        </tr>\n",
       "    </tbody>\n",
       "        <tr>\n",
       "            <td>Alexander Otto         </td> <td>6048241665 </td> <td>Germany           </td> <td>Real Estate    </td>\n",
       "        </tr>\n",
       "    </tbody>\n",
       "        <tr>\n",
       "            <td>Alexey Kuzmichev       </td> <td>7089777594 </td> <td>Russian Federation</td> <td>Diversified    </td>\n",
       "        </tr>\n",
       "    </tbody>\n",
       "</table>\n",
       "<p>... (490 rows omitted)</p>"
      ],
      "text/plain": [
       "name                    | net worth   | citizenship        | industry\n",
       "Abby Johnson            | 18201852296 | United States      | Finance\n",
       "Agnete Thinggaard       | 5525158878  | Denmark            | Consumer\n",
       "Alain Bouchard          | 4419419767  | Canada             | Retail\n",
       "Alain Merieux           | 5878201295  | France             | Health Care\n",
       "Alain Wertheimer        | 30197517906 | France             | Consumer\n",
       "Alberto Bailleres       | 8650037963  | Mexico             | Commodities\n",
       "Alejandro Santo Domingo | 13377266267 | Colombia           | Food & Beverage\n",
       "Alexander Abramov       | 7247853620  | Russian Federation | Industrial\n",
       "Alexander Otto          | 6048241665  | Germany            | Real Estate\n",
       "Alexey Kuzmichev        | 7089777594  | Russian Federation | Diversified\n",
       "... (490 rows omitted)"
      ]
     },
     "execution_count": 27,
     "metadata": {},
     "output_type": "execute_result"
    }
   ],
   "source": [
    "bill.sort('name', descending=False)"
   ]
  },
  {
   "cell_type": "code",
   "execution_count": 29,
   "metadata": {},
   "outputs": [
    {
     "data": {
      "text/plain": [
       "172"
      ]
     },
     "execution_count": 29,
     "metadata": {},
     "output_type": "execute_result"
    }
   ],
   "source": [
    "bill.where('citizenship', are.equal_to('United States')).num_rows"
   ]
  },
  {
   "cell_type": "code",
   "execution_count": 30,
   "metadata": {},
   "outputs": [
    {
     "data": {
      "text/plain": [
       "172"
      ]
     },
     "execution_count": 30,
     "metadata": {},
     "output_type": "execute_result"
    }
   ],
   "source": [
    "bill.where('citizenship', 'United States').num_rows"
   ]
  },
  {
   "cell_type": "code",
   "execution_count": 33,
   "metadata": {},
   "outputs": [
    {
     "data": {
      "text/plain": [
       "0.252"
      ]
     },
     "execution_count": 33,
     "metadata": {},
     "output_type": "execute_result"
    }
   ],
   "source": [
    "bill.where('net worth', are.above(12000000000)).num_rows/bill.num_rows"
   ]
  },
  {
   "cell_type": "code",
   "execution_count": 37,
   "metadata": {},
   "outputs": [
    {
     "data": {
      "text/plain": [
       "172"
      ]
     },
     "execution_count": 37,
     "metadata": {},
     "output_type": "execute_result"
    }
   ],
   "source": [
    "us = bill.where('citizenship', are.equal_to('United States'))\n",
    "num_bill_us = us.num_rows\n",
    "num_bill_us"
   ]
  },
  {
   "cell_type": "code",
   "execution_count": null,
   "metadata": {},
   "outputs": [],
   "source": []
  }
 ],
 "metadata": {
  "kernelspec": {
   "display_name": "Python 3",
   "language": "python",
   "name": "python3"
  },
  "language_info": {
   "codemirror_mode": {
    "name": "ipython",
    "version": 3
   },
   "file_extension": ".py",
   "mimetype": "text/x-python",
   "name": "python",
   "nbconvert_exporter": "python",
   "pygments_lexer": "ipython3",
   "version": "3.6.5"
  }
 },
 "nbformat": 4,
 "nbformat_minor": 2
}
