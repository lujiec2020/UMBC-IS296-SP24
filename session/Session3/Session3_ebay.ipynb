{
 "cells": [
  {
   "cell_type": "code",
   "execution_count": null,
   "id": "e0903f8f",
   "metadata": {},
   "outputs": [],
   "source": [
    "from datascience import *"
   ]
  },
  {
   "cell_type": "markdown",
   "id": "91dd6bd7",
   "metadata": {},
   "source": [
    "### Q1.write code to import the table named 'ebay.csv' and assign the table to a variable called ebay, then display it"
   ]
  },
  {
   "cell_type": "code",
   "execution_count": null,
   "id": "2e820e83",
   "metadata": {},
   "outputs": [],
   "source": [
    "ebay = ...\n",
    "ebay"
   ]
  },
  {
   "cell_type": "markdown",
   "id": "5fc24c9d",
   "metadata": {},
   "source": [
    "### Q2. Debug the code below and describe what it does using comment"
   ]
  },
  {
   "cell_type": "code",
   "execution_count": null,
   "id": "d9cfba00",
   "metadata": {},
   "outputs": [],
   "source": [
    "ebay.where('Opening_Bid', are.above(60)) / ebay.num_rows"
   ]
  },
  {
   "cell_type": "markdown",
   "id": "79a60d75",
   "metadata": {},
   "source": [
    "### Q3. Debug the code below and describe what it does using comment"
   ]
  },
  {
   "cell_type": "code",
   "execution_count": null,
   "id": "dcd2e112",
   "metadata": {},
   "outputs": [],
   "source": [
    "ebay.column('Closing_Price') - ebay.select('Opening_Bid')"
   ]
  },
  {
   "cell_type": "markdown",
   "id": "c95b39a8",
   "metadata": {},
   "source": [
    "### Q4.\tAl really wants a new jacket, but his budget is only 150 dollars. To see whether eBay has had good deals on jackets historically, Al tries to filter the auction data such that it only contains jackets that were sold for a closing price less than 150 Dollars. He writes the following code to do so, but hasn’t realized the mistake he’s making. Help Al fix it so that your friend can hopefully get the jacket he deserves!"
   ]
  },
  {
   "cell_type": "code",
   "execution_count": null,
   "id": "4ccdf963",
   "metadata": {},
   "outputs": [],
   "source": [
    "only_jackets = ebay.where('Item', 'Jacket')\n",
    "jackets_under_price = ebay.where('Closing_Price', are.below(150))"
   ]
  },
  {
   "cell_type": "markdown",
   "id": "db44245e",
   "metadata": {},
   "source": [
    "### Q5. add a column that computes the difference between closing_price and opening_bid in %, e.g. if the openning_bid = 30 and the closing_price is 40,  you will output 33.3 (because (40-30)/30 = 33.3%)"
   ]
  },
  {
   "cell_type": "code",
   "execution_count": null,
   "id": "6718b1cf",
   "metadata": {},
   "outputs": [],
   "source": []
  }
 ],
 "metadata": {
  "kernelspec": {
   "display_name": "Python 3 (ipykernel)",
   "language": "python",
   "name": "python3"
  },
  "language_info": {
   "codemirror_mode": {
    "name": "ipython",
    "version": 3
   },
   "file_extension": ".py",
   "mimetype": "text/x-python",
   "name": "python",
   "nbconvert_exporter": "python",
   "pygments_lexer": "ipython3",
   "version": "3.11.5"
  }
 },
 "nbformat": 4,
 "nbformat_minor": 5
}
