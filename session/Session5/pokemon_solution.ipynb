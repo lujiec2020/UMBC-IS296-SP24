{
 "cells": [
  {
   "cell_type": "code",
   "execution_count": 2,
   "id": "69c91ac0",
   "metadata": {},
   "outputs": [],
   "source": [
    "from datascience import *\n",
    "import numpy as np\n",
    "#plotting functions\n",
    "%matplotlib inline\n",
    "import matplotlib.pyplot as plots\n",
    "plots.style.use('fivethirtyeight')\n",
    "import warnings\n",
    "warnings.simplefilter(action=\"ignore\", category=FutureWarning)"
   ]
  },
  {
   "cell_type": "code",
   "execution_count": 3,
   "id": "32e37809",
   "metadata": {},
   "outputs": [
    {
     "data": {
      "text/html": [
       "<table border=\"1\" class=\"dataframe\">\n",
       "    <thead>\n",
       "        <tr>\n",
       "            <th>#</th> <th>Name</th> <th>Type 1</th> <th>Type 2</th> <th>Total</th> <th>HP</th> <th>Attack</th> <th>Defense</th> <th>Sp. Atk</th> <th>Sp. Def</th> <th>Speed</th> <th>Generation</th> <th>Legendary</th>\n",
       "        </tr>\n",
       "    </thead>\n",
       "    <tbody>\n",
       "        <tr>\n",
       "            <td>1   </td> <td>Bulbasaur                </td> <td>Grass </td> <td>Poison</td> <td>318  </td> <td>45  </td> <td>49    </td> <td>49     </td> <td>65     </td> <td>65     </td> <td>45   </td> <td>1         </td> <td>False    </td>\n",
       "        </tr>\n",
       "        <tr>\n",
       "            <td>2   </td> <td>Ivysaur                  </td> <td>Grass </td> <td>Poison</td> <td>405  </td> <td>60  </td> <td>62    </td> <td>63     </td> <td>80     </td> <td>80     </td> <td>60   </td> <td>1         </td> <td>False    </td>\n",
       "        </tr>\n",
       "        <tr>\n",
       "            <td>3   </td> <td>Venusaur                 </td> <td>Grass </td> <td>Poison</td> <td>525  </td> <td>80  </td> <td>82    </td> <td>83     </td> <td>100    </td> <td>100    </td> <td>80   </td> <td>1         </td> <td>False    </td>\n",
       "        </tr>\n",
       "        <tr>\n",
       "            <td>3   </td> <td>VenusaurMega Venusaur    </td> <td>Grass </td> <td>Poison</td> <td>625  </td> <td>80  </td> <td>100   </td> <td>123    </td> <td>122    </td> <td>120    </td> <td>80   </td> <td>1         </td> <td>False    </td>\n",
       "        </tr>\n",
       "        <tr>\n",
       "            <td>4   </td> <td>Charmander               </td> <td>Fire  </td> <td>nan   </td> <td>309  </td> <td>39  </td> <td>52    </td> <td>43     </td> <td>60     </td> <td>50     </td> <td>65   </td> <td>1         </td> <td>False    </td>\n",
       "        </tr>\n",
       "        <tr>\n",
       "            <td>5   </td> <td>Charmeleon               </td> <td>Fire  </td> <td>nan   </td> <td>405  </td> <td>58  </td> <td>64    </td> <td>58     </td> <td>80     </td> <td>65     </td> <td>80   </td> <td>1         </td> <td>False    </td>\n",
       "        </tr>\n",
       "        <tr>\n",
       "            <td>6   </td> <td>Charizard                </td> <td>Fire  </td> <td>Flying</td> <td>534  </td> <td>78  </td> <td>84    </td> <td>78     </td> <td>109    </td> <td>85     </td> <td>100  </td> <td>1         </td> <td>False    </td>\n",
       "        </tr>\n",
       "        <tr>\n",
       "            <td>6   </td> <td>CharizardMega Charizard X</td> <td>Fire  </td> <td>Dragon</td> <td>634  </td> <td>78  </td> <td>130   </td> <td>111    </td> <td>130    </td> <td>85     </td> <td>100  </td> <td>1         </td> <td>False    </td>\n",
       "        </tr>\n",
       "        <tr>\n",
       "            <td>6   </td> <td>CharizardMega Charizard Y</td> <td>Fire  </td> <td>Flying</td> <td>634  </td> <td>78  </td> <td>104   </td> <td>78     </td> <td>159    </td> <td>115    </td> <td>100  </td> <td>1         </td> <td>False    </td>\n",
       "        </tr>\n",
       "        <tr>\n",
       "            <td>7   </td> <td>Squirtle                 </td> <td>Water </td> <td>nan   </td> <td>314  </td> <td>44  </td> <td>48    </td> <td>65     </td> <td>50     </td> <td>64     </td> <td>43   </td> <td>1         </td> <td>False    </td>\n",
       "        </tr>\n",
       "    </tbody>\n",
       "</table>\n",
       "<p>... (790 rows omitted)</p>"
      ],
      "text/plain": [
       "#    | Name                      | Type 1 | Type 2 | Total | HP   | Attack | Defense | Sp. Atk | Sp. Def | Speed | Generation | Legendary\n",
       "1    | Bulbasaur                 | Grass  | Poison | 318   | 45   | 49     | 49      | 65      | 65      | 45    | 1          | False\n",
       "2    | Ivysaur                   | Grass  | Poison | 405   | 60   | 62     | 63      | 80      | 80      | 60    | 1          | False\n",
       "3    | Venusaur                  | Grass  | Poison | 525   | 80   | 82     | 83      | 100     | 100     | 80    | 1          | False\n",
       "3    | VenusaurMega Venusaur     | Grass  | Poison | 625   | 80   | 100    | 123     | 122     | 120     | 80    | 1          | False\n",
       "4    | Charmander                | Fire   | nan    | 309   | 39   | 52     | 43      | 60      | 50      | 65    | 1          | False\n",
       "5    | Charmeleon                | Fire   | nan    | 405   | 58   | 64     | 58      | 80      | 65      | 80    | 1          | False\n",
       "6    | Charizard                 | Fire   | Flying | 534   | 78   | 84     | 78      | 109     | 85      | 100   | 1          | False\n",
       "6    | CharizardMega Charizard X | Fire   | Dragon | 634   | 78   | 130    | 111     | 130     | 85      | 100   | 1          | False\n",
       "6    | CharizardMega Charizard Y | Fire   | Flying | 634   | 78   | 104    | 78      | 159     | 115     | 100   | 1          | False\n",
       "7    | Squirtle                  | Water  | nan    | 314   | 44   | 48     | 65      | 50      | 64      | 43    | 1          | False\n",
       "... (790 rows omitted)"
      ]
     },
     "execution_count": 3,
     "metadata": {},
     "output_type": "execute_result"
    }
   ],
   "source": [
    "pokemon=Table.read_table('https://raw.githubusercontent.com/lujiec2020/UMBC-IS296-Fall2022/main/student-data/Pokemon.csv')\n",
    "pokemon"
   ]
  },
  {
   "cell_type": "markdown",
   "id": "7dbbad57",
   "metadata": {},
   "source": [
    "### How many Pokemon from the dataset identify as both grass and poison? (Satwik)"
   ]
  },
  {
   "cell_type": "code",
   "execution_count": 4,
   "id": "c5085c74",
   "metadata": {},
   "outputs": [
    {
     "data": {
      "text/plain": [
       "15"
      ]
     },
     "execution_count": 4,
     "metadata": {},
     "output_type": "execute_result"
    }
   ],
   "source": [
    "pokemon.where('Type 1','Grass').where('Type 2','Poison').num_rows"
   ]
  },
  {
   "cell_type": "markdown",
   "id": "767d715d",
   "metadata": {},
   "source": [
    "### Which type of Pokemon ( type 1) has the highest attack stat? (Dang)"
   ]
  },
  {
   "cell_type": "code",
   "execution_count": 10,
   "id": "8de0b22d",
   "metadata": {},
   "outputs": [
    {
     "data": {
      "text/plain": [
       "'Dragon'"
      ]
     },
     "execution_count": 10,
     "metadata": {},
     "output_type": "execute_result"
    }
   ],
   "source": [
    "pokemon.select('Type 1', 'Attack').group('Type 1',np.mean).sort('Attack mean', descending=True).column('Type 1')[0]"
   ]
  },
  {
   "cell_type": "markdown",
   "id": "b9dc46d6",
   "metadata": {},
   "source": [
    "### how many Pokemon have above-average attack tendency and defense tendency ? (Vigna)"
   ]
  },
  {
   "cell_type": "code",
   "execution_count": 13,
   "id": "53896760",
   "metadata": {},
   "outputs": [
    {
     "data": {
      "text/plain": [
       "237"
      ]
     },
     "execution_count": 13,
     "metadata": {},
     "output_type": "execute_result"
    }
   ],
   "source": [
    "mean_attack = np.mean(pokemon.column('Attack'))\n",
    "mean_defense = np.mean(pokemon.column('Defense'))\n",
    "pokemon.where('Attack', are.above_or_equal_to(mean_attack)).where('Defense', are.above_or_equal_to(mean_defense)).num_rows"
   ]
  },
  {
   "cell_type": "markdown",
   "id": "15ff5da0",
   "metadata": {},
   "source": [
    "### find all Pokeman belong to the legendary category (Gabe)"
   ]
  },
  {
   "cell_type": "code",
   "execution_count": 17,
   "id": "be50ce0b",
   "metadata": {},
   "outputs": [
    {
     "data": {
      "text/plain": [
       "array(['Articuno', 'Zapdos', 'Moltres', 'Mewtwo', 'MewtwoMega Mewtwo X',\n",
       "       'MewtwoMega Mewtwo Y', 'Raikou', 'Entei', 'Suicune', 'Lugia',\n",
       "       'Ho-oh', 'Regirock', 'Regice', 'Registeel', 'Latias',\n",
       "       'LatiasMega Latias', 'Latios', 'LatiosMega Latios', 'Kyogre',\n",
       "       'KyogrePrimal Kyogre', 'Groudon', 'GroudonPrimal Groudon',\n",
       "       'Rayquaza', 'RayquazaMega Rayquaza', 'Jirachi',\n",
       "       'DeoxysNormal Forme', 'DeoxysAttack Forme', 'DeoxysDefense Forme',\n",
       "       'DeoxysSpeed Forme', 'Uxie', 'Mesprit', 'Azelf', 'Dialga', 'Palkia',\n",
       "       'Heatran', 'Regigigas', 'GiratinaAltered Forme',\n",
       "       'GiratinaOrigin Forme', 'Darkrai', 'ShayminLand Forme',\n",
       "       'ShayminSky Forme', 'Arceus', 'Victini', 'Cobalion', 'Terrakion',\n",
       "       'Virizion', 'TornadusIncarnate Forme', 'TornadusTherian Forme',\n",
       "       'ThundurusIncarnate Forme', 'ThundurusTherian Forme', 'Reshiram',\n",
       "       'Zekrom', 'LandorusIncarnate Forme', 'LandorusTherian Forme',\n",
       "       'Kyurem', 'KyuremBlack Kyurem', 'KyuremWhite Kyurem', 'Xerneas',\n",
       "       'Yveltal', 'Zygarde50% Forme', 'Diancie', 'DiancieMega Diancie',\n",
       "       'HoopaHoopa Confined', 'HoopaHoopa Unbound', 'Volcanion'],\n",
       "      dtype='<U25')"
      ]
     },
     "execution_count": 17,
     "metadata": {},
     "output_type": "execute_result"
    }
   ],
   "source": [
    "pokemon.where('Legendary', True).column('Name')"
   ]
  },
  {
   "cell_type": "markdown",
   "id": "b0a7a08b",
   "metadata": {},
   "source": [
    "### for each of type 1, what is the higest speed ? (Julie, modified)"
   ]
  },
  {
   "cell_type": "code",
   "execution_count": 18,
   "id": "f49a0f39",
   "metadata": {},
   "outputs": [
    {
     "data": {
      "text/html": [
       "<table border=\"1\" class=\"dataframe\">\n",
       "    <thead>\n",
       "        <tr>\n",
       "            <th>Type 1</th> <th>Speed amax</th>\n",
       "        </tr>\n",
       "    </thead>\n",
       "    <tbody>\n",
       "        <tr>\n",
       "            <td>Bug     </td> <td>160       </td>\n",
       "        </tr>\n",
       "        <tr>\n",
       "            <td>Dark    </td> <td>125       </td>\n",
       "        </tr>\n",
       "        <tr>\n",
       "            <td>Dragon  </td> <td>120       </td>\n",
       "        </tr>\n",
       "        <tr>\n",
       "            <td>Electric</td> <td>140       </td>\n",
       "        </tr>\n",
       "        <tr>\n",
       "            <td>Fairy   </td> <td>99        </td>\n",
       "        </tr>\n",
       "        <tr>\n",
       "            <td>Fighting</td> <td>118       </td>\n",
       "        </tr>\n",
       "        <tr>\n",
       "            <td>Fire    </td> <td>126       </td>\n",
       "        </tr>\n",
       "        <tr>\n",
       "            <td>Flying  </td> <td>123       </td>\n",
       "        </tr>\n",
       "        <tr>\n",
       "            <td>Ghost   </td> <td>130       </td>\n",
       "        </tr>\n",
       "        <tr>\n",
       "            <td>Grass   </td> <td>145       </td>\n",
       "        </tr>\n",
       "    </tbody>\n",
       "</table>\n",
       "<p>... (8 rows omitted)</p>"
      ],
      "text/plain": [
       "Type 1   | Speed amax\n",
       "Bug      | 160\n",
       "Dark     | 125\n",
       "Dragon   | 120\n",
       "Electric | 140\n",
       "Fairy    | 99\n",
       "Fighting | 118\n",
       "Fire     | 126\n",
       "Flying   | 123\n",
       "Ghost    | 130\n",
       "Grass    | 145\n",
       "... (8 rows omitted)"
      ]
     },
     "execution_count": 18,
     "metadata": {},
     "output_type": "execute_result"
    }
   ],
   "source": [
    "pokemon.select('Type 1', 'Speed').group('Type 1', np.max)"
   ]
  },
  {
   "cell_type": "markdown",
   "id": "ffa03502",
   "metadata": {},
   "source": [
    "### for Pokemon in each type (type1 and type2), creating a cross tabulation, and find thier average HP (Karen)"
   ]
  },
  {
   "cell_type": "code",
   "execution_count": 20,
   "id": "633c4f22",
   "metadata": {},
   "outputs": [
    {
     "data": {
      "text/html": [
       "<table border=\"1\" class=\"dataframe\">\n",
       "    <thead>\n",
       "        <tr>\n",
       "            <th>Type 2</th> <th>Bug</th> <th>Dark</th> <th>Dragon</th> <th>Electric</th> <th>Fairy</th> <th>Fighting</th> <th>Fire</th> <th>Flying</th> <th>Ghost</th> <th>Grass</th> <th>Ground</th> <th>Ice</th> <th>Normal</th> <th>Poison</th> <th>Psychic</th> <th>Rock</th> <th>Steel</th> <th>Water</th>\n",
       "        </tr>\n",
       "    </thead>\n",
       "    <tbody>\n",
       "        <tr>\n",
       "            <td>Bug     </td> <td>0   </td> <td>0   </td> <td>0      </td> <td>0       </td> <td>0    </td> <td>0       </td> <td>0   </td> <td>0     </td> <td>0      </td> <td>0      </td> <td>0      </td> <td>0   </td> <td>0      </td> <td>40     </td> <td>0      </td> <td>60  </td> <td>0      </td> <td>0      </td>\n",
       "        </tr>\n",
       "        <tr>\n",
       "            <td>Dark    </td> <td>0   </td> <td>0   </td> <td>0      </td> <td>0       </td> <td>0    </td> <td>95      </td> <td>0   </td> <td>0     </td> <td>50     </td> <td>76.6667</td> <td>68.3333</td> <td>0   </td> <td>0      </td> <td>78.6667</td> <td>80     </td> <td>100 </td> <td>0      </td> <td>69.1667</td>\n",
       "        </tr>\n",
       "        <tr>\n",
       "            <td>Dragon  </td> <td>0   </td> <td>72  </td> <td>0      </td> <td>90      </td> <td>0    </td> <td>0       </td> <td>78  </td> <td>62.5  </td> <td>150    </td> <td>70     </td> <td>65     </td> <td>0   </td> <td>0      </td> <td>65     </td> <td>0      </td> <td>70  </td> <td>100    </td> <td>82.5   </td>\n",
       "        </tr>\n",
       "        <tr>\n",
       "            <td>Electric</td> <td>60  </td> <td>0   </td> <td>100    </td> <td>0       </td> <td>0    </td> <td>0       </td> <td>0   </td> <td>0     </td> <td>0      </td> <td>0      </td> <td>109    </td> <td>0   </td> <td>0      </td> <td>0      </td> <td>0      </td> <td>0   </td> <td>0      </td> <td>100    </td>\n",
       "        </tr>\n",
       "        <tr>\n",
       "            <td>Fairy   </td> <td>0   </td> <td>0   </td> <td>75     </td> <td>67      </td> <td>0    </td> <td>0       </td> <td>0   </td> <td>0     </td> <td>0      </td> <td>50     </td> <td>0      </td> <td>0   </td> <td>99.6   </td> <td>0      </td> <td>43.6667</td> <td>50  </td> <td>52.3333</td> <td>85     </td>\n",
       "        </tr>\n",
       "        <tr>\n",
       "            <td>Fighting</td> <td>80  </td> <td>57.5</td> <td>0      </td> <td>0       </td> <td>0    </td> <td>0       </td> <td>80  </td> <td>0     </td> <td>0      </td> <td>79.6667</td> <td>0      </td> <td>0   </td> <td>82.5   </td> <td>65.5   </td> <td>80.6667</td> <td>91  </td> <td>91     </td> <td>90.6667</td>\n",
       "        </tr>\n",
       "        <tr>\n",
       "            <td>Fire    </td> <td>70  </td> <td>65  </td> <td>100    </td> <td>50      </td> <td>0    </td> <td>0       </td> <td>0   </td> <td>0     </td> <td>56.6667</td> <td>0      </td> <td>100    </td> <td>0   </td> <td>0      </td> <td>0      </td> <td>100    </td> <td>0   </td> <td>0      </td> <td>0      </td>\n",
       "        </tr>\n",
       "        <tr>\n",
       "            <td>Flying  </td> <td>63  </td> <td>93.2</td> <td>94.3333</td> <td>70.6    </td> <td>70   </td> <td>78      </td> <td>82  </td> <td>0     </td> <td>120    </td> <td>72.8   </td> <td>79.5   </td> <td>67.5</td> <td>62.0417</td> <td>66.6667</td> <td>67.5   </td> <td>72.5</td> <td>65     </td> <td>63.1429</td>\n",
       "        </tr>\n",
       "        <tr>\n",
       "            <td>Ghost   </td> <td>1   </td> <td>50  </td> <td>0      </td> <td>50      </td> <td>0    </td> <td>0       </td> <td>0   </td> <td>0     </td> <td>0      </td> <td>0      </td> <td>74     </td> <td>70  </td> <td>0      </td> <td>0      </td> <td>80     </td> <td>0   </td> <td>56     </td> <td>77.5   </td>\n",
       "        </tr>\n",
       "        <tr>\n",
       "            <td>Grass   </td> <td>55  </td> <td>0   </td> <td>0      </td> <td>50      </td> <td>0    </td> <td>0       </td> <td>0   </td> <td>0     </td> <td>61.4   </td> <td>0      </td> <td>0      </td> <td>0   </td> <td>70     </td> <td>0      </td> <td>100    </td> <td>76  </td> <td>0      </td> <td>60     </td>\n",
       "        </tr>\n",
       "    </tbody>\n",
       "</table>\n",
       "<p>... (9 rows omitted)</p>"
      ],
      "text/plain": [
       "Type 2   | Bug  | Dark | Dragon  | Electric | Fairy | Fighting | Fire | Flying | Ghost   | Grass   | Ground  | Ice  | Normal  | Poison  | Psychic | Rock | Steel   | Water\n",
       "Bug      | 0    | 0    | 0       | 0        | 0     | 0        | 0    | 0      | 0       | 0       | 0       | 0    | 0       | 40      | 0       | 60   | 0       | 0\n",
       "Dark     | 0    | 0    | 0       | 0        | 0     | 95       | 0    | 0      | 50      | 76.6667 | 68.3333 | 0    | 0       | 78.6667 | 80      | 100  | 0       | 69.1667\n",
       "Dragon   | 0    | 72   | 0       | 90       | 0     | 0        | 78   | 62.5   | 150     | 70      | 65      | 0    | 0       | 65      | 0       | 70   | 100     | 82.5\n",
       "Electric | 60   | 0    | 100     | 0        | 0     | 0        | 0    | 0      | 0       | 0       | 109     | 0    | 0       | 0       | 0       | 0    | 0       | 100\n",
       "Fairy    | 0    | 0    | 75      | 67       | 0     | 0        | 0    | 0      | 0       | 50      | 0       | 0    | 99.6    | 0       | 43.6667 | 50   | 52.3333 | 85\n",
       "Fighting | 80   | 57.5 | 0       | 0        | 0     | 0        | 80   | 0      | 0       | 79.6667 | 0       | 0    | 82.5    | 65.5    | 80.6667 | 91   | 91      | 90.6667\n",
       "Fire     | 70   | 65   | 100     | 50       | 0     | 0        | 0    | 0      | 56.6667 | 0       | 100     | 0    | 0       | 0       | 100     | 0    | 0       | 0\n",
       "Flying   | 63   | 93.2 | 94.3333 | 70.6     | 70    | 78       | 82   | 0      | 120     | 72.8    | 79.5    | 67.5 | 62.0417 | 66.6667 | 67.5    | 72.5 | 65      | 63.1429\n",
       "Ghost    | 1    | 50   | 0       | 50       | 0     | 0        | 0    | 0      | 0       | 0       | 74      | 70   | 0       | 0       | 80      | 0    | 56      | 77.5\n",
       "Grass    | 55   | 0    | 0       | 50       | 0     | 0        | 0    | 0      | 61.4    | 0       | 0       | 0    | 70      | 0       | 100     | 76   | 0       | 60\n",
       "... (9 rows omitted)"
      ]
     },
     "execution_count": 20,
     "metadata": {},
     "output_type": "execute_result"
    }
   ],
   "source": [
    "pokemon.pivot('Type 1', 'Type 2', 'HP', np.mean)"
   ]
  },
  {
   "cell_type": "markdown",
   "id": "0b1bf7d4",
   "metadata": {},
   "source": [
    "### What percent of pokemons have att speed over 85 and def over 30 (Daniel)"
   ]
  },
  {
   "cell_type": "code",
   "execution_count": 23,
   "id": "46849c6f",
   "metadata": {},
   "outputs": [
    {
     "data": {
      "text/plain": [
       "0.275"
      ]
     },
     "execution_count": 23,
     "metadata": {},
     "output_type": "execute_result"
    }
   ],
   "source": [
    "pokemon.where('Speed',are.above(85)).where('Defense', are.above(30)).num_rows/pokemon.num_rows"
   ]
  }
 ],
 "metadata": {
  "kernelspec": {
   "display_name": "Python 3 (ipykernel)",
   "language": "python",
   "name": "python3"
  },
  "language_info": {
   "codemirror_mode": {
    "name": "ipython",
    "version": 3
   },
   "file_extension": ".py",
   "mimetype": "text/x-python",
   "name": "python",
   "nbconvert_exporter": "python",
   "pygments_lexer": "ipython3",
   "version": "3.11.5"
  }
 },
 "nbformat": 4,
 "nbformat_minor": 5
}
