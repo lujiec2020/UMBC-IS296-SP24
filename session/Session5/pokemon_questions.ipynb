{
 "cells": [
  {
   "cell_type": "code",
   "execution_count": null,
   "id": "69c91ac0",
   "metadata": {},
   "outputs": [],
   "source": [
    "from datascience import *\n",
    "import numpy as np\n",
    "#plotting functions\n",
    "%matplotlib inline\n",
    "import matplotlib.pyplot as plots\n",
    "plots.style.use('fivethirtyeight')\n",
    "import warnings\n",
    "warnings.simplefilter(action=\"ignore\", category=FutureWarning)"
   ]
  },
  {
   "cell_type": "code",
   "execution_count": null,
   "id": "32e37809",
   "metadata": {},
   "outputs": [],
   "source": [
    "pokemon=Table.read_table('https://raw.githubusercontent.com/lujiec2020/UMBC-IS296-Fall2022/main/student-data/Pokemon.csv')\n",
    "pokemon"
   ]
  },
  {
   "cell_type": "markdown",
   "id": "7dbbad57",
   "metadata": {},
   "source": [
    "### How many Pokemon from the dataset identify as both grass and poison? (Satwik)"
   ]
  },
  {
   "cell_type": "code",
   "execution_count": null,
   "id": "c5085c74",
   "metadata": {},
   "outputs": [],
   "source": [
    "..."
   ]
  },
  {
   "cell_type": "markdown",
   "id": "767d715d",
   "metadata": {},
   "source": [
    "### Which type of Pokemon ( type 1) has the highest attack stat? (Dang)"
   ]
  },
  {
   "cell_type": "code",
   "execution_count": null,
   "id": "8de0b22d",
   "metadata": {},
   "outputs": [],
   "source": [
    "..."
   ]
  },
  {
   "cell_type": "markdown",
   "id": "b9dc46d6",
   "metadata": {},
   "source": [
    "### how many Pokemon have above-average attack tendency and defense tendency ? (Vigna)"
   ]
  },
  {
   "cell_type": "code",
   "execution_count": null,
   "id": "53896760",
   "metadata": {},
   "outputs": [],
   "source": [
    "..."
   ]
  },
  {
   "cell_type": "markdown",
   "id": "15ff5da0",
   "metadata": {},
   "source": [
    "### find all Pokeman belong to the legendary category (Gabe)"
   ]
  },
  {
   "cell_type": "code",
   "execution_count": null,
   "id": "be50ce0b",
   "metadata": {},
   "outputs": [],
   "source": [
    "..."
   ]
  },
  {
   "cell_type": "markdown",
   "id": "b0a7a08b",
   "metadata": {},
   "source": [
    "### for each of type 1, what is the higest speed ? (Julie, modified)"
   ]
  },
  {
   "cell_type": "code",
   "execution_count": null,
   "id": "f49a0f39",
   "metadata": {},
   "outputs": [],
   "source": [
    "..."
   ]
  },
  {
   "cell_type": "markdown",
   "id": "ffa03502",
   "metadata": {},
   "source": [
    "### for Pokemon in each type (type1 and type2), creating a cross tabulation, and find thier average HP (Karen)"
   ]
  },
  {
   "cell_type": "code",
   "execution_count": null,
   "id": "633c4f22",
   "metadata": {},
   "outputs": [],
   "source": [
    "..."
   ]
  },
  {
   "cell_type": "markdown",
   "id": "0b1bf7d4",
   "metadata": {},
   "source": [
    "### What percent of pokemons have att speed over 85 and def over 30 (Daniel)"
   ]
  },
  {
   "cell_type": "code",
   "execution_count": null,
   "id": "46849c6f",
   "metadata": {},
   "outputs": [],
   "source": [
    "..."
   ]
  }
 ],
 "metadata": {
  "kernelspec": {
   "display_name": "Python 3 (ipykernel)",
   "language": "python",
   "name": "python3"
  },
  "language_info": {
   "codemirror_mode": {
    "name": "ipython",
    "version": 3
   },
   "file_extension": ".py",
   "mimetype": "text/x-python",
   "name": "python",
   "nbconvert_exporter": "python",
   "pygments_lexer": "ipython3",
   "version": "3.11.5"
  }
 },
 "nbformat": 4,
 "nbformat_minor": 5
}
