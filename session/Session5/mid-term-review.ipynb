{
 "cells": [
  {
   "cell_type": "code",
   "execution_count": null,
   "id": "69c91ac0",
   "metadata": {},
   "outputs": [],
   "source": [
    "from datascience import *\n",
    "import numpy as np\n",
    "#plotting functions\n",
    "%matplotlib inline\n",
    "import matplotlib.pyplot as plots\n",
    "plots.style.use('fivethirtyeight')\n",
    "import warnings\n",
    "warnings.simplefilter(action=\"ignore\", category=FutureWarning)"
   ]
  },
  {
   "cell_type": "code",
   "execution_count": null,
   "id": "38ea80ef",
   "metadata": {},
   "outputs": [],
   "source": [
    "#actor \n",
    "Actors= Table.read_table('https://raw.githubusercontent.com/lujiec2020/UMBC-IS296-Fall2022/main/data/actors.csv')\n",
    "Actors"
   ]
  },
  {
   "cell_type": "code",
   "execution_count": null,
   "id": "9bd3f8df",
   "metadata": {},
   "outputs": [],
   "source": [
    "#candy data\n",
    "candy = Table.read_table('https://raw.githubusercontent.com/lujiec2020/UMBC-IS296-Fall2022/main/student-data/halloween-candy-data.csv')\n",
    "candy"
   ]
  },
  {
   "cell_type": "code",
   "execution_count": null,
   "id": "33ecd3ce",
   "metadata": {},
   "outputs": [],
   "source": [
    "#NBA \n",
    "nba = Table.read_table ('https://raw.githubusercontent.com/lujiec2020/UMBC-IS296-Fall2022/main/student-data/2021-2022_NBA_Player_Stats_Playoffs.csv')\n",
    "nba"
   ]
  },
  {
   "cell_type": "code",
   "execution_count": null,
   "id": "738332ca",
   "metadata": {},
   "outputs": [],
   "source": [
    "#Cereal \n",
    "cereal = Table.read_table('https://raw.githubusercontent.com/lujiec2020/UMBC-IS296-Fall2022/main/student-data/cereal.csv')\n",
    "cereal"
   ]
  },
  {
   "cell_type": "code",
   "execution_count": null,
   "id": "32e37809",
   "metadata": {},
   "outputs": [],
   "source": [
    "#Pokemon \n",
    "pokemon=Table.read_table('https://raw.githubusercontent.com/lujiec2020/UMBC-IS296-Fall2022/main/student-data/Pokemon.csv')\n",
    "pokemon"
   ]
  },
  {
   "cell_type": "code",
   "execution_count": null,
   "id": "10680bd2",
   "metadata": {},
   "outputs": [],
   "source": [
    "#soccer_player\n",
    "soccer_player = Table.read_table('https://raw.githubusercontent.com/lujiec2020/UMBC-IS296-Fall2022/main/student-data/soccer_player_cleaned.csv')\n",
    "soccer_player"
   ]
  }
 ],
 "metadata": {
  "kernelspec": {
   "display_name": "Python 3 (ipykernel)",
   "language": "python",
   "name": "python3"
  },
  "language_info": {
   "codemirror_mode": {
    "name": "ipython",
    "version": 3
   },
   "file_extension": ".py",
   "mimetype": "text/x-python",
   "name": "python",
   "nbconvert_exporter": "python",
   "pygments_lexer": "ipython3",
   "version": "3.11.5"
  }
 },
 "nbformat": 4,
 "nbformat_minor": 5
}
