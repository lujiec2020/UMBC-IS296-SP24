{
 "cells": [
  {
   "cell_type": "markdown",
   "metadata": {
    "id": "nVtH1e0kyNfd"
   },
   "source": [
    "# Welcome\n",
    "\n",
    "To run a cell, you may hit SHIFT + RETURN Button to click the run button on the upper left corner of the cell\n",
    "\n",
    "*Can you figure out how to change the color of the message?*"
   ]
  },
  {
   "cell_type": "code",
   "execution_count": null,
   "metadata": {
    "colab": {
     "base_uri": "https://localhost:8080/",
     "height": 38
    },
    "id": "2CmwfG7WyEZW",
    "outputId": "5cb732cf-1f62-4df3-b02e-e6decd6d6596"
   },
   "outputs": [],
   "source": [
    "%%html\n",
    "<marquee style='width: 20%; color: green;'><b>Welcome to The Wonderful Awesome World of Data Science</b></marquee>"
   ]
  },
  {
   "cell_type": "markdown",
   "metadata": {
    "id": "vznvU7_IOp5s"
   },
   "source": [
    "# Setup\n",
    "Just run the following cells once for installation and loading packages\n",
    "\n",
    "Either click the run button or hit SHIFT + RETURN"
   ]
  },
  {
   "cell_type": "code",
   "execution_count": null,
   "metadata": {
    "id": "EavO4a_XxETl"
   },
   "outputs": [],
   "source": [
    "# data science package\n",
    "#!pip install datascience\n",
    "from datascience import *\n",
    "import numpy as np\n",
    "#plotting functions\n",
    "%matplotlib inline\n",
    "import matplotlib.pyplot as plots\n",
    "plots.style.use('fivethirtyeight')\n",
    "import warnings\n",
    "warnings.simplefilter(action=\"ignore\", category=FutureWarning)\n"
   ]
  },
  {
   "cell_type": "code",
   "execution_count": null,
   "metadata": {
    "id": "gF1ZVqZpdVcq"
   },
   "outputs": [],
   "source": [
    "#Google text to speech package\n",
    "!pip install gTTS\n",
    "from gtts import gTTS #Import Google Text to Speech\n",
    "from IPython.display import Audio #Import Audio method from IPython's Display Class"
   ]
  },
  {
   "cell_type": "markdown",
   "metadata": {
    "id": "6k3464H0bWRU"
   },
   "source": [
    "# 1. Warm up - Say Hello\n",
    "This will allow you type your name and ask Google to say hello to you using text to speech\n"
   ]
  },
  {
   "cell_type": "code",
   "execution_count": null,
   "metadata": {
    "colab": {
     "base_uri": "https://localhost:8080/",
     "height": 258
    },
    "id": "c2-M4fFddwv2",
    "outputId": "b9d8e755-1cd6-46cb-be3b-2ece29e0c5dc"
   },
   "outputs": [],
   "source": [
    "# replace this array with the first name of your group members\n",
    "names = make_array('Sabrina','Iris','CJ','Harshini')\n",
    "# change the index so that Google can say hello each of your group members, you may also change the greetings\n",
    "speech = 'Hello ' + names[2] + ' how are you today'\n",
    "speech\n",
    "\n",
    "#tts = gTTS(speech)\n",
    "#tts.save('1.wav')\n",
    "#sound_file = '1.wav'\n",
    "#Audio(sound_file, autoplay=True)"
   ]
  },
  {
   "cell_type": "markdown",
   "metadata": {
    "id": "kCMgj8cFwOFB"
   },
   "source": [
    "# 2. Warm Up - Would You Rather\n",
    "Take turn among your group members.\n",
    "\n",
    "Run the following cell will spit out a random would-you-rather question. Have fun!"
   ]
  },
  {
   "cell_type": "code",
   "execution_count": null,
   "metadata": {
    "colab": {
     "base_uri": "https://localhost:8080/"
    },
    "id": "xTQNPVKdPZdN",
    "outputId": "37e64be4-07f0-4b96-c482-07f63e229992"
   },
   "outputs": [],
   "source": [
    "url = 'https://raw.githubusercontent.com/lujiec2020/UMBC-IS296-Spring2022/main/data/would-you-rather.csv'\n",
    "question_table = Table.read_table(url)\n",
    "n = question_table.num_rows\n",
    "random_number = np.random.randint(0,n-1)\n",
    "question = question_table.column('questions')[random_number]\n",
    "print (question)"
   ]
  },
  {
   "cell_type": "markdown",
   "metadata": {},
   "source": [
    "# Ex1: Variables, Data Type and Array (Buggy)"
   ]
  },
  {
   "cell_type": "code",
   "execution_count": null,
   "metadata": {},
   "outputs": [],
   "source": [
    "# Ingredients\n",
    "sugar = 100  # grams\n",
    "spice = 50   # grams\n",
    "chocolate = 5 # grams\n",
    "\n",
    "# Recipe List\n",
    "recipe = make_array(sugar, spice, chocolate)\n",
    "recipe_descriptio = \"To make the cookie dough, we need: \" + sugar + ' grams of sugar' + spice + ' grams of spice'\n",
    "recipe_description"
   ]
  },
  {
   "cell_type": "code",
   "execution_count": null,
   "metadata": {},
   "outputs": [],
   "source": [
    "#can you update the recipe with more sugar?"
   ]
  },
  {
   "cell_type": "markdown",
   "metadata": {},
   "source": [
    "# Ex 2: Control Structure: If ... Then and Functions (Buggy)"
   ]
  },
  {
   "cell_type": "code",
   "execution_count": null,
   "metadata": {},
   "outputs": [],
   "source": [
    "# Ask for user input\n",
    "#What's the group's mood tonight? (light, adventurous, scary)\n",
    "mood = input(\"What's the group's mood tonight? (light, adventurous, scary)\")\n",
    "\n",
    "# Decide on the movie genre\n",
    "if mood == \"light\"\n",
    "    genre = \"comedy\"\n",
    "elif mood == \"adventurous\":\n",
    "    genre = \"action or adventure\"\n",
    "elif mood == \"scary\":\n",
    "    genre = \"horror\"\n",
    "else:\n",
    "    genre = \"documentary\"  # Default suggestion\n",
    "\n",
    "# Display the movie suggestion\n",
    "print(f\"Based on the group's mood, we suggest watching a {genre} movie tonight!\")\n"
   ]
  },
  {
   "cell_type": "code",
   "execution_count": null,
   "metadata": {},
   "outputs": [],
   "source": [
    "#wrap the code into a function \n",
    "def suggest_movie_genre(mood):\n",
    "    if mood == \"light\":\n",
    "        genre = \"comedy\"\n",
    "    elif mood == \"adventurous\":\n",
    "        genre = \"action or adventure\"\n",
    "    elif mood == \"scary\":\n",
    "        genre = \"horror\"\n",
    "    else:\n",
    "        genre = \"documentary\"  # Default suggestion\n",
    "\n",
    "    return f\"Based on the mood, we suggest watching a {genre} movie tonight!\"\n",
    "\n",
    "# Example usage:\n",
    "mood_input = input(\"What's the group's mood tonight? (light, adventurous, scary): \")\n",
    "print(suggest_movie_genre(mood_input))\n"
   ]
  },
  {
   "cell_type": "markdown",
   "metadata": {},
   "source": [
    "# Ex3. Basic Table Functions"
   ]
  },
  {
   "cell_type": "code",
   "execution_count": null,
   "metadata": {},
   "outputs": [],
   "source": [
    "# Import the required package\n",
    "from datascience import *\n",
    "\n",
    "# Create a table\n",
    "tbl = Table().with_columns(\n",
    "    \"Title\", make_array(\"Inception\", \"The Matrix\", \"Interstellar\", \"The Prestige\"),\n",
    "    \"Genre\", make_array(\"Sci-Fi\", \"Sci-Fi\", \"Sci-Fi\", \"Mystery\"),\n",
    "    \"Year\", make_array(2010, 1999, 2014, 2006),\n",
    "    \"Rating\", make_array(8.8, 8.7, 8.6, 8.5)\n",
    ")\n",
    "\n",
    "tbl"
   ]
  },
  {
   "cell_type": "code",
   "execution_count": null,
   "metadata": {
    "colab": {
     "base_uri": "https://localhost:8080/",
     "height": 412
    },
    "id": "eK2rBTImfckf",
    "outputId": "383fa0c3-9742-4ec9-d875-23763e50267b"
   },
   "outputs": [],
   "source": [
    "tbl = Table.read_table('https://raw.githubusercontent.com/lujiec2020/UMBC-IS296-Fall2022/main/student-data/championsdata.csv')\n",
    "tbl"
   ]
  },
  {
   "cell_type": "code",
   "execution_count": null,
   "metadata": {
    "colab": {
     "base_uri": "https://localhost:8080/",
     "height": 1000
    },
    "id": "yztyXu6QkmBF",
    "outputId": "9068c615-4116-4038-c590-f729da788cab"
   },
   "outputs": [],
   "source": [
    "tbl = Table.read_table('https://raw.githubusercontent.com/lujiec2020/UMBC-IS296-Fall2022/main/student-data/netflix_clean.csv')\n",
    "tbl"
   ]
  },
  {
   "cell_type": "code",
   "execution_count": null,
   "metadata": {
    "colab": {
     "base_uri": "https://localhost:8080/",
     "height": 392
    },
    "id": "-NXQts-osyQP",
    "outputId": "264793bd-ec79-4fd3-b489-ee35b7dff54f"
   },
   "outputs": [],
   "source": [
    "tbl = Table.read_table('https://raw.githubusercontent.com/lujiec2020/UMBC-IS296-Fall2022/main/data/actors.csv')\n",
    "tbl\n"
   ]
  },
  {
   "cell_type": "code",
   "execution_count": null,
   "metadata": {
    "colab": {
     "base_uri": "https://localhost:8080/",
     "height": 499
    },
    "id": "IWr_BZpifmgq",
    "outputId": "01ac0c1b-fd2e-4e80-c455-48c81fec5840"
   },
   "outputs": [],
   "source": [
    "#playoff\n",
    "tbl = Table.read_table('https://raw.githubusercontent.com/lujiec2020/UMBC-IS296-Fall2022/main/student-data/2021-2022_NBA_Player_Stats_Playoffs.csv')\n",
    "tbl"
   ]
  },
  {
   "cell_type": "code",
   "execution_count": null,
   "metadata": {
    "colab": {
     "base_uri": "https://localhost:8080/",
     "height": 392
    },
    "id": "akBu3dBl_Dk7",
    "outputId": "50512eef-8750-4312-bd84-cca8ee321b0d"
   },
   "outputs": [],
   "source": [
    "tbl = Table.read_table('/content/drive/MyDrive/demo/296-data/billionaires.csv')\n",
    "tbl"
   ]
  }
 ],
 "metadata": {
  "colab": {
   "collapsed_sections": [
    "vznvU7_IOp5s",
    "6k3464H0bWRU"
   ],
   "provenance": []
  },
  "kernelspec": {
   "display_name": "Python 3 (ipykernel)",
   "language": "python",
   "name": "python3"
  },
  "language_info": {
   "codemirror_mode": {
    "name": "ipython",
    "version": 3
   },
   "file_extension": ".py",
   "mimetype": "text/x-python",
   "name": "python",
   "nbconvert_exporter": "python",
   "pygments_lexer": "ipython3",
   "version": "3.11.5"
  }
 },
 "nbformat": 4,
 "nbformat_minor": 1
}
