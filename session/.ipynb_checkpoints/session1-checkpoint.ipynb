{
 "cells": [
  {
   "cell_type": "markdown",
   "metadata": {
    "id": "nVtH1e0kyNfd"
   },
   "source": [
    "# Welcome\n",
    "\n",
    "To run a cell, you may hit SHIFT + RETURN Button to click the run button on the upper left corner of the cell\n",
    "\n",
    "*Can you figure out how to change the color of the message?*"
   ]
  },
  {
   "cell_type": "code",
   "execution_count": 2,
   "metadata": {
    "colab": {
     "base_uri": "https://localhost:8080/",
     "height": 38
    },
    "id": "2CmwfG7WyEZW",
    "outputId": "5cb732cf-1f62-4df3-b02e-e6decd6d6596"
   },
   "outputs": [
    {
     "data": {
      "text/html": [
       "<marquee style='width: 20%; color: green;'><b>Welcome to The Wonderful Awesome World of Data Science</b></marquee>\n"
      ],
      "text/plain": [
       "<IPython.core.display.HTML object>"
      ]
     },
     "metadata": {},
     "output_type": "display_data"
    }
   ],
   "source": [
    "%%html\n",
    "<marquee style='width: 20%; color: green;'><b>Welcome to The Wonderful Awesome World of Data Science</b></marquee>"
   ]
  },
  {
   "cell_type": "markdown",
   "metadata": {
    "id": "vznvU7_IOp5s"
   },
   "source": [
    "# Setup\n",
    "Just run the following cells once for installation and loading packages\n",
    "\n",
    "Either click the run button or hit SHIFT + RETURN"
   ]
  },
  {
   "cell_type": "code",
   "execution_count": 1,
   "metadata": {
    "id": "EavO4a_XxETl"
   },
   "outputs": [],
   "source": [
    "# data science package\n",
    "#!pip install datascience\n",
    "from datascience import *\n",
    "import numpy as np\n",
    "#plotting functions\n",
    "%matplotlib inline\n",
    "import matplotlib.pyplot as plots\n",
    "plots.style.use('fivethirtyeight')\n",
    "import warnings\n",
    "warnings.simplefilter(action=\"ignore\", category=FutureWarning)\n"
   ]
  },
  {
   "cell_type": "code",
   "execution_count": null,
   "metadata": {
    "id": "r4kGzz044Piz"
   },
   "outputs": [],
   "source": []
  },
  {
   "cell_type": "code",
   "execution_count": null,
   "metadata": {
    "colab": {
     "base_uri": "https://localhost:8080/"
    },
    "id": "b_H4fz5o4amA",
    "outputId": "21826bce-84cf-4b81-f40d-13560bf44847"
   },
   "outputs": [
    {
     "data": {
      "text/html": [
       "<table border=\"1\" class=\"dataframe\">\n",
       "    <thead>\n",
       "        <tr>\n",
       "            <th>Name</th> <th>Club</th> <th>Nationality</th> <th>Position</th> <th>Age</th> <th>Matches</th> <th>Starts</th> <th>Mins</th> <th>Goals</th> <th>Assists</th> <th>Passes_Attempted</th> <th>Perc_Passes_Completed</th> <th>Penalty_Goals</th> <th>Penalty_Attempted</th> <th>xG</th> <th>xA</th> <th>Yellow_Cards</th> <th>Red_Cards</th>\n",
       "        </tr>\n",
       "    </thead>\n",
       "    <tbody>\n",
       "        <tr>\n",
       "            <td>Mason Mount      </td> <td>Chelsea</td> <td>ENG        </td> <td>MF,FW   </td> <td>21  </td> <td>36     </td> <td>32    </td> <td>2890</td> <td>6    </td> <td>5      </td> <td>1881            </td> <td>82.3                 </td> <td>1            </td> <td>1                </td> <td>0.21</td> <td>0.24</td> <td>2           </td> <td>0        </td>\n",
       "        </tr>\n",
       "        <tr>\n",
       "            <td>Christian Pulisic</td> <td>Chelsea</td> <td>USA        </td> <td>FW,MF   </td> <td>21  </td> <td>27     </td> <td>18    </td> <td>1738</td> <td>4    </td> <td>2      </td> <td>690             </td> <td>80                   </td> <td>0            </td> <td>0                </td> <td>0.28</td> <td>0.14</td> <td>2           </td> <td>0        </td>\n",
       "        </tr>\n",
       "        <tr>\n",
       "            <td>Kai Havertz      </td> <td>Chelsea</td> <td>GER        </td> <td>MF,FW   </td> <td>21  </td> <td>27     </td> <td>18    </td> <td>1520</td> <td>4    </td> <td>3      </td> <td>765             </td> <td>86.1                 </td> <td>0            </td> <td>0                </td> <td>0.37</td> <td>0.09</td> <td>2           </td> <td>0        </td>\n",
       "        </tr>\n",
       "    </tbody>\n",
       "</table>"
      ],
      "text/plain": [
       "Name              | Club    | Nationality | Position | Age  | Matches | Starts | Mins | Goals | Assists | Passes_Attempted | Perc_Passes_Completed | Penalty_Goals | Penalty_Attempted | xG   | xA   | Yellow_Cards | Red_Cards\n",
       "Mason Mount       | Chelsea | ENG         | MF,FW    | 21   | 36      | 32     | 2890 | 6     | 5       | 1881             | 82.3                  | 1             | 1                 | 0.21 | 0.24 | 2            | 0\n",
       "Christian Pulisic | Chelsea | USA         | FW,MF    | 21   | 27      | 18     | 1738 | 4     | 2       | 690              | 80                    | 0             | 0                 | 0.28 | 0.14 | 2            | 0\n",
       "Kai Havertz       | Chelsea | GER         | MF,FW    | 21   | 27      | 18     | 1520 | 4     | 3       | 765              | 86.1                  | 0             | 0                 | 0.37 | 0.09 | 2            | 0"
      ]
     },
     "execution_count": 2,
     "metadata": {},
     "output_type": "execute_result"
    }
   ],
   "source": []
  },
  {
   "cell_type": "code",
   "execution_count": null,
   "metadata": {
    "id": "gF1ZVqZpdVcq"
   },
   "outputs": [],
   "source": [
    "#Google text to speech package\n",
    "!pip install gTTS\n",
    "from gtts import gTTS #Import Google Text to Speech\n",
    "from IPython.display import Audio #Import Audio method from IPython's Display Class"
   ]
  },
  {
   "cell_type": "markdown",
   "metadata": {
    "id": "6k3464H0bWRU"
   },
   "source": [
    "# 1. Warm up - Say Hello\n",
    "This will allow you type your name and ask Google to say hello to you using text to speech\n"
   ]
  },
  {
   "cell_type": "code",
   "execution_count": null,
   "metadata": {
    "colab": {
     "base_uri": "https://localhost:8080/",
     "height": 258
    },
    "id": "c2-M4fFddwv2",
    "outputId": "b9d8e755-1cd6-46cb-be3b-2ece29e0c5dc"
   },
   "outputs": [
    {
     "ename": "NameError",
     "evalue": "ignored",
     "output_type": "error",
     "traceback": [
      "\u001b[0;31m---------------------------------------------------------------------------\u001b[0m",
      "\u001b[0;31mNameError\u001b[0m                                 Traceback (most recent call last)",
      "\u001b[0;32m<ipython-input-1-d99792934f8f>\u001b[0m in \u001b[0;36m<cell line: 2>\u001b[0;34m()\u001b[0m\n\u001b[1;32m      1\u001b[0m \u001b[0;31m# replace this array with the first name of your group members\u001b[0m\u001b[0;34m\u001b[0m\u001b[0;34m\u001b[0m\u001b[0m\n\u001b[0;32m----> 2\u001b[0;31m \u001b[0mnames\u001b[0m \u001b[0;34m=\u001b[0m \u001b[0mmake_array\u001b[0m\u001b[0;34m(\u001b[0m\u001b[0;34m'Sabrina'\u001b[0m\u001b[0;34m,\u001b[0m\u001b[0;34m'Iris'\u001b[0m\u001b[0;34m,\u001b[0m\u001b[0;34m'CJ'\u001b[0m\u001b[0;34m,\u001b[0m\u001b[0;34m'Harshini'\u001b[0m\u001b[0;34m)\u001b[0m\u001b[0;34m\u001b[0m\u001b[0;34m\u001b[0m\u001b[0m\n\u001b[0m\u001b[1;32m      3\u001b[0m \u001b[0;31m# change the index so that Google can say hello each of your group members, you may also change the greetings\u001b[0m\u001b[0;34m\u001b[0m\u001b[0;34m\u001b[0m\u001b[0m\n\u001b[1;32m      4\u001b[0m \u001b[0mspeech\u001b[0m \u001b[0;34m=\u001b[0m \u001b[0;34m'Hello '\u001b[0m \u001b[0;34m+\u001b[0m \u001b[0mnames\u001b[0m\u001b[0;34m[\u001b[0m\u001b[0;36m2\u001b[0m\u001b[0;34m]\u001b[0m \u001b[0;34m+\u001b[0m \u001b[0;34m' how are you today'\u001b[0m\u001b[0;34m\u001b[0m\u001b[0;34m\u001b[0m\u001b[0m\n\u001b[1;32m      5\u001b[0m \u001b[0mprint\u001b[0m\u001b[0;34m(\u001b[0m\u001b[0mspeech\u001b[0m\u001b[0;34m)\u001b[0m\u001b[0;34m\u001b[0m\u001b[0;34m\u001b[0m\u001b[0m\n",
      "\u001b[0;31mNameError\u001b[0m: name 'make_array' is not defined"
     ]
    }
   ],
   "source": [
    "# replace this array with the first name of your group members\n",
    "names = make_array('Sabrina','Iris','CJ','Harshini')\n",
    "# change the index so that Google can say hello each of your group members, you may also change the greetings\n",
    "speech = 'Hello ' + names[2] + ' how are you today'\n",
    "print(speech)\n",
    "tts = gTTS(speech)\n",
    "tts.save('1.wav')\n",
    "sound_file = '1.wav'\n",
    "Audio(sound_file, autoplay=True)"
   ]
  },
  {
   "cell_type": "markdown",
   "metadata": {
    "id": "kCMgj8cFwOFB"
   },
   "source": [
    "# 2. Warm Up - Would You Rather\n",
    "Take turn among your group members.\n",
    "\n",
    "Run the following cell will spit out a random would-you-rather question. Have fun!"
   ]
  },
  {
   "cell_type": "code",
   "execution_count": null,
   "metadata": {
    "colab": {
     "base_uri": "https://localhost:8080/"
    },
    "id": "xTQNPVKdPZdN",
    "outputId": "37e64be4-07f0-4b96-c482-07f63e229992"
   },
   "outputs": [
    {
     "name": "stdout",
     "output_type": "stream",
     "text": [
      "Would you rather have tickets to every school football game or every school basketball game?\n"
     ]
    }
   ],
   "source": [
    "url = 'https://raw.githubusercontent.com/lujiec2020/UMBC-IS296-Spring2022/main/data/would-you-rather.csv'\n",
    "question_table = Table.read_table(url)\n",
    "n = question_table.num_rows\n",
    "random_number = np.random.randint(0,n-1)\n",
    "question = question_table.column('questions')[random_number]\n",
    "print (question)"
   ]
  },
  {
   "cell_type": "code",
   "execution_count": null,
   "metadata": {
    "id": "plEp0b61fppR"
   },
   "outputs": [],
   "source": []
  },
  {
   "cell_type": "markdown",
   "metadata": {
    "id": "68hSRhQW30BX"
   },
   "source": [
    "# Let's load a dataset !"
   ]
  },
  {
   "cell_type": "code",
   "execution_count": null,
   "metadata": {},
   "outputs": [],
   "source": [
    "soccer= Table.read_table(\"https://raw.githubusercontent.com/lujiec2020/UMBC-IS296-Fall2022/main/student-data/English_Premier_League_Dataset.csv\")"
   ]
  },
  {
   "cell_type": "code",
   "execution_count": null,
   "metadata": {
    "colab": {
     "base_uri": "https://localhost:8080/",
     "height": 516
    },
    "id": "5IEW7gu9H6u5",
    "outputId": "bc102bc6-61a3-46b9-f5b8-9cefffa35df0"
   },
   "outputs": [
    {
     "data": {
      "text/html": [
       "<table border=\"1\" class=\"dataframe\">\n",
       "    <thead>\n",
       "        <tr>\n",
       "            <th>passportArea</th> <th>weight</th> <th>firstName</th> <th>middleName</th> <th>lastName</th> <th>currentTeamId</th> <th>birthDate</th> <th>height</th> <th>role</th> <th>birthArea</th> <th>wyId</th> <th>foot</th> <th>shortName</th> <th>currentNationalTeamId</th> <th>birthYear</th> <th>birthMonth</th>\n",
       "        </tr>\n",
       "    </thead>\n",
       "    <tbody>\n",
       "        <tr>\n",
       "            <td>Turkey      </td> <td>78    </td> <td>Harun            </td> <td>nan       </td> <td>Tekin            </td> <td>4502         </td> <td>1989-06-17</td> <td>187   </td> <td>Goalkeeper</td> <td>Turkey     </td> <td>32777 </td> <td>right  </td> <td>H. Tekin       </td> <td>4687                 </td> <td>1989     </td> <td>6         </td>\n",
       "        </tr>\n",
       "        <tr>\n",
       "            <td>Senegal     </td> <td>73    </td> <td>Malang           </td> <td>nan       </td> <td>Sarr             </td> <td>3775         </td> <td>1999-01-23</td> <td>182   </td> <td>Defender  </td> <td>France     </td> <td>393228</td> <td>left   </td> <td>M. Sarr        </td> <td>4423                 </td> <td>1999     </td> <td>1         </td>\n",
       "        </tr>\n",
       "        <tr>\n",
       "            <td>France      </td> <td>72    </td> <td>Over             </td> <td>nan       </td> <td>Mandanda         </td> <td>3772         </td> <td>1998-10-26</td> <td>176   </td> <td>Goalkeeper</td> <td>France     </td> <td>393230</td> <td>unknown</td> <td>O. Mandanda    </td> <td>nan                  </td> <td>1998     </td> <td>10        </td>\n",
       "        </tr>\n",
       "        <tr>\n",
       "            <td>Senegal     </td> <td>82    </td> <td>Alfred John Momar</td> <td>nan       </td> <td>N'Diaye          </td> <td>683          </td> <td>1990-03-06</td> <td>187   </td> <td>Midfielder</td> <td>France     </td> <td>32793 </td> <td>right  </td> <td>A. N'Diaye     </td> <td>19314                </td> <td>1990     </td> <td>3         </td>\n",
       "        </tr>\n",
       "        <tr>\n",
       "            <td>France      </td> <td>84    </td> <td>Ibrahima         </td> <td>nan       </td> <td>Konat\\u00e9      </td> <td>2975         </td> <td>1999-05-25</td> <td>192   </td> <td>Defender  </td> <td>France     </td> <td>393247</td> <td>right  </td> <td>I. Konat\\u00e9 </td> <td>nan                  </td> <td>1999     </td> <td>5         </td>\n",
       "        </tr>\n",
       "        <tr>\n",
       "            <td>Netherlands </td> <td>83    </td> <td>Jasper           </td> <td>nan       </td> <td>Cillessen        </td> <td>676          </td> <td>1989-04-22</td> <td>185   </td> <td>Goalkeeper</td> <td>Netherlands</td> <td>33    </td> <td>right  </td> <td>J. Cillessen   </td> <td>664                  </td> <td>1989     </td> <td>4         </td>\n",
       "        </tr>\n",
       "        <tr>\n",
       "            <td>Belgium     </td> <td>91    </td> <td>Toby             </td> <td>nan       </td> <td>Alderweireld     </td> <td>1624         </td> <td>1989-03-02</td> <td>187   </td> <td>Defender  </td> <td>Belgium    </td> <td>36    </td> <td>right  </td> <td>T. Alderweireld</td> <td>5629                 </td> <td>1989     </td> <td>3         </td>\n",
       "        </tr>\n",
       "        <tr>\n",
       "            <td>Belgium     </td> <td>88    </td> <td>Jan              </td> <td>nan       </td> <td>Vertonghen       </td> <td>1624         </td> <td>1987-04-24</td> <td>189   </td> <td>Defender  </td> <td>Belgium    </td> <td>48    </td> <td>left   </td> <td>J. Vertonghen  </td> <td>5629                 </td> <td>1987     </td> <td>4         </td>\n",
       "        </tr>\n",
       "        <tr>\n",
       "            <td>France      </td> <td>74    </td> <td>Alexander        </td> <td>nan       </td> <td>Djiku            </td> <td>3783         </td> <td>1994-08-09</td> <td>182   </td> <td>Defender  </td> <td>France     </td> <td>229427</td> <td>right  </td> <td>A. Djiku       </td> <td>nan                  </td> <td>1994     </td> <td>8         </td>\n",
       "        </tr>\n",
       "        <tr>\n",
       "            <td>Denmark     </td> <td>76    </td> <td>Christian        </td> <td>nan       </td> <td>Dannemann Eriksen</td> <td>1624         </td> <td>1992-02-14</td> <td>180   </td> <td>Midfielder</td> <td>Denmark    </td> <td>54    </td> <td>right  </td> <td>C. Eriksen     </td> <td>7712                 </td> <td>1992     </td> <td>2         </td>\n",
       "        </tr>\n",
       "    </tbody>\n",
       "</table>\n",
       "<p>... (3593 rows omitted)</p>"
      ],
      "text/plain": [
       "passportArea | weight | firstName         | middleName | lastName          | currentTeamId | birthDate  | height | role       | birthArea   | wyId   | foot    | shortName       | currentNationalTeamId | birthYear | birthMonth\n",
       "Turkey       | 78     | Harun             | nan        | Tekin             | 4502          | 1989-06-17 | 187    | Goalkeeper | Turkey      | 32777  | right   | H. Tekin        | 4687                  | 1989      | 6\n",
       "Senegal      | 73     | Malang            | nan        | Sarr              | 3775          | 1999-01-23 | 182    | Defender   | France      | 393228 | left    | M. Sarr         | 4423                  | 1999      | 1\n",
       "France       | 72     | Over              | nan        | Mandanda          | 3772          | 1998-10-26 | 176    | Goalkeeper | France      | 393230 | unknown | O. Mandanda     | nan                   | 1998      | 10\n",
       "Senegal      | 82     | Alfred John Momar | nan        | N'Diaye           | 683           | 1990-03-06 | 187    | Midfielder | France      | 32793  | right   | A. N'Diaye      | 19314                 | 1990      | 3\n",
       "France       | 84     | Ibrahima          | nan        | Konat\\u00e9       | 2975          | 1999-05-25 | 192    | Defender   | France      | 393247 | right   | I. Konat\\u00e9  | nan                   | 1999      | 5\n",
       "Netherlands  | 83     | Jasper            | nan        | Cillessen         | 676           | 1989-04-22 | 185    | Goalkeeper | Netherlands | 33     | right   | J. Cillessen    | 664                   | 1989      | 4\n",
       "Belgium      | 91     | Toby              | nan        | Alderweireld      | 1624          | 1989-03-02 | 187    | Defender   | Belgium     | 36     | right   | T. Alderweireld | 5629                  | 1989      | 3\n",
       "Belgium      | 88     | Jan               | nan        | Vertonghen        | 1624          | 1987-04-24 | 189    | Defender   | Belgium     | 48     | left    | J. Vertonghen   | 5629                  | 1987      | 4\n",
       "France       | 74     | Alexander         | nan        | Djiku             | 3783          | 1994-08-09 | 182    | Defender   | France      | 229427 | right   | A. Djiku        | nan                   | 1994      | 8\n",
       "Denmark      | 76     | Christian         | nan        | Dannemann Eriksen | 1624          | 1992-02-14 | 180    | Midfielder | Denmark     | 54     | right   | C. Eriksen      | 7712                  | 1992      | 2\n",
       "... (3593 rows omitted)"
      ]
     },
     "execution_count": 4,
     "metadata": {},
     "output_type": "execute_result"
    }
   ],
   "source": [
    "#Iris's data\n",
    "tbl = Table.read_table('https://raw.githubusercontent.com/lujiec2020/UMBC-IS296-Fall2022/main/student-data/soccer_player_cleaned.csv')\n",
    "tbl"
   ]
  },
  {
   "cell_type": "code",
   "execution_count": null,
   "metadata": {
    "colab": {
     "base_uri": "https://localhost:8080/",
     "height": 412
    },
    "id": "eK2rBTImfckf",
    "outputId": "383fa0c3-9742-4ec9-d875-23763e50267b"
   },
   "outputs": [
    {
     "data": {
      "text/html": [
       "<table border=\"1\" class=\"dataframe\">\n",
       "    <thead>\n",
       "        <tr>\n",
       "            <th>Year</th> <th>Team</th> <th>Game</th> <th>Win</th> <th>Home</th> <th>MP</th> <th>FG</th> <th>FGA</th> <th>FGP</th> <th>TP</th> <th>TPA</th> <th>TPP</th> <th>FT</th> <th>FTA</th> <th>FTP</th> <th>ORB</th> <th>DRB</th> <th>TRB</th> <th>AST</th> <th>STL</th> <th>BLK</th> <th>TOV</th> <th>PF</th> <th>PTS</th>\n",
       "        </tr>\n",
       "    </thead>\n",
       "    <tbody>\n",
       "        <tr>\n",
       "            <td>1980</td> <td>Lakers </td> <td>1   </td> <td>1   </td> <td>1   </td> <td>240 </td> <td>48  </td> <td>89  </td> <td>0.539</td> <td>0   </td> <td>0   </td> <td>nan  </td> <td>13  </td> <td>15  </td> <td>0.867</td> <td>12  </td> <td>31  </td> <td>43  </td> <td>30  </td> <td>5   </td> <td>9   </td> <td>17  </td> <td>24  </td> <td>109 </td>\n",
       "        </tr>\n",
       "        <tr>\n",
       "            <td>1980</td> <td>Lakers </td> <td>2   </td> <td>0   </td> <td>1   </td> <td>240 </td> <td>48  </td> <td>95  </td> <td>0.505</td> <td>0   </td> <td>1   </td> <td>0    </td> <td>8   </td> <td>12  </td> <td>0.667</td> <td>15  </td> <td>37  </td> <td>52  </td> <td>32  </td> <td>12  </td> <td>7   </td> <td>26  </td> <td>27  </td> <td>104 </td>\n",
       "        </tr>\n",
       "        <tr>\n",
       "            <td>1980</td> <td>Lakers </td> <td>3   </td> <td>1   </td> <td>0   </td> <td>240 </td> <td>44  </td> <td>92  </td> <td>0.478</td> <td>0   </td> <td>1   </td> <td>0    </td> <td>23  </td> <td>30  </td> <td>0.767</td> <td>22  </td> <td>34  </td> <td>56  </td> <td>20  </td> <td>5   </td> <td>5   </td> <td>20  </td> <td>25  </td> <td>111 </td>\n",
       "        </tr>\n",
       "        <tr>\n",
       "            <td>1980</td> <td>Lakers </td> <td>4   </td> <td>0   </td> <td>0   </td> <td>240 </td> <td>44  </td> <td>93  </td> <td>0.473</td> <td>0   </td> <td>0   </td> <td>nan  </td> <td>14  </td> <td>19  </td> <td>0.737</td> <td>18  </td> <td>31  </td> <td>49  </td> <td>23  </td> <td>12  </td> <td>6   </td> <td>19  </td> <td>22  </td> <td>102 </td>\n",
       "        </tr>\n",
       "        <tr>\n",
       "            <td>1980</td> <td>Lakers </td> <td>5   </td> <td>1   </td> <td>1   </td> <td>240 </td> <td>41  </td> <td>91  </td> <td>0.451</td> <td>0   </td> <td>0   </td> <td>nan  </td> <td>26  </td> <td>33  </td> <td>0.788</td> <td>19  </td> <td>37  </td> <td>56  </td> <td>28  </td> <td>7   </td> <td>6   </td> <td>21  </td> <td>27  </td> <td>108 </td>\n",
       "        </tr>\n",
       "        <tr>\n",
       "            <td>1980</td> <td>Lakers </td> <td>6   </td> <td>1   </td> <td>0   </td> <td>240 </td> <td>45  </td> <td>92  </td> <td>0.489</td> <td>0   </td> <td>2   </td> <td>0    </td> <td>33  </td> <td>35  </td> <td>0.943</td> <td>17  </td> <td>35  </td> <td>52  </td> <td>27  </td> <td>14  </td> <td>4   </td> <td>17  </td> <td>22  </td> <td>123 </td>\n",
       "        </tr>\n",
       "        <tr>\n",
       "            <td>1981</td> <td>Celtics</td> <td>1   </td> <td>1   </td> <td>1   </td> <td>240 </td> <td>41  </td> <td>95  </td> <td>0.432</td> <td>0   </td> <td>1   </td> <td>0    </td> <td>16  </td> <td>20  </td> <td>0.8  </td> <td>25  </td> <td>29  </td> <td>54  </td> <td>23  </td> <td>6   </td> <td>5   </td> <td>19  </td> <td>21  </td> <td>98  </td>\n",
       "        </tr>\n",
       "        <tr>\n",
       "            <td>1981</td> <td>Celtics</td> <td>2   </td> <td>0   </td> <td>1   </td> <td>240 </td> <td>41  </td> <td>82  </td> <td>0.5  </td> <td>0   </td> <td>3   </td> <td>0    </td> <td>8   </td> <td>13  </td> <td>0.615</td> <td>14  </td> <td>34  </td> <td>48  </td> <td>17  </td> <td>6   </td> <td>7   </td> <td>22  </td> <td>27  </td> <td>90  </td>\n",
       "        </tr>\n",
       "        <tr>\n",
       "            <td>1981</td> <td>Celtics</td> <td>3   </td> <td>1   </td> <td>0   </td> <td>240 </td> <td>40  </td> <td>89  </td> <td>0.449</td> <td>2   </td> <td>3   </td> <td>0.667</td> <td>12  </td> <td>19  </td> <td>0.632</td> <td>16  </td> <td>28  </td> <td>44  </td> <td>24  </td> <td>12  </td> <td>6   </td> <td>11  </td> <td>25  </td> <td>94  </td>\n",
       "        </tr>\n",
       "        <tr>\n",
       "            <td>1981</td> <td>Celtics</td> <td>4   </td> <td>0   </td> <td>0   </td> <td>240 </td> <td>35  </td> <td>74  </td> <td>0.473</td> <td>0   </td> <td>3   </td> <td>0    </td> <td>16  </td> <td>24  </td> <td>0.667</td> <td>17  </td> <td>30  </td> <td>47  </td> <td>22  </td> <td>5   </td> <td>6   </td> <td>22  </td> <td>22  </td> <td>86  </td>\n",
       "        </tr>\n",
       "    </tbody>\n",
       "</table>\n",
       "<p>... (210 rows omitted)</p>"
      ],
      "text/plain": [
       "Year | Team    | Game | Win  | Home | MP   | FG   | FGA  | FGP   | TP   | TPA  | TPP   | FT   | FTA  | FTP   | ORB  | DRB  | TRB  | AST  | STL  | BLK  | TOV  | PF   | PTS\n",
       "1980 | Lakers  | 1    | 1    | 1    | 240  | 48   | 89   | 0.539 | 0    | 0    | nan   | 13   | 15   | 0.867 | 12   | 31   | 43   | 30   | 5    | 9    | 17   | 24   | 109\n",
       "1980 | Lakers  | 2    | 0    | 1    | 240  | 48   | 95   | 0.505 | 0    | 1    | 0     | 8    | 12   | 0.667 | 15   | 37   | 52   | 32   | 12   | 7    | 26   | 27   | 104\n",
       "1980 | Lakers  | 3    | 1    | 0    | 240  | 44   | 92   | 0.478 | 0    | 1    | 0     | 23   | 30   | 0.767 | 22   | 34   | 56   | 20   | 5    | 5    | 20   | 25   | 111\n",
       "1980 | Lakers  | 4    | 0    | 0    | 240  | 44   | 93   | 0.473 | 0    | 0    | nan   | 14   | 19   | 0.737 | 18   | 31   | 49   | 23   | 12   | 6    | 19   | 22   | 102\n",
       "1980 | Lakers  | 5    | 1    | 1    | 240  | 41   | 91   | 0.451 | 0    | 0    | nan   | 26   | 33   | 0.788 | 19   | 37   | 56   | 28   | 7    | 6    | 21   | 27   | 108\n",
       "1980 | Lakers  | 6    | 1    | 0    | 240  | 45   | 92   | 0.489 | 0    | 2    | 0     | 33   | 35   | 0.943 | 17   | 35   | 52   | 27   | 14   | 4    | 17   | 22   | 123\n",
       "1981 | Celtics | 1    | 1    | 1    | 240  | 41   | 95   | 0.432 | 0    | 1    | 0     | 16   | 20   | 0.8   | 25   | 29   | 54   | 23   | 6    | 5    | 19   | 21   | 98\n",
       "1981 | Celtics | 2    | 0    | 1    | 240  | 41   | 82   | 0.5   | 0    | 3    | 0     | 8    | 13   | 0.615 | 14   | 34   | 48   | 17   | 6    | 7    | 22   | 27   | 90\n",
       "1981 | Celtics | 3    | 1    | 0    | 240  | 40   | 89   | 0.449 | 2    | 3    | 0.667 | 12   | 19   | 0.632 | 16   | 28   | 44   | 24   | 12   | 6    | 11   | 25   | 94\n",
       "1981 | Celtics | 4    | 0    | 0    | 240  | 35   | 74   | 0.473 | 0    | 3    | 0     | 16   | 24   | 0.667 | 17   | 30   | 47   | 22   | 5    | 6    | 22   | 22   | 86\n",
       "... (210 rows omitted)"
      ]
     },
     "execution_count": 8,
     "metadata": {},
     "output_type": "execute_result"
    }
   ],
   "source": [
    "#Shivam\n",
    "tbl = Table.read_table('https://raw.githubusercontent.com/lujiec2020/UMBC-IS296-Fall2022/main/student-data/championsdata.csv')\n",
    "tbl"
   ]
  },
  {
   "cell_type": "markdown",
   "metadata": {
    "id": "2BesCFOTA3i6"
   },
   "source": [
    "## Question #1: How does the amount of Free Throw Attempts effect the outcome of the game?"
   ]
  },
  {
   "cell_type": "code",
   "execution_count": null,
   "metadata": {
    "colab": {
     "base_uri": "https://localhost:8080/",
     "height": 359
    },
    "id": "e7QEl37-35Bp",
    "outputId": "76b93e35-43fb-4760-a7f5-2319f29a4969"
   },
   "outputs": [
    {
     "data": {
      "image/png": "[encoded data removed]",
      "text/plain": [
       "<Figure size 360x360 with 1 Axes>"
      ]
     },
     "metadata": {},
     "output_type": "display_data"
    }
   ],
   "source": [
    "#Shivamscatterpts\n",
    "Wins = tbl.column('PTS')\n",
    "Free_Throw_Attempts = tbl.column('FTA')\n",
    "tbl = tbl.with_column(\"Free Throw Attempts\", Free_Throw_Attempts).with_column(\"Wins\", Wins)\n",
    "tbl.scatter('Free Throw Attempts','Wins')"
   ]
  },
  {
   "cell_type": "markdown",
   "metadata": {
    "id": "IRJvxaBC_Tns"
   },
   "source": [
    "## QUESTION #2: How can you create an array in a data set?"
   ]
  },
  {
   "cell_type": "code",
   "execution_count": null,
   "metadata": {
    "colab": {
     "base_uri": "https://localhost:8080/",
     "height": 187
    },
    "id": "a1U-enPl21tB",
    "outputId": "d8cbcd05-3678-47d8-9269-14646e0fb135"
   },
   "outputs": [
    {
     "ename": "NameError",
     "evalue": "ignored",
     "output_type": "error",
     "traceback": [
      "\u001b[0;31m---------------------------------------------------------------------------\u001b[0m",
      "\u001b[0;31mNameError\u001b[0m                                 Traceback (most recent call last)",
      "\u001b[0;32m<ipython-input-1-fd28d4b4d462>\u001b[0m in \u001b[0;36m<module>\u001b[0;34m\u001b[0m\n\u001b[0;32m----> 1\u001b[0;31m \u001b[0mStats\u001b[0m \u001b[0;34m=\u001b[0m \u001b[0mmake_array\u001b[0m \u001b[0;34m(\u001b[0m\u001b[0;34m'PTS'\u001b[0m\u001b[0;34m,\u001b[0m\u001b[0;34m'REB'\u001b[0m\u001b[0;34m,\u001b[0m\u001b[0;34m'AST'\u001b[0m\u001b[0;34m)\u001b[0m\u001b[0;34m\u001b[0m\u001b[0;34m\u001b[0m\u001b[0m\n\u001b[0m\u001b[1;32m      2\u001b[0m \u001b[0mStats\u001b[0m\u001b[0;34m\u001b[0m\u001b[0;34m\u001b[0m\u001b[0m\n",
      "\u001b[0;31mNameError\u001b[0m: name 'make_array' is not defined"
     ]
    }
   ],
   "source": [
    "Stats = make_array ('PTS','REB','AST')\n",
    "Stats"
   ]
  },
  {
   "cell_type": "markdown",
   "metadata": {
    "id": "Dz3Ssj9rAI5h"
   },
   "source": [
    "## Question #3: How many times has different NBA teams in the data set have played in the playoffs?"
   ]
  },
  {
   "cell_type": "code",
   "execution_count": null,
   "metadata": {
    "colab": {
     "base_uri": "https://localhost:8080/",
     "height": 457
    },
    "id": "GyDAiGAQo90q",
    "outputId": "efcec8c3-8bea-48e6-b7f4-83457e7674b1"
   },
   "outputs": [
    {
     "data": {
      "text/html": [
       "<table border=\"1\" class=\"dataframe\">\n",
       "    <thead>\n",
       "        <tr>\n",
       "            <th>Team</th> <th>count</th>\n",
       "        </tr>\n",
       "    </thead>\n",
       "    <tbody>\n",
       "        <tr>\n",
       "            <td>'Heat'   </td> <td>1    </td>\n",
       "        </tr>\n",
       "        <tr>\n",
       "            <td>Bulls    </td> <td>35   </td>\n",
       "        </tr>\n",
       "        <tr>\n",
       "            <td>Cavaliers</td> <td>7    </td>\n",
       "        </tr>\n",
       "        <tr>\n",
       "            <td>Celtics  </td> <td>25   </td>\n",
       "        </tr>\n",
       "        <tr>\n",
       "            <td>Heat     </td> <td>17   </td>\n",
       "        </tr>\n",
       "        <tr>\n",
       "            <td>Lakers   </td> <td>58   </td>\n",
       "        </tr>\n",
       "        <tr>\n",
       "            <td>Mavericks</td> <td>6    </td>\n",
       "        </tr>\n",
       "        <tr>\n",
       "            <td>Pistons  </td> <td>14   </td>\n",
       "        </tr>\n",
       "        <tr>\n",
       "            <td>Rockets  </td> <td>11   </td>\n",
       "        </tr>\n",
       "        <tr>\n",
       "            <td>Sixers   </td> <td>4    </td>\n",
       "        </tr>\n",
       "        <tr>\n",
       "            <td>Spurs    </td> <td>27   </td>\n",
       "        </tr>\n",
       "        <tr>\n",
       "            <td>Warriorrs</td> <td>1    </td>\n",
       "        </tr>\n",
       "        <tr>\n",
       "            <td>Warriors </td> <td>14   </td>\n",
       "        </tr>\n",
       "    </tbody>\n",
       "</table>"
      ],
      "text/plain": [
       "<IPython.core.display.HTML object>"
      ]
     },
     "metadata": {},
     "output_type": "display_data"
    }
   ],
   "source": [
    "tbl.group('Team').show(0)"
   ]
  },
  {
   "cell_type": "markdown",
   "metadata": {
    "id": "w_1f-qW0BBYC"
   },
   "source": [
    "## Question #4: How does the amount of turnovers in playoff games effect the outcome of the game?"
   ]
  },
  {
   "cell_type": "code",
   "execution_count": null,
   "metadata": {
    "colab": {
     "base_uri": "https://localhost:8080/",
     "height": 359
    },
    "id": "aJmpT3wvMNOt",
    "outputId": "f5a2a809-5515-463d-b1d1-259cc2ad18f2"
   },
   "outputs": [
    {
     "data": {
      "image/png": "[encoded data removed]",
      "text/plain": [
       "<Figure size 360x360 with 1 Axes>"
      ]
     },
     "metadata": {},
     "output_type": "display_data"
    }
   ],
   "source": [
    "Wins = tbl.column('Win')\n",
    "Turnovers = tbl.column('TOV')\n",
    "tbl = tbl.with_column(\"Win\", Wins).with_column(\"Turnovers\", Turnovers)\n",
    "tbl.scatter('Wins','Turnovers')"
   ]
  },
  {
   "cell_type": "markdown",
   "metadata": {
    "id": "LiTtDFcDBCpM"
   },
   "source": [
    "## Question #5 How does the ammount of STLs and BLKs effect the outcome of the game?"
   ]
  },
  {
   "cell_type": "code",
   "execution_count": null,
   "metadata": {
    "colab": {
     "base_uri": "https://localhost:8080/",
     "height": 359
    },
    "id": "cOT9uCqgJmzz",
    "outputId": "160b2f7e-1599-4e3d-f8ba-0de8b1795ce0"
   },
   "outputs": [
    {
     "data": {
      "image/png": "[encoded data removed]",
      "text/plain": [
       "<Figure size 360x360 with 1 Axes>"
      ]
     },
     "metadata": {},
     "output_type": "display_data"
    }
   ],
   "source": [
    "Steals = tbl.column('STL')\n",
    "Blocks = tbl.column('BLK')\n",
    "tbl = tbl.with_column(\"Steals\", Steals).with_column(\"Blocks\", Blocks)\n",
    "tbl.scatter('Steals','Blocks')"
   ]
  },
  {
   "cell_type": "code",
   "execution_count": null,
   "metadata": {
    "colab": {
     "base_uri": "https://localhost:8080/",
     "height": 1000
    },
    "id": "yztyXu6QkmBF",
    "outputId": "9068c615-4116-4038-c590-f729da788cab"
   },
   "outputs": [
    {
     "data": {
      "text/html": [
       "<table border=\"1\" class=\"dataframe\">\n",
       "    <thead>\n",
       "        <tr>\n",
       "            <th>id</th> <th>title</th> <th>type</th> <th>description</th> <th>release_year</th> <th>age_certification</th> <th>runtime</th> <th>genres</th> <th>production_countries</th> <th>seasons</th> <th>imdb_id</th> <th>imdb_score</th> <th>imdb_votes</th> <th>tmdb_popularity</th> <th>tmdb_score</th>\n",
       "        </tr>\n",
       "    </thead>\n",
       "    <tbody>\n",
       "        <tr>\n",
       "            <td>ts300399</td> <td>Five Came Back: The Reference Films</td> <td>SHOW </td> <td>This collection includes 12 World War II-era propaganda  ...</td> <td>1945        </td> <td>TV-MA            </td> <td>51     </td> <td>['documentation']                          </td> <td>['US']              </td> <td>1      </td> <td>Unknown  </td> <td>-1        </td> <td>-1        </td> <td>0.6            </td> <td>-1        </td>\n",
       "        </tr>\n",
       "        <tr>\n",
       "            <td>tm84618 </td> <td>Taxi Driver                        </td> <td>MOVIE</td> <td>A mentally unstable Vietnam War veteran works as a night ...</td> <td>1976        </td> <td>R                </td> <td>114    </td> <td>['drama', 'crime']                         </td> <td>['US']              </td> <td>-1     </td> <td>tt0075314</td> <td>8.2       </td> <td>808582    </td> <td>40.965         </td> <td>8.179     </td>\n",
       "        </tr>\n",
       "        <tr>\n",
       "            <td>tm154986</td> <td>Deliverance                        </td> <td>MOVIE</td> <td>Intent on seeing the Cahulawassee River before it's turn ...</td> <td>1972        </td> <td>R                </td> <td>109    </td> <td>['drama', 'action', 'thriller', 'european']</td> <td>['US']              </td> <td>-1     </td> <td>tt0068473</td> <td>7.7       </td> <td>107673    </td> <td>10.01          </td> <td>7.3       </td>\n",
       "        </tr>\n",
       "        <tr>\n",
       "            <td>tm127384</td> <td>Monty Python and the Holy Grail    </td> <td>MOVIE</td> <td>King Arthur, accompanied by his squire, recruits his Kni ...</td> <td>1975        </td> <td>PG               </td> <td>91     </td> <td>['fantasy', 'action', 'comedy']            </td> <td>['GB']              </td> <td>-1     </td> <td>tt0071853</td> <td>8.2       </td> <td>534486    </td> <td>15.461         </td> <td>7.811     </td>\n",
       "        </tr>\n",
       "        <tr>\n",
       "            <td>tm120801</td> <td>The Dirty Dozen                    </td> <td>MOVIE</td> <td>12 American military prisoners in World War II are order ...</td> <td>1967        </td> <td>NR               </td> <td>150    </td> <td>['war', 'action']                          </td> <td>['GB', 'US']        </td> <td>-1     </td> <td>tt0061578</td> <td>7.7       </td> <td>72662     </td> <td>20.398         </td> <td>7.6       </td>\n",
       "        </tr>\n",
       "        <tr>\n",
       "            <td>ts22164 </td> <td>Monty Python's Flying Circus       </td> <td>SHOW </td> <td>A British sketch comedy series with the shows being comp ...</td> <td>1969        </td> <td>TV-14            </td> <td>30     </td> <td>['comedy', 'european']                     </td> <td>['GB']              </td> <td>4      </td> <td>tt0063929</td> <td>8.8       </td> <td>73424     </td> <td>17.617         </td> <td>8.306     </td>\n",
       "        </tr>\n",
       "        <tr>\n",
       "            <td>tm70993 </td> <td>Life of Brian                      </td> <td>MOVIE</td> <td>Brian Cohen is an average young Jewish man, but through  ...</td> <td>1979        </td> <td>R                </td> <td>94     </td> <td>['comedy']                                 </td> <td>['GB']              </td> <td>-1     </td> <td>tt0079470</td> <td>8         </td> <td>395024    </td> <td>17.77          </td> <td>7.8       </td>\n",
       "        </tr>\n",
       "        <tr>\n",
       "            <td>tm14873 </td> <td>Dirty Harry                        </td> <td>MOVIE</td> <td>When a madman dubbed 'Scorpio' terrorizes San Francisco, ...</td> <td>1971        </td> <td>R                </td> <td>102    </td> <td>['thriller', 'action', 'crime']            </td> <td>['US']              </td> <td>-1     </td> <td>tt0066999</td> <td>7.7       </td> <td>155051    </td> <td>12.817         </td> <td>7.5       </td>\n",
       "        </tr>\n",
       "        <tr>\n",
       "            <td>tm119281</td> <td>Bonnie and Clyde                   </td> <td>MOVIE</td> <td>In the 1930s, bored waitress Bonnie Parker falls in love ...</td> <td>1967        </td> <td>R                </td> <td>110    </td> <td>['crime', 'drama', 'action']               </td> <td>['US']              </td> <td>-1     </td> <td>tt0061418</td> <td>7.7       </td> <td>112048    </td> <td>15.687         </td> <td>7.5       </td>\n",
       "        </tr>\n",
       "        <tr>\n",
       "            <td>tm98978 </td> <td>The Blue Lagoon                    </td> <td>MOVIE</td> <td>Two small children and a ship's cook survive a shipwreck ...</td> <td>1980        </td> <td>R                </td> <td>104    </td> <td>['romance', 'action', 'drama']             </td> <td>['US']              </td> <td>-1     </td> <td>tt0080453</td> <td>5.8       </td> <td>69844     </td> <td>50.324         </td> <td>6.156     </td>\n",
       "        </tr>\n",
       "    </tbody>\n",
       "</table>\n",
       "<p>... (5840 rows omitted)</p>"
      ],
      "text/plain": [
       "id       | title                               | type  | description                                                  | release_year | age_certification | runtime | genres                                      | production_countries | seasons | imdb_id   | imdb_score | imdb_votes | tmdb_popularity | tmdb_score\n",
       "ts300399 | Five Came Back: The Reference Films | SHOW  | This collection includes 12 World War II-era propaganda  ... | 1945         | TV-MA             | 51      | ['documentation']                           | ['US']               | 1       | Unknown   | -1         | -1         | 0.6             | -1\n",
       "tm84618  | Taxi Driver                         | MOVIE | A mentally unstable Vietnam War veteran works as a night ... | 1976         | R                 | 114     | ['drama', 'crime']                          | ['US']               | -1      | tt0075314 | 8.2        | 808582     | 40.965          | 8.179\n",
       "tm154986 | Deliverance                         | MOVIE | Intent on seeing the Cahulawassee River before it's turn ... | 1972         | R                 | 109     | ['drama', 'action', 'thriller', 'european'] | ['US']               | -1      | tt0068473 | 7.7        | 107673     | 10.01           | 7.3\n",
       "tm127384 | Monty Python and the Holy Grail     | MOVIE | King Arthur, accompanied by his squire, recruits his Kni ... | 1975         | PG                | 91      | ['fantasy', 'action', 'comedy']             | ['GB']               | -1      | tt0071853 | 8.2        | 534486     | 15.461          | 7.811\n",
       "tm120801 | The Dirty Dozen                     | MOVIE | 12 American military prisoners in World War II are order ... | 1967         | NR                | 150     | ['war', 'action']                           | ['GB', 'US']         | -1      | tt0061578 | 7.7        | 72662      | 20.398          | 7.6\n",
       "ts22164  | Monty Python's Flying Circus        | SHOW  | A British sketch comedy series with the shows being comp ... | 1969         | TV-14             | 30      | ['comedy', 'european']                      | ['GB']               | 4       | tt0063929 | 8.8        | 73424      | 17.617          | 8.306\n",
       "tm70993  | Life of Brian                       | MOVIE | Brian Cohen is an average young Jewish man, but through  ... | 1979         | R                 | 94      | ['comedy']                                  | ['GB']               | -1      | tt0079470 | 8          | 395024     | 17.77           | 7.8\n",
       "tm14873  | Dirty Harry                         | MOVIE | When a madman dubbed 'Scorpio' terrorizes San Francisco, ... | 1971         | R                 | 102     | ['thriller', 'action', 'crime']             | ['US']               | -1      | tt0066999 | 7.7        | 155051     | 12.817          | 7.5\n",
       "tm119281 | Bonnie and Clyde                    | MOVIE | In the 1930s, bored waitress Bonnie Parker falls in love ... | 1967         | R                 | 110     | ['crime', 'drama', 'action']                | ['US']               | -1      | tt0061418 | 7.7        | 112048     | 15.687          | 7.5\n",
       "tm98978  | The Blue Lagoon                     | MOVIE | Two small children and a ship's cook survive a shipwreck ... | 1980         | R                 | 104     | ['romance', 'action', 'drama']              | ['US']               | -1      | tt0080453 | 5.8        | 69844      | 50.324          | 6.156\n",
       "... (5840 rows omitted)"
      ]
     },
     "execution_count": 12,
     "metadata": {},
     "output_type": "execute_result"
    }
   ],
   "source": [
    "#youyang\n",
    "tbl = Table.read_table('https://raw.githubusercontent.com/lujiec2020/UMBC-IS296-Fall2022/main/student-data/netflix_clean.csv')\n",
    "tbl"
   ]
  },
  {
   "cell_type": "code",
   "execution_count": null,
   "metadata": {
    "colab": {
     "base_uri": "https://localhost:8080/",
     "height": 392
    },
    "id": "-NXQts-osyQP",
    "outputId": "264793bd-ec79-4fd3-b489-ee35b7dff54f"
   },
   "outputs": [
    {
     "data": {
      "text/html": [
       "<table border=\"1\" class=\"dataframe\">\n",
       "    <thead>\n",
       "        <tr>\n",
       "            <th>Actor</th> <th>Total Gross</th> <th>Number of Movies</th> <th>Average per Movie</th> <th>#1 Movie</th> <th>Gross</th>\n",
       "        </tr>\n",
       "    </thead>\n",
       "    <tbody>\n",
       "        <tr>\n",
       "            <td>Harrison Ford     </td> <td>4871.7     </td> <td>41              </td> <td>118.8            </td> <td>Star Wars: The Force Awakens</td> <td>936.7</td>\n",
       "        </tr>\n",
       "        <tr>\n",
       "            <td>Samuel L. Jackson </td> <td>4772.8     </td> <td>69              </td> <td>69.2             </td> <td>The Avengers                </td> <td>623.4</td>\n",
       "        </tr>\n",
       "        <tr>\n",
       "            <td>Morgan Freeman    </td> <td>4468.3     </td> <td>61              </td> <td>73.3             </td> <td>The Dark Knight             </td> <td>534.9</td>\n",
       "        </tr>\n",
       "        <tr>\n",
       "            <td>Tom Hanks         </td> <td>4340.8     </td> <td>44              </td> <td>98.7             </td> <td>Toy Story 3                 </td> <td>415  </td>\n",
       "        </tr>\n",
       "        <tr>\n",
       "            <td>Robert Downey, Jr.</td> <td>3947.3     </td> <td>53              </td> <td>74.5             </td> <td>The Avengers                </td> <td>623.4</td>\n",
       "        </tr>\n",
       "        <tr>\n",
       "            <td>Eddie Murphy      </td> <td>3810.4     </td> <td>38              </td> <td>100.3            </td> <td>Shrek 2                     </td> <td>441.2</td>\n",
       "        </tr>\n",
       "        <tr>\n",
       "            <td>Tom Cruise        </td> <td>3587.2     </td> <td>36              </td> <td>99.6             </td> <td>War of the Worlds           </td> <td>234.3</td>\n",
       "        </tr>\n",
       "        <tr>\n",
       "            <td>Johnny Depp       </td> <td>3368.6     </td> <td>45              </td> <td>74.9             </td> <td>Dead Man's Chest            </td> <td>423.3</td>\n",
       "        </tr>\n",
       "        <tr>\n",
       "            <td>Michael Caine     </td> <td>3351.5     </td> <td>58              </td> <td>57.8             </td> <td>The Dark Knight             </td> <td>534.9</td>\n",
       "        </tr>\n",
       "        <tr>\n",
       "            <td>Scarlett Johansson</td> <td>3341.2     </td> <td>37              </td> <td>90.3             </td> <td>The Avengers                </td> <td>623.4</td>\n",
       "        </tr>\n",
       "    </tbody>\n",
       "</table>\n",
       "<p>... (40 rows omitted)</p>"
      ],
      "text/plain": [
       "Actor              | Total Gross | Number of Movies | Average per Movie | #1 Movie                     | Gross\n",
       "Harrison Ford      | 4871.7      | 41               | 118.8             | Star Wars: The Force Awakens | 936.7\n",
       "Samuel L. Jackson  | 4772.8      | 69               | 69.2              | The Avengers                 | 623.4\n",
       "Morgan Freeman     | 4468.3      | 61               | 73.3              | The Dark Knight              | 534.9\n",
       "Tom Hanks          | 4340.8      | 44               | 98.7              | Toy Story 3                  | 415\n",
       "Robert Downey, Jr. | 3947.3      | 53               | 74.5              | The Avengers                 | 623.4\n",
       "Eddie Murphy       | 3810.4      | 38               | 100.3             | Shrek 2                      | 441.2\n",
       "Tom Cruise         | 3587.2      | 36               | 99.6              | War of the Worlds            | 234.3\n",
       "Johnny Depp        | 3368.6      | 45               | 74.9              | Dead Man's Chest             | 423.3\n",
       "Michael Caine      | 3351.5      | 58               | 57.8              | The Dark Knight              | 534.9\n",
       "Scarlett Johansson | 3341.2      | 37               | 90.3              | The Avengers                 | 623.4\n",
       "... (40 rows omitted)"
      ]
     },
     "execution_count": 6,
     "metadata": {},
     "output_type": "execute_result"
    }
   ],
   "source": [
    "tbl = Table.read_table('https://raw.githubusercontent.com/lujiec2020/UMBC-IS296-Fall2022/main/data/actors.csv')\n",
    "tbl\n"
   ]
  },
  {
   "cell_type": "code",
   "execution_count": null,
   "metadata": {
    "colab": {
     "base_uri": "https://localhost:8080/",
     "height": 389
    },
    "id": "AZfFSx7_irJi",
    "outputId": "4fc5688e-0e34-4af5-a08a-c67a9e0d3394"
   },
   "outputs": [
    {
     "ename": "TypeError",
     "evalue": "ignored",
     "output_type": "error",
     "traceback": [
      "\u001b[0;31m---------------------------------------------------------------------------\u001b[0m",
      "\u001b[0;31mTypeError\u001b[0m                                 Traceback (most recent call last)",
      "\u001b[0;32m<ipython-input-11-68f9d387a2e8>\u001b[0m in \u001b[0;36m<module>\u001b[0;34m\u001b[0m\n\u001b[1;32m      3\u001b[0m \u001b[0mtbl\u001b[0m\u001b[0;34m=\u001b[0m\u001b[0mTable\u001b[0m\u001b[0;34m.\u001b[0m\u001b[0mread_table\u001b[0m\u001b[0;34m(\u001b[0m\u001b[0;34m'https://raw.githubusercontent.com/lujiec2020/UMBC-IS296-Fall2022/main/student-data/Fortune1000_Companies_by%20Revenue.csv'\u001b[0m\u001b[0;34m)\u001b[0m\u001b[0;34m\u001b[0m\u001b[0;34m\u001b[0m\u001b[0m\n\u001b[1;32m      4\u001b[0m \u001b[0mtbl\u001b[0m\u001b[0;34m\u001b[0m\u001b[0;34m\u001b[0m\u001b[0m\n\u001b[0;32m----> 5\u001b[0;31m \u001b[0mnp\u001b[0m\u001b[0;34m.\u001b[0m\u001b[0msum\u001b[0m\u001b[0;34m(\u001b[0m\u001b[0mtbl\u001b[0m\u001b[0;34m.\u001b[0m\u001b[0mcolumn\u001b[0m\u001b[0;34m(\u001b[0m\u001b[0;36m2\u001b[0m\u001b[0;34m)\u001b[0m\u001b[0;34m)\u001b[0m\u001b[0;34m\u001b[0m\u001b[0;34m\u001b[0m\u001b[0m\n\u001b[0m",
      "\u001b[0;32m<__array_function__ internals>\u001b[0m in \u001b[0;36msum\u001b[0;34m(*args, **kwargs)\u001b[0m\n",
      "\u001b[0;32m/usr/local/lib/python3.7/dist-packages/numpy/core/fromnumeric.py\u001b[0m in \u001b[0;36msum\u001b[0;34m(a, axis, dtype, out, keepdims, initial, where)\u001b[0m\n\u001b[1;32m   2258\u001b[0m \u001b[0;34m\u001b[0m\u001b[0m\n\u001b[1;32m   2259\u001b[0m     return _wrapreduction(a, np.add, 'sum', axis, dtype, out, keepdims=keepdims,\n\u001b[0;32m-> 2260\u001b[0;31m                           initial=initial, where=where)\n\u001b[0m\u001b[1;32m   2261\u001b[0m \u001b[0;34m\u001b[0m\u001b[0m\n\u001b[1;32m   2262\u001b[0m \u001b[0;34m\u001b[0m\u001b[0m\n",
      "\u001b[0;32m/usr/local/lib/python3.7/dist-packages/numpy/core/fromnumeric.py\u001b[0m in \u001b[0;36m_wrapreduction\u001b[0;34m(obj, ufunc, method, axis, dtype, out, **kwargs)\u001b[0m\n\u001b[1;32m     84\u001b[0m                 \u001b[0;32mreturn\u001b[0m \u001b[0mreduction\u001b[0m\u001b[0;34m(\u001b[0m\u001b[0maxis\u001b[0m\u001b[0;34m=\u001b[0m\u001b[0maxis\u001b[0m\u001b[0;34m,\u001b[0m \u001b[0mout\u001b[0m\u001b[0;34m=\u001b[0m\u001b[0mout\u001b[0m\u001b[0;34m,\u001b[0m \u001b[0;34m**\u001b[0m\u001b[0mpasskwargs\u001b[0m\u001b[0;34m)\u001b[0m\u001b[0;34m\u001b[0m\u001b[0;34m\u001b[0m\u001b[0m\n\u001b[1;32m     85\u001b[0m \u001b[0;34m\u001b[0m\u001b[0m\n\u001b[0;32m---> 86\u001b[0;31m     \u001b[0;32mreturn\u001b[0m \u001b[0mufunc\u001b[0m\u001b[0;34m.\u001b[0m\u001b[0mreduce\u001b[0m\u001b[0;34m(\u001b[0m\u001b[0mobj\u001b[0m\u001b[0;34m,\u001b[0m \u001b[0maxis\u001b[0m\u001b[0;34m,\u001b[0m \u001b[0mdtype\u001b[0m\u001b[0;34m,\u001b[0m \u001b[0mout\u001b[0m\u001b[0;34m,\u001b[0m \u001b[0;34m**\u001b[0m\u001b[0mpasskwargs\u001b[0m\u001b[0;34m)\u001b[0m\u001b[0;34m\u001b[0m\u001b[0;34m\u001b[0m\u001b[0m\n\u001b[0m\u001b[1;32m     87\u001b[0m \u001b[0;34m\u001b[0m\u001b[0m\n\u001b[1;32m     88\u001b[0m \u001b[0;34m\u001b[0m\u001b[0m\n",
      "\u001b[0;31mTypeError\u001b[0m: cannot perform reduce with flexible type"
     ]
    }
   ],
   "source": [
    "#Seth\n",
    "#before cleaning\n",
    "tbl=Table.read_table('https://raw.githubusercontent.com/lujiec2020/UMBC-IS296-Fall2022/main/student-data/Fortune1000_Companies_by%20Revenue.csv')\n",
    "tbl\n",
    "np.sum(tbl.column(2))"
   ]
  },
  {
   "cell_type": "code",
   "execution_count": null,
   "metadata": {
    "colab": {
     "base_uri": "https://localhost:8080/",
     "height": 392
    },
    "id": "Cy2mSyDjblQd",
    "outputId": "6a86e6d2-4191-45dc-8d1f-00adc0bde5b8"
   },
   "outputs": [
    {
     "data": {
      "text/html": [
       "<table border=\"1\" class=\"dataframe\">\n",
       "    <thead>\n",
       "        <tr>\n",
       "            <th>Year</th> <th>Team</th> <th>Game</th> <th>Win</th> <th>Home</th> <th>MP</th> <th>FG</th> <th>FGA</th> <th>FGP</th> <th>TP</th> <th>TPA</th> <th>TPP</th> <th>FT</th> <th>FTA</th> <th>FTP</th> <th>ORB</th> <th>DRB</th> <th>TRB</th> <th>AST</th> <th>STL</th> <th>BLK</th> <th>TOV</th> <th>PF</th> <th>PTS</th>\n",
       "        </tr>\n",
       "    </thead>\n",
       "    <tbody>\n",
       "        <tr>\n",
       "            <td>1980</td> <td>Lakers </td> <td>1   </td> <td>1   </td> <td>1   </td> <td>240 </td> <td>48  </td> <td>89  </td> <td>0.539</td> <td>0   </td> <td>0   </td> <td>nan  </td> <td>13  </td> <td>15  </td> <td>0.867</td> <td>12  </td> <td>31  </td> <td>43  </td> <td>30  </td> <td>5   </td> <td>9   </td> <td>17  </td> <td>24  </td> <td>109 </td>\n",
       "        </tr>\n",
       "        <tr>\n",
       "            <td>1980</td> <td>Lakers </td> <td>2   </td> <td>0   </td> <td>1   </td> <td>240 </td> <td>48  </td> <td>95  </td> <td>0.505</td> <td>0   </td> <td>1   </td> <td>0    </td> <td>8   </td> <td>12  </td> <td>0.667</td> <td>15  </td> <td>37  </td> <td>52  </td> <td>32  </td> <td>12  </td> <td>7   </td> <td>26  </td> <td>27  </td> <td>104 </td>\n",
       "        </tr>\n",
       "        <tr>\n",
       "            <td>1980</td> <td>Lakers </td> <td>3   </td> <td>1   </td> <td>0   </td> <td>240 </td> <td>44  </td> <td>92  </td> <td>0.478</td> <td>0   </td> <td>1   </td> <td>0    </td> <td>23  </td> <td>30  </td> <td>0.767</td> <td>22  </td> <td>34  </td> <td>56  </td> <td>20  </td> <td>5   </td> <td>5   </td> <td>20  </td> <td>25  </td> <td>111 </td>\n",
       "        </tr>\n",
       "        <tr>\n",
       "            <td>1980</td> <td>Lakers </td> <td>4   </td> <td>0   </td> <td>0   </td> <td>240 </td> <td>44  </td> <td>93  </td> <td>0.473</td> <td>0   </td> <td>0   </td> <td>nan  </td> <td>14  </td> <td>19  </td> <td>0.737</td> <td>18  </td> <td>31  </td> <td>49  </td> <td>23  </td> <td>12  </td> <td>6   </td> <td>19  </td> <td>22  </td> <td>102 </td>\n",
       "        </tr>\n",
       "        <tr>\n",
       "            <td>1980</td> <td>Lakers </td> <td>5   </td> <td>1   </td> <td>1   </td> <td>240 </td> <td>41  </td> <td>91  </td> <td>0.451</td> <td>0   </td> <td>0   </td> <td>nan  </td> <td>26  </td> <td>33  </td> <td>0.788</td> <td>19  </td> <td>37  </td> <td>56  </td> <td>28  </td> <td>7   </td> <td>6   </td> <td>21  </td> <td>27  </td> <td>108 </td>\n",
       "        </tr>\n",
       "        <tr>\n",
       "            <td>1980</td> <td>Lakers </td> <td>6   </td> <td>1   </td> <td>0   </td> <td>240 </td> <td>45  </td> <td>92  </td> <td>0.489</td> <td>0   </td> <td>2   </td> <td>0    </td> <td>33  </td> <td>35  </td> <td>0.943</td> <td>17  </td> <td>35  </td> <td>52  </td> <td>27  </td> <td>14  </td> <td>4   </td> <td>17  </td> <td>22  </td> <td>123 </td>\n",
       "        </tr>\n",
       "        <tr>\n",
       "            <td>1981</td> <td>Celtics</td> <td>1   </td> <td>1   </td> <td>1   </td> <td>240 </td> <td>41  </td> <td>95  </td> <td>0.432</td> <td>0   </td> <td>1   </td> <td>0    </td> <td>16  </td> <td>20  </td> <td>0.8  </td> <td>25  </td> <td>29  </td> <td>54  </td> <td>23  </td> <td>6   </td> <td>5   </td> <td>19  </td> <td>21  </td> <td>98  </td>\n",
       "        </tr>\n",
       "        <tr>\n",
       "            <td>1981</td> <td>Celtics</td> <td>2   </td> <td>0   </td> <td>1   </td> <td>240 </td> <td>41  </td> <td>82  </td> <td>0.5  </td> <td>0   </td> <td>3   </td> <td>0    </td> <td>8   </td> <td>13  </td> <td>0.615</td> <td>14  </td> <td>34  </td> <td>48  </td> <td>17  </td> <td>6   </td> <td>7   </td> <td>22  </td> <td>27  </td> <td>90  </td>\n",
       "        </tr>\n",
       "        <tr>\n",
       "            <td>1981</td> <td>Celtics</td> <td>3   </td> <td>1   </td> <td>0   </td> <td>240 </td> <td>40  </td> <td>89  </td> <td>0.449</td> <td>2   </td> <td>3   </td> <td>0.667</td> <td>12  </td> <td>19  </td> <td>0.632</td> <td>16  </td> <td>28  </td> <td>44  </td> <td>24  </td> <td>12  </td> <td>6   </td> <td>11  </td> <td>25  </td> <td>94  </td>\n",
       "        </tr>\n",
       "        <tr>\n",
       "            <td>1981</td> <td>Celtics</td> <td>4   </td> <td>0   </td> <td>0   </td> <td>240 </td> <td>35  </td> <td>74  </td> <td>0.473</td> <td>0   </td> <td>3   </td> <td>0    </td> <td>16  </td> <td>24  </td> <td>0.667</td> <td>17  </td> <td>30  </td> <td>47  </td> <td>22  </td> <td>5   </td> <td>6   </td> <td>22  </td> <td>22  </td> <td>86  </td>\n",
       "        </tr>\n",
       "    </tbody>\n",
       "</table>\n",
       "<p>... (210 rows omitted)</p>"
      ],
      "text/plain": [
       "Year | Team    | Game | Win  | Home | MP   | FG   | FGA  | FGP   | TP   | TPA  | TPP   | FT   | FTA  | FTP   | ORB  | DRB  | TRB  | AST  | STL  | BLK  | TOV  | PF   | PTS\n",
       "1980 | Lakers  | 1    | 1    | 1    | 240  | 48   | 89   | 0.539 | 0    | 0    | nan   | 13   | 15   | 0.867 | 12   | 31   | 43   | 30   | 5    | 9    | 17   | 24   | 109\n",
       "1980 | Lakers  | 2    | 0    | 1    | 240  | 48   | 95   | 0.505 | 0    | 1    | 0     | 8    | 12   | 0.667 | 15   | 37   | 52   | 32   | 12   | 7    | 26   | 27   | 104\n",
       "1980 | Lakers  | 3    | 1    | 0    | 240  | 44   | 92   | 0.478 | 0    | 1    | 0     | 23   | 30   | 0.767 | 22   | 34   | 56   | 20   | 5    | 5    | 20   | 25   | 111\n",
       "1980 | Lakers  | 4    | 0    | 0    | 240  | 44   | 93   | 0.473 | 0    | 0    | nan   | 14   | 19   | 0.737 | 18   | 31   | 49   | 23   | 12   | 6    | 19   | 22   | 102\n",
       "1980 | Lakers  | 5    | 1    | 1    | 240  | 41   | 91   | 0.451 | 0    | 0    | nan   | 26   | 33   | 0.788 | 19   | 37   | 56   | 28   | 7    | 6    | 21   | 27   | 108\n",
       "1980 | Lakers  | 6    | 1    | 0    | 240  | 45   | 92   | 0.489 | 0    | 2    | 0     | 33   | 35   | 0.943 | 17   | 35   | 52   | 27   | 14   | 4    | 17   | 22   | 123\n",
       "1981 | Celtics | 1    | 1    | 1    | 240  | 41   | 95   | 0.432 | 0    | 1    | 0     | 16   | 20   | 0.8   | 25   | 29   | 54   | 23   | 6    | 5    | 19   | 21   | 98\n",
       "1981 | Celtics | 2    | 0    | 1    | 240  | 41   | 82   | 0.5   | 0    | 3    | 0     | 8    | 13   | 0.615 | 14   | 34   | 48   | 17   | 6    | 7    | 22   | 27   | 90\n",
       "1981 | Celtics | 3    | 1    | 0    | 240  | 40   | 89   | 0.449 | 2    | 3    | 0.667 | 12   | 19   | 0.632 | 16   | 28   | 44   | 24   | 12   | 6    | 11   | 25   | 94\n",
       "1981 | Celtics | 4    | 0    | 0    | 240  | 35   | 74   | 0.473 | 0    | 3    | 0     | 16   | 24   | 0.667 | 17   | 30   | 47   | 22   | 5    | 6    | 22   | 22   | 86\n",
       "... (210 rows omitted)"
      ]
     },
     "execution_count": 12,
     "metadata": {},
     "output_type": "execute_result"
    }
   ],
   "source": [
    "#Shivam\n",
    "tbl = Table.read_table('https://raw.githubusercontent.com/lujiec2020/UMBC-IS296-Fall2022/main/student-data/championsdata.csv')\n",
    "tbl"
   ]
  },
  {
   "cell_type": "code",
   "execution_count": null,
   "metadata": {
    "colab": {
     "base_uri": "https://localhost:8080/"
    },
    "id": "vAMsIFXPjCrn",
    "outputId": "4a4fa216-a0e5-418c-ca97-5fdfdf827add"
   },
   "outputs": [
    {
     "data": {
      "text/plain": [
       "17986829"
      ]
     },
     "execution_count": 13,
     "metadata": {},
     "output_type": "execute_result"
    }
   ],
   "source": [
    "#after cleaning\n",
    "tbl=Table.read_table('https://raw.githubusercontent.com/lujiec2020/UMBC-IS296-Fall2022/main/student-data/Fortune1000_Companies_by%20Revenue_cleaned.csv')\n",
    "tbl\n",
    "np.sum(tbl.column(2))"
   ]
  },
  {
   "cell_type": "code",
   "execution_count": null,
   "metadata": {
    "colab": {
     "base_uri": "https://localhost:8080/",
     "height": 499
    },
    "id": "IWr_BZpifmgq",
    "outputId": "01ac0c1b-fd2e-4e80-c455-48c81fec5840"
   },
   "outputs": [
    {
     "data": {
      "text/html": [
       "<table border=\"1\" class=\"dataframe\">\n",
       "    <thead>\n",
       "        <tr>\n",
       "            <th>Rk</th> <th>Player</th> <th>Pos</th> <th>Age</th> <th>Tm</th> <th>G</th> <th>GS</th> <th>MP</th> <th>FG</th> <th>FGA</th> <th>FG_pctg</th> <th>3P</th> <th>3PA</th> <th>X3P_pctg</th> <th>2P</th> <th>2PA</th> <th>2P_pctg</th> <th>eFG_pctg</th> <th>FT</th> <th>FTA</th> <th>FT_pctg</th> <th>ORB</th> <th>DRB</th> <th>TRB</th> <th>AST</th> <th>STL</th> <th>BLK</th> <th>TOV</th> <th>PF</th> <th>PTS</th>\n",
       "        </tr>\n",
       "    </thead>\n",
       "    <tbody>\n",
       "        <tr>\n",
       "            <td>1   </td> <td>Precious Achiuwa        </td> <td>C   </td> <td>22  </td> <td>TOR </td> <td>6   </td> <td>1   </td> <td>27.8</td> <td>4.2 </td> <td>8.7 </td> <td>0.481  </td> <td>0.8 </td> <td>2.7 </td> <td>0.313   </td> <td>3.3 </td> <td>6   </td> <td>0.556  </td> <td>0.529   </td> <td>1   </td> <td>1.7 </td> <td>0.6    </td> <td>1.3 </td> <td>3.5 </td> <td>4.8 </td> <td>1   </td> <td>0.2 </td> <td>0.8 </td> <td>1.5 </td> <td>2.3 </td> <td>10.2</td>\n",
       "        </tr>\n",
       "        <tr>\n",
       "            <td>2   </td> <td>Steven Adams            </td> <td>C   </td> <td>28  </td> <td>MEM </td> <td>7   </td> <td>5   </td> <td>16.3</td> <td>1.3 </td> <td>3   </td> <td>0.429  </td> <td>0   </td> <td>0   </td> <td>0       </td> <td>1.3 </td> <td>3   </td> <td>0.429  </td> <td>0.429   </td> <td>0.9 </td> <td>1.6 </td> <td>0.545  </td> <td>2.1 </td> <td>4.3 </td> <td>6.4 </td> <td>2.1 </td> <td>0.1 </td> <td>0.1 </td> <td>0.6 </td> <td>1.7 </td> <td>3.4 </td>\n",
       "        </tr>\n",
       "        <tr>\n",
       "            <td>3   </td> <td>Bam Adebayo             </td> <td>C   </td> <td>24  </td> <td>MIA </td> <td>18  </td> <td>18  </td> <td>34.1</td> <td>5.8 </td> <td>9.7 </td> <td>0.594  </td> <td>0   </td> <td>0.1 </td> <td>0       </td> <td>5.8 </td> <td>9.7 </td> <td>0.598  </td> <td>0.594   </td> <td>3.2 </td> <td>4.2 </td> <td>0.763  </td> <td>2.1 </td> <td>5.9 </td> <td>8   </td> <td>2.7 </td> <td>1   </td> <td>0.7 </td> <td>2.1 </td> <td>3.1 </td> <td>14.8</td>\n",
       "        </tr>\n",
       "        <tr>\n",
       "            <td>4   </td> <td>Nickeil Alexander-Walker</td> <td>SG  </td> <td>23  </td> <td>UTA </td> <td>1   </td> <td>0   </td> <td>5   </td> <td>2   </td> <td>2   </td> <td>1      </td> <td>0   </td> <td>0   </td> <td>0       </td> <td>2   </td> <td>2   </td> <td>1      </td> <td>1       </td> <td>1   </td> <td>1   </td> <td>1      </td> <td>0   </td> <td>1   </td> <td>1   </td> <td>1   </td> <td>1   </td> <td>0   </td> <td>0   </td> <td>0   </td> <td>5   </td>\n",
       "        </tr>\n",
       "        <tr>\n",
       "            <td>5   </td> <td>Grayson Allen           </td> <td>SG  </td> <td>26  </td> <td>MIL </td> <td>12  </td> <td>5   </td> <td>25.4</td> <td>3.1 </td> <td>6.8 </td> <td>0.451  </td> <td>1.6 </td> <td>4   </td> <td>0.396   </td> <td>1.5 </td> <td>2.8 </td> <td>0.529  </td> <td>0.567   </td> <td>0.6 </td> <td>0.9 </td> <td>0.636  </td> <td>0.4 </td> <td>2.5 </td> <td>2.9 </td> <td>1.3 </td> <td>0.7 </td> <td>0.3 </td> <td>0.8 </td> <td>1.8 </td> <td>8.3 </td>\n",
       "        </tr>\n",
       "        <tr>\n",
       "            <td>6   </td> <td>Jose Alvarado           </td> <td>PG  </td> <td>23  </td> <td>NOP </td> <td>6   </td> <td>0   </td> <td>19.5</td> <td>2.7 </td> <td>5.5 </td> <td>0.485  </td> <td>1   </td> <td>2.7 </td> <td>0.375   </td> <td>1.7 </td> <td>2.8 </td> <td>0.588  </td> <td>0.576   </td> <td>1.7 </td> <td>2.2 </td> <td>0.769  </td> <td>0.3 </td> <td>1   </td> <td>1.3 </td> <td>1.5 </td> <td>1.2 </td> <td>0.2 </td> <td>1.2 </td> <td>3   </td> <td>8   </td>\n",
       "        </tr>\n",
       "        <tr>\n",
       "            <td>7   </td> <td>Kyle Anderson           </td> <td>PF  </td> <td>28  </td> <td>MEM </td> <td>12  </td> <td>1   </td> <td>18.4</td> <td>2.4 </td> <td>4.3 </td> <td>0.569  </td> <td>0.3 </td> <td>1   </td> <td>0.25    </td> <td>2.2 </td> <td>3.3 </td> <td>0.667  </td> <td>0.598   </td> <td>0.9 </td> <td>1.5 </td> <td>0.611  </td> <td>0.8 </td> <td>3.5 </td> <td>4.3 </td> <td>1.8 </td> <td>0.9 </td> <td>0.6 </td> <td>0.8 </td> <td>1.8 </td> <td>6   </td>\n",
       "        </tr>\n",
       "        <tr>\n",
       "            <td>8   </td> <td>Giannis Antetokounmpo   </td> <td>PF  </td> <td>27  </td> <td>MIL </td> <td>12  </td> <td>12  </td> <td>37.3</td> <td>11.7</td> <td>23.8</td> <td>0.491  </td> <td>0.8 </td> <td>3.4 </td> <td>0.22    </td> <td>10.9</td> <td>20.3</td> <td>0.537  </td> <td>0.507   </td> <td>7.6 </td> <td>11.2</td> <td>0.679  </td> <td>2.2 </td> <td>12  </td> <td>14.2</td> <td>6.8 </td> <td>0.7 </td> <td>1.3 </td> <td>4.5 </td> <td>3.6 </td> <td>31.7</td>\n",
       "        </tr>\n",
       "        <tr>\n",
       "            <td>9   </td> <td>Thanasis Antetokounmpo  </td> <td>SF  </td> <td>29  </td> <td>MIL </td> <td>8   </td> <td>0   </td> <td>2.5 </td> <td>0.3 </td> <td>0.4 </td> <td>0.667  </td> <td>0   </td> <td>0   </td> <td>0       </td> <td>0.3 </td> <td>0.4 </td> <td>0.667  </td> <td>0.667   </td> <td>0.1 </td> <td>0.4 </td> <td>0.333  </td> <td>0.1 </td> <td>0.4 </td> <td>0.5 </td> <td>0.1 </td> <td>0.1 </td> <td>0   </td> <td>0   </td> <td>0.5 </td> <td>0.6 </td>\n",
       "        </tr>\n",
       "        <tr>\n",
       "            <td>10  </td> <td>OG Anunoby              </td> <td>SF  </td> <td>24  </td> <td>TOR </td> <td>6   </td> <td>6   </td> <td>36.2</td> <td>6.5 </td> <td>13.7</td> <td>0.476  </td> <td>2.3 </td> <td>6.8 </td> <td>0.341   </td> <td>4.2 </td> <td>6.8 </td> <td>0.61   </td> <td>0.561   </td> <td>2   </td> <td>2.7 </td> <td>0.75   </td> <td>1.2 </td> <td>2.8 </td> <td>4   </td> <td>2.5 </td> <td>1   </td> <td>0.2 </td> <td>1.7 </td> <td>3   </td> <td>17.3</td>\n",
       "        </tr>\n",
       "    </tbody>\n",
       "</table>\n",
       "<p>... (207 rows omitted)</p>"
      ],
      "text/plain": [
       "Rk   | Player                   | Pos  | Age  | Tm   | G    | GS   | MP   | FG   | FGA  | FG_pctg | 3P   | 3PA  | X3P_pctg | 2P   | 2PA  | 2P_pctg | eFG_pctg | FT   | FTA  | FT_pctg | ORB  | DRB  | TRB  | AST  | STL  | BLK  | TOV  | PF   | PTS\n",
       "1    | Precious Achiuwa         | C    | 22   | TOR  | 6    | 1    | 27.8 | 4.2  | 8.7  | 0.481   | 0.8  | 2.7  | 0.313    | 3.3  | 6    | 0.556   | 0.529    | 1    | 1.7  | 0.6     | 1.3  | 3.5  | 4.8  | 1    | 0.2  | 0.8  | 1.5  | 2.3  | 10.2\n",
       "2    | Steven Adams             | C    | 28   | MEM  | 7    | 5    | 16.3 | 1.3  | 3    | 0.429   | 0    | 0    | 0        | 1.3  | 3    | 0.429   | 0.429    | 0.9  | 1.6  | 0.545   | 2.1  | 4.3  | 6.4  | 2.1  | 0.1  | 0.1  | 0.6  | 1.7  | 3.4\n",
       "3    | Bam Adebayo              | C    | 24   | MIA  | 18   | 18   | 34.1 | 5.8  | 9.7  | 0.594   | 0    | 0.1  | 0        | 5.8  | 9.7  | 0.598   | 0.594    | 3.2  | 4.2  | 0.763   | 2.1  | 5.9  | 8    | 2.7  | 1    | 0.7  | 2.1  | 3.1  | 14.8\n",
       "4    | Nickeil Alexander-Walker | SG   | 23   | UTA  | 1    | 0    | 5    | 2    | 2    | 1       | 0    | 0    | 0        | 2    | 2    | 1       | 1        | 1    | 1    | 1       | 0    | 1    | 1    | 1    | 1    | 0    | 0    | 0    | 5\n",
       "5    | Grayson Allen            | SG   | 26   | MIL  | 12   | 5    | 25.4 | 3.1  | 6.8  | 0.451   | 1.6  | 4    | 0.396    | 1.5  | 2.8  | 0.529   | 0.567    | 0.6  | 0.9  | 0.636   | 0.4  | 2.5  | 2.9  | 1.3  | 0.7  | 0.3  | 0.8  | 1.8  | 8.3\n",
       "6    | Jose Alvarado            | PG   | 23   | NOP  | 6    | 0    | 19.5 | 2.7  | 5.5  | 0.485   | 1    | 2.7  | 0.375    | 1.7  | 2.8  | 0.588   | 0.576    | 1.7  | 2.2  | 0.769   | 0.3  | 1    | 1.3  | 1.5  | 1.2  | 0.2  | 1.2  | 3    | 8\n",
       "7    | Kyle Anderson            | PF   | 28   | MEM  | 12   | 1    | 18.4 | 2.4  | 4.3  | 0.569   | 0.3  | 1    | 0.25     | 2.2  | 3.3  | 0.667   | 0.598    | 0.9  | 1.5  | 0.611   | 0.8  | 3.5  | 4.3  | 1.8  | 0.9  | 0.6  | 0.8  | 1.8  | 6\n",
       "8    | Giannis Antetokounmpo    | PF   | 27   | MIL  | 12   | 12   | 37.3 | 11.7 | 23.8 | 0.491   | 0.8  | 3.4  | 0.22     | 10.9 | 20.3 | 0.537   | 0.507    | 7.6  | 11.2 | 0.679   | 2.2  | 12   | 14.2 | 6.8  | 0.7  | 1.3  | 4.5  | 3.6  | 31.7\n",
       "9    | Thanasis Antetokounmpo   | SF   | 29   | MIL  | 8    | 0    | 2.5  | 0.3  | 0.4  | 0.667   | 0    | 0    | 0        | 0.3  | 0.4  | 0.667   | 0.667    | 0.1  | 0.4  | 0.333   | 0.1  | 0.4  | 0.5  | 0.1  | 0.1  | 0    | 0    | 0.5  | 0.6\n",
       "10   | OG Anunoby               | SF   | 24   | TOR  | 6    | 6    | 36.2 | 6.5  | 13.7 | 0.476   | 2.3  | 6.8  | 0.341    | 4.2  | 6.8  | 0.61    | 0.561    | 2    | 2.7  | 0.75    | 1.2  | 2.8  | 4    | 2.5  | 1    | 0.2  | 1.7  | 3    | 17.3\n",
       "... (207 rows omitted)"
      ]
     },
     "execution_count": 14,
     "metadata": {},
     "output_type": "execute_result"
    }
   ],
   "source": [
    "#andrew\n",
    "#playoff\n",
    "tbl = Table.read_table('https://raw.githubusercontent.com/lujiec2020/UMBC-IS296-Fall2022/main/student-data/2021-2022_NBA_Player_Stats_Playoffs.csv')\n",
    "tbl"
   ]
  },
  {
   "cell_type": "code",
   "execution_count": null,
   "metadata": {
    "id": "a10yTjCMVc29"
   },
   "outputs": [],
   "source": [
    "from google.colab import drive\n",
    "drive.mount('/content/drive')"
   ]
  },
  {
   "cell_type": "code",
   "execution_count": null,
   "metadata": {
    "colab": {
     "base_uri": "https://localhost:8080/",
     "height": 392
    },
    "id": "O8jBFXr9AbEr",
    "outputId": "8434ef71-408f-4949-f64a-b5174b3e2913"
   },
   "outputs": [
    {
     "data": {
      "text/html": [
       "<table border=\"1\" class=\"dataframe\">\n",
       "    <thead>\n",
       "        <tr>\n",
       "            <th>sepal_length</th> <th>sepal_width</th> <th>petal_length</th> <th>petal_width</th> <th>species</th>\n",
       "        </tr>\n",
       "    </thead>\n",
       "    <tbody>\n",
       "        <tr>\n",
       "            <td>5.1         </td> <td>3.5        </td> <td>1.4         </td> <td>0.2        </td> <td>Iris-setosa</td>\n",
       "        </tr>\n",
       "        <tr>\n",
       "            <td>4.9         </td> <td>3          </td> <td>1.4         </td> <td>0.2        </td> <td>Iris-setosa</td>\n",
       "        </tr>\n",
       "        <tr>\n",
       "            <td>4.7         </td> <td>3.2        </td> <td>1.3         </td> <td>0.2        </td> <td>Iris-setosa</td>\n",
       "        </tr>\n",
       "        <tr>\n",
       "            <td>4.6         </td> <td>3.1        </td> <td>1.5         </td> <td>0.2        </td> <td>Iris-setosa</td>\n",
       "        </tr>\n",
       "        <tr>\n",
       "            <td>5           </td> <td>3.6        </td> <td>1.4         </td> <td>0.2        </td> <td>Iris-setosa</td>\n",
       "        </tr>\n",
       "        <tr>\n",
       "            <td>5.4         </td> <td>3.9        </td> <td>1.7         </td> <td>0.4        </td> <td>Iris-setosa</td>\n",
       "        </tr>\n",
       "        <tr>\n",
       "            <td>4.6         </td> <td>3.4        </td> <td>1.4         </td> <td>0.3        </td> <td>Iris-setosa</td>\n",
       "        </tr>\n",
       "        <tr>\n",
       "            <td>5           </td> <td>3.4        </td> <td>1.5         </td> <td>0.2        </td> <td>Iris-setosa</td>\n",
       "        </tr>\n",
       "        <tr>\n",
       "            <td>4.4         </td> <td>2.9        </td> <td>1.4         </td> <td>0.2        </td> <td>Iris-setosa</td>\n",
       "        </tr>\n",
       "        <tr>\n",
       "            <td>4.9         </td> <td>3.1        </td> <td>1.5         </td> <td>0.1        </td> <td>Iris-setosa</td>\n",
       "        </tr>\n",
       "    </tbody>\n",
       "</table>\n",
       "<p>... (140 rows omitted)</p>"
      ],
      "text/plain": [
       "sepal_length | sepal_width | petal_length | petal_width | species\n",
       "5.1          | 3.5         | 1.4          | 0.2         | Iris-setosa\n",
       "4.9          | 3           | 1.4          | 0.2         | Iris-setosa\n",
       "4.7          | 3.2         | 1.3          | 0.2         | Iris-setosa\n",
       "4.6          | 3.1         | 1.5          | 0.2         | Iris-setosa\n",
       "5            | 3.6         | 1.4          | 0.2         | Iris-setosa\n",
       "5.4          | 3.9         | 1.7          | 0.4         | Iris-setosa\n",
       "4.6          | 3.4         | 1.4          | 0.3         | Iris-setosa\n",
       "5            | 3.4         | 1.5          | 0.2         | Iris-setosa\n",
       "4.4          | 2.9         | 1.4          | 0.2         | Iris-setosa\n",
       "4.9          | 3.1         | 1.5          | 0.1         | Iris-setosa\n",
       "... (140 rows omitted)"
      ]
     },
     "execution_count": 10,
     "metadata": {},
     "output_type": "execute_result"
    }
   ],
   "source": [
    "tbl = Table.read_table('/content/drive/MyDrive/demo/IRIS.csv')\n",
    "tbl"
   ]
  },
  {
   "cell_type": "code",
   "execution_count": null,
   "metadata": {
    "colab": {
     "base_uri": "https://localhost:8080/",
     "height": 392
    },
    "id": "akBu3dBl_Dk7",
    "outputId": "50512eef-8750-4312-bd84-cca8ee321b0d"
   },
   "outputs": [
    {
     "data": {
      "text/html": [
       "<table border=\"1\" class=\"dataframe\">\n",
       "    <thead>\n",
       "        <tr>\n",
       "            <th>name</th> <th>net worth</th> <th>citizenship</th> <th>industry</th>\n",
       "        </tr>\n",
       "    </thead>\n",
       "    <tbody>\n",
       "        <tr>\n",
       "            <td>Jeff Bezos     </td> <td>115739645754</td> <td>United States</td> <td>Technology </td>\n",
       "        </tr>\n",
       "        <tr>\n",
       "            <td>Bill Gates     </td> <td>115488591742</td> <td>United States</td> <td>Technology </td>\n",
       "        </tr>\n",
       "        <tr>\n",
       "            <td>Bernard Arnault</td> <td>102244728472</td> <td>France       </td> <td>Consumer   </td>\n",
       "        </tr>\n",
       "        <tr>\n",
       "            <td>Warren Buffett </td> <td>89408278188 </td> <td>United States</td> <td>Diversified</td>\n",
       "        </tr>\n",
       "        <tr>\n",
       "            <td>Mark Zuckerberg</td> <td>83053011017 </td> <td>United States</td> <td>Technology </td>\n",
       "        </tr>\n",
       "        <tr>\n",
       "            <td>Amancio Ortega </td> <td>73839366133 </td> <td>Spain        </td> <td>Retail     </td>\n",
       "        </tr>\n",
       "        <tr>\n",
       "            <td>Larry Page     </td> <td>69933009751 </td> <td>United States</td> <td>Technology </td>\n",
       "        </tr>\n",
       "        <tr>\n",
       "            <td>Sergey Brin    </td> <td>67825250468 </td> <td>United States</td> <td>Technology </td>\n",
       "        </tr>\n",
       "        <tr>\n",
       "            <td>Carlos Slim    </td> <td>62527178289 </td> <td>Mexico       </td> <td>Diversified</td>\n",
       "        </tr>\n",
       "        <tr>\n",
       "            <td>Charles Koch   </td> <td>61046822719 </td> <td>United States</td> <td>Industrial </td>\n",
       "        </tr>\n",
       "    </tbody>\n",
       "</table>\n",
       "<p>... (490 rows omitted)</p>"
      ],
      "text/plain": [
       "name            | net worth    | citizenship   | industry\n",
       "Jeff Bezos      | 115739645754 | United States | Technology\n",
       "Bill Gates      | 115488591742 | United States | Technology\n",
       "Bernard Arnault | 102244728472 | France        | Consumer\n",
       "Warren Buffett  | 89408278188  | United States | Diversified\n",
       "Mark Zuckerberg | 83053011017  | United States | Technology\n",
       "Amancio Ortega  | 73839366133  | Spain         | Retail\n",
       "Larry Page      | 69933009751  | United States | Technology\n",
       "Sergey Brin     | 67825250468  | United States | Technology\n",
       "Carlos Slim     | 62527178289  | Mexico        | Diversified\n",
       "Charles Koch    | 61046822719  | United States | Industrial\n",
       "... (490 rows omitted)"
      ]
     },
     "execution_count": 11,
     "metadata": {},
     "output_type": "execute_result"
    }
   ],
   "source": [
    "tbl = Table.read_table('/content/drive/MyDrive/demo/296-data/billionaires.csv')\n",
    "tbl"
   ]
  },
  {
   "cell_type": "code",
   "execution_count": null,
   "metadata": {
    "id": "h8jk_Euu_Nja"
   },
   "outputs": [],
   "source": []
  }
 ],
 "metadata": {
  "colab": {
   "collapsed_sections": [
    "vznvU7_IOp5s",
    "6k3464H0bWRU"
   ],
   "provenance": []
  },
  "kernelspec": {
   "display_name": "Python 3 (ipykernel)",
   "language": "python",
   "name": "python3"
  },
  "language_info": {
   "codemirror_mode": {
    "name": "ipython",
    "version": 3
   },
   "file_extension": ".py",
   "mimetype": "text/x-python",
   "name": "python",
   "nbconvert_exporter": "python",
   "pygments_lexer": "ipython3",
   "version": "3.11.5"
  }
 },
 "nbformat": 4,
 "nbformat_minor": 1
}
