{
 "cells": [
  {
   "cell_type": "code",
   "execution_count": null,
   "id": "4e3c4b8e",
   "metadata": {},
   "outputs": [],
   "source": [
    "from datascience import *\n",
    "import numpy as np\n",
    "\n",
    "%matplotlib inline\n",
    "import matplotlib.pyplot as plots\n",
    "plots.style.use('fivethirtyeight')"
   ]
  },
  {
   "cell_type": "markdown",
   "id": "07d6543c",
   "metadata": {},
   "source": [
    "# This is a template for assessing models using simulation, use this template to solve problem 1 and 2"
   ]
  },
  {
   "cell_type": "markdown",
   "id": "28ff1e28",
   "metadata": {},
   "source": [
    "## Example1: Swain vs. Alabama - assessing chance model of binary outcomes ##"
   ]
  },
  {
   "cell_type": "code",
   "execution_count": null,
   "id": "cca5d290",
   "metadata": {},
   "outputs": [],
   "source": [
    "#Step1: gather data \n",
    "sample_size = 100\n",
    "model_proportions = make_array(.26, .74) \n",
    "obs_value = 8\n",
    "obs_value"
   ]
  },
  {
   "cell_type": "code",
   "execution_count": null,
   "id": "938bec2f",
   "metadata": {},
   "outputs": [],
   "source": [
    "#Step2: run simulation\n",
    "sim_values = make_array()\n",
    "for i in np.arange(1000):\n",
    "    new_value = sample_proportions(sample_size, model_proportions).item(0)* 100 # update\n",
    "    sim_values = np.append(sim_values, new_value)\n",
    "sim_values[0:10]"
   ]
  },
  {
   "cell_type": "code",
   "execution_count": null,
   "id": "5f95c369",
   "metadata": {},
   "outputs": [],
   "source": [
    "#Step 3: analyze results\n",
    "Table().with_column('Simulated value (if model is true)', sim_values).hist(bins=np.arange(5.5,40.,1)) # update\n",
    "p_value = np.mean(sim_values < obs_value) # update\n",
    "print('P-value=',str(p_value))"
   ]
  },
  {
   "cell_type": "markdown",
   "id": "338c73d5",
   "metadata": {},
   "source": [
    "## Example 2: Jury Panel - assessing chance model of multiple outcomes"
   ]
  },
  {
   "cell_type": "code",
   "execution_count": null,
   "id": "c6fe7461",
   "metadata": {},
   "outputs": [],
   "source": [
    "# utility function to calcualte tvd\n",
    "def tvd(dist1, dist2):\n",
    "    return sum(abs(dist1 - dist2))/2"
   ]
  },
  {
   "cell_type": "code",
   "execution_count": null,
   "id": "f1ba0c1c",
   "metadata": {},
   "outputs": [],
   "source": [
    "#Step 1: Gather data\n",
    "sample_size = 1423\n",
    "#Under the model, this is the true distribution of people from which the jurors are randomly sampled \n",
    "model = make_array(0.15, 0.18, 0.12, 0.54, 0.01)\n",
    "#this is the observed panel distribution \n",
    "obs = make_array(0.26, 0.08, 0.08, 0.54, 0.04)\n",
    "obs_tvd = tvd(model, obs) # calculated observed tvd between observed distribution and model\n",
    "obs_tvd"
   ]
  },
  {
   "cell_type": "code",
   "execution_count": null,
   "id": "bd40f2cb",
   "metadata": {},
   "outputs": [],
   "source": [
    "# Step2: Run simulation\n",
    "sim_tvds = make_array()\n",
    "num_simulations = 10000\n",
    "for i in np.arange(num_simulations):\n",
    "    new_tvd = tvd(sample_proportions(sample_size, model), model)\n",
    "    sim_tvds = np.append(sim_tvds, new_tvd)\n",
    "sim_tvds[0:10] "
   ]
  },
  {
   "cell_type": "code",
   "execution_count": null,
   "id": "c71e98ef",
   "metadata": {},
   "outputs": [],
   "source": [
    "#Step 3: Analyze results\n",
    "Table().with_column('Simulated TVDs (if model is true)', sim_tvds).hist(bins =np.arange(0, .05, .0025)) # update\n",
    "p_value = np.mean(sim_tvds>obs_tvd) # update\n",
    "print('P-value=',str(p_value))"
   ]
  }
 ],
 "metadata": {
  "kernelspec": {
   "display_name": "Python 3 (ipykernel)",
   "language": "python",
   "name": "python3"
  },
  "language_info": {
   "codemirror_mode": {
    "name": "ipython",
    "version": 3
   },
   "file_extension": ".py",
   "mimetype": "text/x-python",
   "name": "python",
   "nbconvert_exporter": "python",
   "pygments_lexer": "ipython3",
   "version": "3.11.5"
  }
 },
 "nbformat": 4,
 "nbformat_minor": 5
}
