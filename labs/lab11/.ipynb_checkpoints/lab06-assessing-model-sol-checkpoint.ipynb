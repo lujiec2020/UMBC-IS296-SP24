{
 "cells": [
  {
   "cell_type": "code",
   "execution_count": 2,
   "id": "4e3c4b8e",
   "metadata": {},
   "outputs": [],
   "source": [
    "from datascience import *\n",
    "import numpy as np\n",
    "\n",
    "%matplotlib inline\n",
    "import matplotlib.pyplot as plots\n",
    "plots.style.use('fivethirtyeight')"
   ]
  },
  {
   "cell_type": "markdown",
   "id": "07d6543c",
   "metadata": {},
   "source": [
    "# This is a template for assessing models using simulation"
   ]
  },
  {
   "cell_type": "markdown",
   "id": "28ff1e28",
   "metadata": {},
   "source": [
    "## Problem1: In this cohort of IS 296, we have 12 Commuter students out of 22 students, given UMBC’s distribution of commuter vs on-campus student, are commuter student underrepresented in our class? ##"
   ]
  },
  {
   "cell_type": "code",
   "execution_count": 3,
   "id": "cca5d290",
   "metadata": {},
   "outputs": [
    {
     "data": {
      "text/plain": [
       "12"
      ]
     },
     "execution_count": 3,
     "metadata": {},
     "output_type": "execute_result"
    }
   ],
   "source": [
    "#Step1: gather data \n",
    "sample_size = 22\n",
    "model_proportions = make_array(.67, .33) \n",
    "obs_value = 12\n",
    "obs_value"
   ]
  },
  {
   "cell_type": "code",
   "execution_count": 9,
   "id": "938bec2f",
   "metadata": {},
   "outputs": [
    {
     "data": {
      "text/plain": [
       "array([15., 16., 19., 14., 16., 12., 15., 16., 14., 13.])"
      ]
     },
     "execution_count": 9,
     "metadata": {},
     "output_type": "execute_result"
    }
   ],
   "source": [
    "#Step2: run simulation\n",
    "sim_values = make_array()\n",
    "for i in np.arange(10000):\n",
    "    new_value = sample_proportions(sample_size, model_proportions).item(0)* 22 # update\n",
    "    sim_values = np.append(sim_values, new_value)\n",
    "sim_values[0:10]"
   ]
  },
  {
   "cell_type": "code",
   "execution_count": 13,
   "id": "5f95c369",
   "metadata": {},
   "outputs": [
    {
     "name": "stdout",
     "output_type": "stream",
     "text": [
      "P-value= 0.0705\n"
     ]
    },
    {
     "data": {
      "image/png": "[encoded data removed]",
      "text/plain": [
       "<Figure size 432x288 with 1 Axes>"
      ]
     },
     "metadata": {},
     "output_type": "display_data"
    }
   ],
   "source": [
    "#Step 3: analyze results\n",
    "Table().with_column('Simulated value (if model is true)', sim_values).hist(bins=np.arange(8,25,1)) # update\n",
    "p_value = np.mean(sim_values < obs_value) # update\n",
    "print('P-value=',str(p_value))"
   ]
  },
  {
   "cell_type": "markdown",
   "id": "338c73d5",
   "metadata": {},
   "source": [
    "### Is there significant disparity of 1st year retention rate across ethnic groups for Fall 2020 cohort (you may choose to work with data for New Freshman or New Transfer students) - you can focus on Asian, Black/African American, Hispanic, White, and group other students into “others”\n",
    "\n",
    "### This solution is on transfer students\n"
   ]
  },
  {
   "cell_type": "code",
   "execution_count": 16,
   "id": "11b64b1c",
   "metadata": {},
   "outputs": [
    {
     "data": {
      "text/plain": [
       "array([0.15714286, 0.21326531, 0.14081633, 0.38163265, 0.10714286])"
      ]
     },
     "execution_count": 16,
     "metadata": {},
     "output_type": "execute_result"
    }
   ],
   "source": [
    "all_but_others = make_array(154,209,138,374)\n",
    "cohort = make_array(154,209,138,374, 980-sum(all_but_others))\n",
    "cohort_prop = cohort/sum(cohort) # this is also so called model proportion\n",
    "cohort_prop"
   ]
  },
  {
   "cell_type": "code",
   "execution_count": 18,
   "id": "aaa2667a",
   "metadata": {},
   "outputs": [
    {
     "data": {
      "text/plain": [
       "0.7617904761904762"
      ]
     },
     "execution_count": 18,
     "metadata": {},
     "output_type": "execute_result"
    }
   ],
   "source": [
    "others_ret_pctg = (1+41*.878 + 12*.667 + 51*.686)/(1+41+12+51)\n",
    "others_ret_pctg"
   ]
  },
  {
   "cell_type": "code",
   "execution_count": 22,
   "id": "d45a8290",
   "metadata": {},
   "outputs": [
    {
     "data": {
      "text/plain": [
       "array([0.1725158 , 0.21374685, 0.13871878, 0.37501282, 0.10000575])"
      ]
     },
     "execution_count": 22,
     "metadata": {},
     "output_type": "execute_result"
    }
   ],
   "source": [
    "\n",
    "ret_pctg = make_array(.896,.818,0.804,0.802, others_ret_pctg)\n",
    "ret_count = ret_pctg * cohort\n",
    "ret_total = sum(ret_count)\n",
    "ret_total\n",
    "ret_prop = ret_count/ret_total\n",
    "ret_prop"
   ]
  },
  {
   "cell_type": "code",
   "execution_count": 24,
   "id": "37bf98f9",
   "metadata": {},
   "outputs": [
    {
     "data": {
      "text/plain": [
       "800.0"
      ]
     },
     "execution_count": 24,
     "metadata": {},
     "output_type": "execute_result"
    }
   ],
   "source": [
    "round(ret_total,0) # sample size"
   ]
  },
  {
   "cell_type": "code",
   "execution_count": 25,
   "id": "c6fe7461",
   "metadata": {},
   "outputs": [],
   "source": [
    "# utility function to calcualte tvd\n",
    "def tvd(dist1, dist2):\n",
    "    return sum(abs(dist1 - dist2))/2"
   ]
  },
  {
   "cell_type": "code",
   "execution_count": 26,
   "id": "f1ba0c1c",
   "metadata": {},
   "outputs": [
    {
     "data": {
      "text/plain": [
       "0.01585448623446506"
      ]
     },
     "execution_count": 26,
     "metadata": {},
     "output_type": "execute_result"
    }
   ],
   "source": [
    "#Step 1: Gather data\n",
    "sample_size = round(ret_total,0)\n",
    "#Under the model, this is the true distribution of people from which the jurors are randomly sampled \n",
    "model = cohort_prop\n",
    "#this is the observed panel distribution \n",
    "obs = ret_prop\n",
    "obs_tvd = tvd(model, obs) # calculated observed tvd between observed distribution and model\n",
    "obs_tvd"
   ]
  },
  {
   "cell_type": "code",
   "execution_count": 27,
   "id": "bd40f2cb",
   "metadata": {},
   "outputs": [
    {
     "data": {
      "text/plain": [
       "array([0.02252551, 0.05954082, 0.02959184, 0.03739796, 0.05002551,\n",
       "       0.01966837, 0.02247449, 0.02420918, 0.02127551, 0.02377551])"
      ]
     },
     "execution_count": 27,
     "metadata": {},
     "output_type": "execute_result"
    }
   ],
   "source": [
    "# Step2: Run simulation\n",
    "sim_tvds = make_array()\n",
    "num_simulations = 10000\n",
    "for i in np.arange(num_simulations):\n",
    "    new_tvd = tvd(sample_proportions(sample_size, model), model)\n",
    "    sim_tvds = np.append(sim_tvds, new_tvd)\n",
    "sim_tvds[0:10] "
   ]
  },
  {
   "cell_type": "code",
   "execution_count": 31,
   "id": "c71e98ef",
   "metadata": {},
   "outputs": [
    {
     "name": "stdout",
     "output_type": "stream",
     "text": [
      "P-value= 0.1331\n"
     ]
    },
    {
     "data": {
      "image/png": "[encoded data removed]",
      "text/plain": [
       "<Figure size 432x288 with 1 Axes>"
      ]
     },
     "metadata": {},
     "output_type": "display_data"
    }
   ],
   "source": [
    "#Step 3: Analyze results\n",
    "Table().with_column('Simulated TVDs (if model is true)', sim_tvds).hist(bins =np.arange(0, 0.1, .0025)) # update\n",
    "p_value = np.mean(sim_tvds>obs_tvd) # update\n",
    "print('P-value=',str(p_value))"
   ]
  },
  {
   "cell_type": "code",
   "execution_count": 30,
   "id": "3624219e",
   "metadata": {},
   "outputs": [
    {
     "data": {
      "text/plain": [
       "0.07627551020408163"
      ]
     },
     "execution_count": 30,
     "metadata": {},
     "output_type": "execute_result"
    }
   ],
   "source": [
    "max(sim_tvds)"
   ]
  },
  {
   "cell_type": "code",
   "execution_count": null,
   "id": "ae9ebb09",
   "metadata": {},
   "outputs": [],
   "source": []
  }
 ],
 "metadata": {
  "kernelspec": {
   "display_name": "Python 3",
   "language": "python",
   "name": "python3"
  },
  "language_info": {
   "codemirror_mode": {
    "name": "ipython",
    "version": 3
   },
   "file_extension": ".py",
   "mimetype": "text/x-python",
   "name": "python",
   "nbconvert_exporter": "python",
   "pygments_lexer": "ipython3",
   "version": "3.8.8"
  }
 },
 "nbformat": 4,
 "nbformat_minor": 5
}
