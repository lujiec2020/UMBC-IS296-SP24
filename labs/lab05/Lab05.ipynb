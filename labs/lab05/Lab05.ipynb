{
 "cells": [
  {
   "cell_type": "code",
   "execution_count": null,
   "id": "ad6f1041",
   "metadata": {},
   "outputs": [],
   "source": [
    "from datascience import *\n",
    "import numpy as np\n",
    "\n",
    "%matplotlib inline\n",
    "import matplotlib.pyplot as plots\n",
    "plots.style.use('fivethirtyeight')"
   ]
  },
  {
   "cell_type": "markdown",
   "id": "9164f394",
   "metadata": {},
   "source": [
    "## Part I: Write code to create plots so that each of the question can be answered, you do not need to give the actual answer"
   ]
  },
  {
   "cell_type": "code",
   "execution_count": null,
   "id": "a81c1f7d",
   "metadata": {},
   "outputs": [],
   "source": [
    "#look up table with columns Month (Jan, Feb ...) and Month ID (1,2,3...)\n",
    "month_lookup = Table.read_table('./month_lookup.csv')\n",
    "#raw weather data\n",
    "weather_raw = Table.read_table('./weather.csv')\n",
    "#join raw weather data and month look up table\n",
    "weather=weather_raw.join('Month',month_lookup,'Month').select('Month','MonthID',\n",
    "                                                              'Day Index','Quarter ID','High','Low','Rain')\n",
    "weather.show(5)"
   ]
  },
  {
   "cell_type": "markdown",
   "id": "69304255",
   "metadata": {},
   "source": [
    "### Q1. Are there more raindy than  non raindy days?"
   ]
  },
  {
   "cell_type": "code",
   "execution_count": null,
   "id": "198bc275",
   "metadata": {},
   "outputs": [],
   "source": [
    "..."
   ]
  },
  {
   "cell_type": "markdown",
   "id": "0a55f6c7",
   "metadata": {},
   "source": [
    "### Q2. What percentage of days  have a high above 72 degree? Hint: use bins parameter\n"
   ]
  },
  {
   "cell_type": "code",
   "execution_count": null,
   "id": "ee81bc1a",
   "metadata": {},
   "outputs": [],
   "source": [
    "..."
   ]
  },
  {
   "cell_type": "markdown",
   "id": "f35094e8",
   "metadata": {},
   "source": [
    "### Q3. Do hotter days tend to  also have hotter nights?"
   ]
  },
  {
   "cell_type": "code",
   "execution_count": 1,
   "id": "24aaaebd",
   "metadata": {},
   "outputs": [
    {
     "data": {
      "text/plain": [
       "Ellipsis"
      ]
     },
     "execution_count": 1,
     "metadata": {},
     "output_type": "execute_result"
    }
   ],
   "source": [
    "..."
   ]
  },
  {
   "cell_type": "markdown",
   "id": "d245912a",
   "metadata": {},
   "source": [
    "## Part II:  Group/pivot function practice: write code to reproduce each of the tables shown below"
   ]
  },
  {
   "cell_type": "markdown",
   "id": "d53b37f9",
   "metadata": {},
   "source": [
    "### Table 1\n",
    "<img src=\"tables/table1.png\" width=\"150\" height=\"200\"/>"
   ]
  },
  {
   "cell_type": "code",
   "execution_count": null,
   "id": "51d691a7",
   "metadata": {},
   "outputs": [],
   "source": [
    "#table 1 (days in each month that has available data)\n",
    "..."
   ]
  },
  {
   "cell_type": "markdown",
   "id": "a8c77d76",
   "metadata": {},
   "source": [
    "### Table 2\n",
    "<img src=\"tables/table2.png\" width=\"200\" height=\"200\"/>"
   ]
  },
  {
   "cell_type": "code",
   "execution_count": null,
   "id": "d32f725c",
   "metadata": {},
   "outputs": [],
   "source": [
    "#table 2 (similar as table 1, nicely ordered)\n",
    "..."
   ]
  },
  {
   "cell_type": "markdown",
   "id": "34e0a6e6",
   "metadata": {},
   "source": [
    "### Table 3\n",
    "<img src=\"tables/table3.png\" width=\"200\" height=\"200\"/>"
   ]
  },
  {
   "cell_type": "code",
   "execution_count": null,
   "id": "faf3fc88",
   "metadata": {},
   "outputs": [],
   "source": [
    "#table 3\n",
    "..."
   ]
  },
  {
   "cell_type": "markdown",
   "id": "4ff30b4b",
   "metadata": {},
   "source": [
    "### Table 4\n",
    "<img src=\"tables/table4.png\" width=\"200\" height=\"200\"/>"
   ]
  },
  {
   "cell_type": "code",
   "execution_count": null,
   "id": "75879fd9",
   "metadata": {},
   "outputs": [],
   "source": [
    "#table 4 (mean of high temperature for first quarter)\n",
    "..."
   ]
  },
  {
   "cell_type": "markdown",
   "id": "923db57c",
   "metadata": {},
   "source": [
    "### Table 5\n",
    "<img src=\"tables/table5.png\" width=\"200\" height=\"200\"/>"
   ]
  },
  {
   "cell_type": "code",
   "execution_count": null,
   "id": "8d4e6fe2",
   "metadata": {},
   "outputs": [],
   "source": [
    "#table 5 (count of rainy and non-rainy days for each month in first quarter)\n",
    "..."
   ]
  },
  {
   "cell_type": "markdown",
   "id": "8ec0474d",
   "metadata": {},
   "source": [
    "### Table 6\n",
    "<img src=\"tables/table6.png\" width=\"500\" height=\"500\"/>"
   ]
  },
  {
   "cell_type": "code",
   "execution_count": null,
   "id": "b9002a30",
   "metadata": {},
   "outputs": [],
   "source": [
    "#table 6 (counts of rainy and non-rainy dates for each month of the year)\n",
    "..."
   ]
  },
  {
   "cell_type": "markdown",
   "id": "6a0a8b30",
   "metadata": {},
   "source": [
    "### Table 7\n",
    "<img src=\"tables/table7.png\" width=\"600\" height=\"600\"/>"
   ]
  },
  {
   "cell_type": "code",
   "execution_count": null,
   "id": "9a8fe714",
   "metadata": {},
   "outputs": [],
   "source": [
    "#table 7 (the mean high temperature for rainy and non-rainy days for each month of the year)\n",
    "..."
   ]
  }
 ],
 "metadata": {
  "kernelspec": {
   "display_name": "Python 3 (ipykernel)",
   "language": "python",
   "name": "python3"
  },
  "language_info": {
   "codemirror_mode": {
    "name": "ipython",
    "version": 3
   },
   "file_extension": ".py",
   "mimetype": "text/x-python",
   "name": "python",
   "nbconvert_exporter": "python",
   "pygments_lexer": "ipython3",
   "version": "3.11.5"
  }
 },
 "nbformat": 4,
 "nbformat_minor": 5
}
