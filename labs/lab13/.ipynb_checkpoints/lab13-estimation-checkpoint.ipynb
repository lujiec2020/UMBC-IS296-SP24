{
 "cells": [
  {
   "cell_type": "code",
   "execution_count": null,
   "id": "456f750b",
   "metadata": {},
   "outputs": [],
   "source": [
    "from datascience import *\n",
    "import numpy as np\n",
    "\n",
    "%matplotlib inline\n",
    "import matplotlib.pyplot as plots\n",
    "plots.style.use('fivethirtyeight')"
   ]
  },
  {
   "cell_type": "markdown",
   "id": "a0766ed2",
   "metadata": {},
   "source": [
    "## Lab 13- Bootstrapping and Central Limit Theorem"
   ]
  },
  {
   "cell_type": "markdown",
   "id": "c41e535d",
   "metadata": {},
   "source": [
    "### 1. Data Exploration"
   ]
  },
  {
   "cell_type": "code",
   "execution_count": null,
   "id": "cd71a096",
   "metadata": {},
   "outputs": [],
   "source": [
    "#load dataset\n",
    "tbl = Table.read_table('https://raw.githubusercontent.com/lujiec2020/UMBC-IS296-Fall2022/main/data/baby.csv')\n",
    "tbl"
   ]
  },
  {
   "cell_type": "code",
   "execution_count": null,
   "id": "2bc4eb79",
   "metadata": {},
   "outputs": [],
   "source": [
    "# plot histogram of a variable of interest and calculate a sample estimate of interest\n",
    "tbl.hist('Birth Weight')\n",
    "my_variable = tbl.column('Birth Weight')\n",
    "my_estimate = np.median(my_variable)  # update\n",
    "print ('sample median=',my_estimate) # update"
   ]
  },
  {
   "cell_type": "markdown",
   "id": "7b639770",
   "metadata": {},
   "source": [
    "### 2. Quantify Uncertainty of  Sample Esimate using Boostrapping (95% Confidence Interval )"
   ]
  },
  {
   "cell_type": "code",
   "execution_count": null,
   "id": "cee4e3c6",
   "metadata": {},
   "outputs": [],
   "source": [
    "def one_bootstrap():\n",
    "    single_sample = tbl.sample()\n",
    "    return np.median(single_sample.column('Birth Weight'))"
   ]
  },
  {
   "cell_type": "code",
   "execution_count": null,
   "id": "fcddc2ff",
   "metadata": {},
   "outputs": [],
   "source": [
    "bootstrap_result = make_array()\n",
    "for i in np.arange(10000):\n",
    "    new_estimate = one_bootstrap()\n",
    "    bootstrap_result = np.append(bootstrap_result, new_estimate)\n",
    "bootstrap_result\n"
   ]
  },
  {
   "cell_type": "code",
   "execution_count": null,
   "id": "7b0e707a",
   "metadata": {},
   "outputs": [],
   "source": [
    "Table().with_column('Bootstrap Median', bootstrap_result).hist('Bootstrap Median')\n"
   ]
  },
  {
   "cell_type": "code",
   "execution_count": null,
   "id": "73ae9151",
   "metadata": {},
   "outputs": [],
   "source": [
    "#95% Confidence Interval\n",
    "print('95% Confidence Interval of Sample Median')\n",
    "percentile(2.5, bootstrap_result), percentile(97.5, bootstrap_result)"
   ]
  },
  {
   "cell_type": "markdown",
   "id": "4c48dc6e",
   "metadata": {},
   "source": [
    "### 3. Quantify Uncertainty of  Sample Mean using Central Limit Theorem (95% Confidence Interval )"
   ]
  },
  {
   "cell_type": "code",
   "execution_count": null,
   "id": "a009fd74",
   "metadata": {},
   "outputs": [],
   "source": [
    "sample_mean = np.mean(tbl.column('Birth Weight'))\n",
    "sample_size = tbl.num_rows\n",
    "sample_std = np.std(tbl.column('Birth Weight'))\n",
    "stderr = sample_std/np.sqrt(sample_size)\n",
    "upper_CI = sample_mean + 1.96 * stderr \n",
    "lower_CI = sample_mean - 1.96 * stderr\n",
    "print('95% Confidence Interval of Sample Mean')\n",
    "lower_CI, upper_CI"
   ]
  },
  {
   "cell_type": "markdown",
   "id": "1ba4900f",
   "metadata": {},
   "source": [
    "## Interesting Data, Curious Question\n",
    "##### Here is a list of dataset collected by IS 296 Students, pick one of your favorite datset and your favarite variable to analyze\n",
    "#### Tasks\n",
    "(1) Construct a 95% CI for a estimate of your choice (e.g. mean, median, quantile, IQR etc.), interprete its meaning\n",
    "\n",
    "(2) Construct a 95%CI of sample mean, interprete its meaning\n",
    "\n",
    "(3) challenge: generate a bar plot with sample esimate using 95%CI, you may ask chatGPT for guidance using this prompt \"can you give sample python code to plot bar plot with confidence interval\""
   ]
  },
  {
   "cell_type": "code",
   "execution_count": null,
   "id": "d3c90565",
   "metadata": {},
   "outputs": [],
   "source": [
    "# self-tracking data set #1\n",
    "tbl = Table.read_table(\"https://raw.githubusercontent.com/lujiec2020/UMBC-IS296-SP23/main/data/trackingData1.csv\")\n",
    "tbl"
   ]
  },
  {
   "cell_type": "code",
   "execution_count": null,
   "id": "6e4dd73e",
   "metadata": {},
   "outputs": [],
   "source": [
    "# self-tracking data set #2\n",
    "tbl = Table.read_table(\"https://raw.githubusercontent.com/lujiec2020/UMBC-IS296-SP23/main/data/trackingData2.csv\")\n",
    "tbl"
   ]
  },
  {
   "cell_type": "code",
   "execution_count": null,
   "id": "87a71e3c",
   "metadata": {},
   "outputs": [],
   "source": [
    "tbl= Table.read_table(\"https://raw.githubusercontent.com/lujiec2020/UMBC-IS296-SP23/main/data/trackingData3.csv\")\n",
    "tbl"
   ]
  },
  {
   "cell_type": "code",
   "execution_count": null,
   "id": "b25f1a63",
   "metadata": {},
   "outputs": [],
   "source": [
    "tbl= Table.read_table(\"https://raw.githubusercontent.com/lujiec2020/UMBC-IS296-SP23/main/data/trackingData4.csv\")\n",
    "tbl"
   ]
  },
  {
   "cell_type": "code",
   "execution_count": null,
   "id": "e0bb5377",
   "metadata": {},
   "outputs": [],
   "source": [
    "#cecreal data from Muhammad\n",
    "tbl = Table.read_table('https://raw.githubusercontent.com/lujiec2020/UMBC-IS296-Fall2022/main/student-data/cereal.csv')\n",
    "tbl"
   ]
  },
  {
   "cell_type": "code",
   "execution_count": null,
   "id": "7375bdad",
   "metadata": {},
   "outputs": [],
   "source": [
    "# diabetes data from Leah\n",
    "tbl = Table.read_table('https://raw.githubusercontent.com/lujiec2020/UMBC-IS296-Fall2022/main/student-data/diabetes.csv')\n",
    "tbl"
   ]
  },
  {
   "cell_type": "code",
   "execution_count": null,
   "id": "8ec63062",
   "metadata": {},
   "outputs": [],
   "source": [
    "# soccer data from Iris\n",
    "tbl = Table.read_table('https://raw.githubusercontent.com/lujiec2020/UMBC-IS296-Fall2022/main/student-data/soccer_player_cleaned.csv')\n",
    "tbl"
   ]
  },
  {
   "cell_type": "code",
   "execution_count": null,
   "id": "84c111e7",
   "metadata": {},
   "outputs": [],
   "source": [
    "#candy dataset\n",
    "tbl = Table.read_table('https://raw.githubusercontent.com/lujiec2020/UMBC-IS296-Fall2022/main/student-data/halloween-candy-data.csv')\n",
    "tbl"
   ]
  },
  {
   "cell_type": "code",
   "execution_count": null,
   "id": "f0fc482b",
   "metadata": {},
   "outputs": [],
   "source": [
    "#NBA data from Shivam\n",
    "url = 'https://raw.githubusercontent.com/lujiec2020/UMBC-IS296-Fall2022/main/student-data/2021-2022_NBA_Player_Stats_Playoffs.csv'\n",
    "tbl = Table.read_table(url)\n",
    "tbl"
   ]
  },
  {
   "cell_type": "code",
   "execution_count": null,
   "id": "2cc1bab0",
   "metadata": {},
   "outputs": [],
   "source": [
    "# auto-MPG data from Peter\n",
    "url = 'https://raw.githubusercontent.com/lujiec2020/UMBC-IS296-Fall2022/main/student-data/auto-mpg.csv'\n",
    "tbl = Table.read_table(url)\n",
    "tbl"
   ]
  },
  {
   "cell_type": "code",
   "execution_count": null,
   "id": "02fbdbeb",
   "metadata": {},
   "outputs": [],
   "source": [
    "# for additional data check out this link\n",
    "# https://github.com/lujiec2020/UMBC-IS296-Fall2022/tree/main/student-data\n",
    "# select a dataset, click on raw, grab url from the brower "
   ]
  },
  {
   "cell_type": "code",
   "execution_count": null,
   "id": "2692f26a",
   "metadata": {},
   "outputs": [],
   "source": []
  }
 ],
 "metadata": {
  "kernelspec": {
   "display_name": "Python 3 (ipykernel)",
   "language": "python",
   "name": "python3"
  },
  "language_info": {
   "codemirror_mode": {
    "name": "ipython",
    "version": 3
   },
   "file_extension": ".py",
   "mimetype": "text/x-python",
   "name": "python",
   "nbconvert_exporter": "python",
   "pygments_lexer": "ipython3",
   "version": "3.11.5"
  }
 },
 "nbformat": 4,
 "nbformat_minor": 5
}
