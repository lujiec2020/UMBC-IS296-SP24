{
 "cells": [
  {
   "cell_type": "code",
   "execution_count": null,
   "metadata": {},
   "outputs": [],
   "source": [
    "#run this cell first\n",
    "from math import *  # for math functions\n",
    "from datascience import *  #always have this line in order to access table related functions"
   ]
  },
  {
   "cell_type": "markdown",
   "metadata": {},
   "source": [
    "# Lab 01 \n",
    "\n",
    "1. Numbers (Chatper 3.1 [Expressions](http://www.inferentialthinking.com/chapters/03/1/Expressions.html))\n",
    "2. Names\n",
    "3. Calling Functions\n",
    "4. Application: Physics Experiment (optional, extra credit)\n",
    "5. Application: Shane's Planning Assisant\n",
    "6. Table Basics"
   ]
  },
  {
   "cell_type": "markdown",
   "metadata": {},
   "source": [
    "# 1. Numbers\n",
    "\n",
    "Quantitative information arises everywhere in data science. In addition to representing commands to print out lines, expressions can represent numbers and methods of combining numbers. The expression `3.2500` evaluates to the number 3.25. \n",
    "\n",
    "<font color='red'>Add a code cell below, and type in 3.2500, Run the cell and see what happen</font>\n",
    "\n",
    "*hint: how to add a code cell?*\n",
    "\n",
    "1. hotkey method: (1) change to command mode by pressing ESC button; (2) make this cell active (3) push key B ; *\n",
    "\n",
    "2. menu method: go to menu Insert -> Insert Cell Below*\n"
   ]
  },
  {
   "cell_type": "markdown",
   "metadata": {},
   "source": [
    "##  Arithmetic\n",
    "Many basic arithmetic operations are built into Python.  The textbook section on [Expressions](http://www.inferentialthinking.com/chapters/03/1/Expressions.html) describes all the arithmetic operators used in the course.  The common operator that differs from typical math notation is `**`, which raises one number to the power of the other. So, `2**3` stands for $2^3$ and evaluates to 8. \n",
    "\n",
    "The order of operations is the same as what you learned in elementary school, and Python also has parentheses.  For example, the cell below is for $$6 + (6 \\times 5 - (6 \\times 3))^2 \\times (\\frac{(2^3)}{4} \\times 7).$$"
   ]
  },
  {
   "cell_type": "code",
   "execution_count": null,
   "metadata": {},
   "outputs": [],
   "source": [
    "6+(6*5-(6*3))**2*((2**3)/4*7)"
   ]
  },
  {
   "cell_type": "markdown",
   "metadata": {},
   "source": [
    "***\n",
    "**Question 1.** Write a Python expression in this next cell that's equal to $5 \\times (3 \\frac{10}{11}) - 50 \\frac{1}{3} + 2^{.5 \\times 22} - \\frac{7}{33} + 3$.  That's five times three and ten elevenths, minus fifty and a third, plus two to the power of half twenty-two, minus seven thirty-thirds plus three.  By \"$3 \\frac{10}{11}$\" we mean $3+\\frac{10}{11}$, not $3 \\times \\frac{10}{11}$.\n",
    "\n",
    "Replace the ellipses (`...`) with your expression.  Try to use parentheses only when necessary. If you've done it correctly, your result should be the current year.\n",
    "\n",
    "\n",
    "****"
   ]
  },
  {
   "cell_type": "code",
   "execution_count": null,
   "metadata": {},
   "outputs": [],
   "source": [
    "..."
   ]
  },
  {
   "cell_type": "markdown",
   "metadata": {},
   "source": [
    "# 2. Names\n",
    "In natural language, we have terminology that lets us quickly reference very complicated concepts. \n",
    "In Python, we do this with *assignment statements*. An assignment statement has a name on the left side of an `=` sign and an expression to be evaluated on the right."
   ]
  },
  {
   "cell_type": "code",
   "execution_count": null,
   "metadata": {},
   "outputs": [],
   "source": [
    "ten = 3 * 2 + 4"
   ]
  },
  {
   "cell_type": "markdown",
   "metadata": {},
   "source": [
    "When you run that cell, Python first computes the value of the expression on the right-hand side, `3 * 2 + 4`, which is the number 10.  Then it assigns that value to the name `ten`.  At that point, the code in the cell is done running.\n",
    "\n",
    "After you run that cell, the value 10 is bound to the name `ten`:"
   ]
  },
  {
   "cell_type": "code",
   "execution_count": null,
   "metadata": {},
   "outputs": [],
   "source": [
    "ten"
   ]
  },
  {
   "cell_type": "markdown",
   "metadata": {},
   "source": [
    "The statement `ten = 3 * 2 + 4` is not asserting that `ten` is already equal to `3 * 2 + 4`, as we might expect by analogy with math notation.  Rather, that line of code changes what `ten` means; it now refers to the value 10, whereas before it meant nothing at all.\n",
    "\n",
    "If the designers of Python had been ruthlessly pedantic, they might have made us write\n",
    "\n",
    "    define the name ten to hereafter have the value of 3 * 2 + 4 \n",
    "\n",
    "instead.  You will probably appreciate the brevity of \"`=`\"!  But keep in mind that this is the real meaning.\n",
    "\n",
    "**Question 2.** Try writing code that uses a name (like `eleven`) that hasn't been assigned to anything.  You'll see an error!"
   ]
  },
  {
   "cell_type": "code",
   "execution_count": null,
   "metadata": {},
   "outputs": [],
   "source": [
    "eleven"
   ]
  },
  {
   "cell_type": "markdown",
   "metadata": {},
   "source": [
    "A common pattern in Jupyter notebooks is to assign a value to a name and then immediately evaluate the name in the last line in the cell so that the value is displayed as output. "
   ]
  },
  {
   "cell_type": "code",
   "execution_count": null,
   "metadata": {},
   "outputs": [],
   "source": [
    "close_to_pi = 355/113\n",
    "close_to_pi"
   ]
  },
  {
   "cell_type": "markdown",
   "metadata": {},
   "source": [
    "Another common pattern is that a series of lines in a single cell will build up a complex computation in stages, naming the intermediate results."
   ]
  },
  {
   "cell_type": "code",
   "execution_count": null,
   "metadata": {},
   "outputs": [],
   "source": [
    "semimonthly_salary = 841.25\n",
    "monthly_salary = 2 * semimonthly_salary\n",
    "number_of_months_in_a_year = 12\n",
    "yearly_salary = number_of_months_in_a_year * monthly_salary\n",
    "yearly_salary"
   ]
  },
  {
   "cell_type": "markdown",
   "metadata": {},
   "source": [
    "### Rules of Names\n",
    "\n",
    "1. Names in Python can have letters (upper- and lower-case letters are both okay and count as different letters), underscores, and numbers.  \n",
    "2. The first character can't be a number (otherwise a name might look like a number).  \n",
    "3. Names can't contain spaces, since spaces are used to separate pieces of code from each other.\n",
    "\n",
    "Other than those rules, what you name something doesn't matter *to Python*.  **However** names are very important for making your code *readable* to yourself and others. "
   ]
  },
  {
   "cell_type": "markdown",
   "metadata": {},
   "source": [
    "***Question***: run the cell below, it will throw an error, please fix it"
   ]
  },
  {
   "cell_type": "code",
   "execution_count": null,
   "metadata": {},
   "outputs": [],
   "source": [
    "x=3\n",
    "3x"
   ]
  },
  {
   "cell_type": "markdown",
   "metadata": {},
   "source": [
    "## 3. Calling functions\n",
    "\n",
    "The most common way to combine or manipulate values in Python is by calling functions.\n",
    "For example, the `sqrt` function takes a single (positive) number as its argument and returns the square root of that number. Run the next two cells and see if you understand the output.\n",
    "abs is a function that take an absolute value of the a number, fix the second cell using abs function.\n",
    "\n",
    "**Note:** `sqrt` is a function from math library, we need to first import the library in order to use the function. \n"
   ]
  },
  {
   "cell_type": "code",
   "execution_count": null,
   "metadata": {},
   "outputs": [],
   "source": [
    "sqrt(25)"
   ]
  },
  {
   "cell_type": "code",
   "execution_count": null,
   "metadata": {},
   "outputs": [],
   "source": [
    "sqrt(-5)"
   ]
  },
  {
   "cell_type": "markdown",
   "metadata": {},
   "source": [
    "## 4. Application: A physics experiment \n",
    "\n",
    "On the Apollo 15 mission to the Moon, astronaut David Scott famously replicated Galileo's physics experiment in which he showed that gravity accelerates objects of different mass at the same rate. Because there is no air resistance for a falling object on the surface of the Moon, even two objects with very different masses and densities should fall at the same rate. David Scott compared a feather and a hammer.\n",
    "\n",
    "You can run the following cell to watch a video of the experiment."
   ]
  },
  {
   "cell_type": "code",
   "execution_count": null,
   "metadata": {},
   "outputs": [],
   "source": [
    "from IPython.display import YouTubeVideo\n",
    "# The original URL is: \n",
    "# https://www.youtube.com/watch?v=U7db6ZeLR5s\n",
    "\n",
    "YouTubeVideo(\"U7db6ZeLR5s\")"
   ]
  },
  {
   "cell_type": "markdown",
   "metadata": {},
   "source": [
    "Here's the transcript of the video:\n",
    "\n",
    "**167:22:06 Scott**: Well, in my left hand, I have a feather; in my right hand, a hammer. And I guess one of the reasons we got here today was because of a gentleman named Galileo, a long time ago, who made a rather significant discovery about falling objects in gravity fields. And we thought where would be a better place to confirm his findings than on the Moon. And so we thought we'd try it here for you. The feather happens to be, appropriately, a falcon feather for our Falcon. And I'll drop the two of them here and, hopefully, they'll hit the ground at the same time. \n",
    "\n",
    "**167:22:43 Scott**: How about that!\n",
    "\n",
    "**167:22:45 Allen**: How about that! (Applause in Houston)\n",
    "\n",
    "**167:22:46 Scott**: Which proves that Mr. Galileo was correct in his findings."
   ]
  },
  {
   "cell_type": "markdown",
   "metadata": {},
   "source": [
    "**Newton's Law.** Using this footage, we can also attempt to confirm another famous bit of physics: Newton's law of universal gravitation. Newton's laws predict that any object dropped near the surface of the Moon should fall\n",
    "\n",
    "$$\\frac{1}{2} G \\frac{M}{R^2} t^2 \\text{ meters}$$\n",
    "\n",
    "after $t$ seconds, where $G$ is a universal constant, $M$ is the moon's mass in kilograms, and $R$ is the moon's radius in meters.  So if we know $G$, $M$, and $R$, then Newton's laws let us predict how far an object will fall over any amount of time.\n",
    "\n",
    "To verify the accuracy of this law, we will calculate the difference between the predicted distance the hammer drops and the actual distance.  (If they are different, it might be because Newton's laws are wrong, or because our measurements are imprecise, or because there are other factors affecting the hammer for which we haven't accounted.)\n",
    "\n",
    "Someone studied the video and estimated that the hammer was dropped 113 cm from the surface. Counting frames in the video, the hammer falls for 1.2 seconds (36 frames)."
   ]
  },
  {
   "cell_type": "markdown",
   "metadata": {},
   "source": [
    "**Question 4.1** Complete the code in the next cell to fill in the data from the experiment.\n",
    "\n",
    "*Hint:* No computation required; just fill in data from the paragraph above.\n",
    "\n",
    "<!--\n",
    "BEGIN QUESTION\n",
    "name: q3_3_1\n",
    "-->"
   ]
  },
  {
   "cell_type": "code",
   "execution_count": null,
   "metadata": {},
   "outputs": [],
   "source": [
    "# t, the duration of the fall in the experiment, in seconds.\n",
    "# Fill this in.\n",
    "time = ...\n",
    "# The estimated distance the hammer actually fell, in meters.\n",
    "# Fill this in.\n",
    "estimated_distance_m = ..."
   ]
  },
  {
   "cell_type": "markdown",
   "metadata": {},
   "source": [
    "**Question 4.2.** Now, complete the code in the next cell to compute the difference between the predicted and estimated distances (in meters) that the hammer fell in this experiment.\n",
    "\n",
    "This just means translating the formula above ($\\frac{1}{2}G\\frac{M}{R^2}t^2$) into Python code.  You'll have to replace each variable in the math formula with the name we gave that number in Python code.\n",
    "\n",
    "*Hint:* Try to use variables you've already defined in question 4.1\n",
    "\n",
    "<!--\n",
    "BEGIN QUESTION\n",
    "name: q3_3_2\n",
    "-->"
   ]
  },
  {
   "cell_type": "code",
   "execution_count": null,
   "metadata": {},
   "outputs": [],
   "source": [
    "# First, we've written down the values of the 3 universal constants \n",
    "# that show up in Newton's formula.\n",
    "\n",
    "# G, the universal constant measuring the strength of gravity.\n",
    "gravity_constant = 6.674 * 10**-11 \n",
    "\n",
    "# M, the moon's mass, in kilograms.\n",
    "moon_mass_kg = 7.34767309 * 10**22 \n",
    "\n",
    "# R, the radius of the moon, in meters.\n",
    "moon_radius_m = 1.737 * 10**6 \n",
    "\n",
    "# The distance the hammer should have fallen \n",
    "# over the duration of the fall, in meters, \n",
    "# according to Newton's law of gravity.  \n",
    "# The text above describes the formula\n",
    "# for this distance given by Newton's law.\n",
    "# **YOU FILL THIS PART IN.**\n",
    "predicted_distance_m = ...\n",
    "\n",
    "# Here we've computed the difference \n",
    "# between the predicted fall distance and the distance we actually measured.\n",
    "# If you've filled in the above code, this should just work.\n",
    "difference = predicted_distance_m - estimated_distance_m\n",
    "difference"
   ]
  },
  {
   "cell_type": "markdown",
   "metadata": {},
   "source": [
    "## 5. Application: Julie's Planning Assistant\n",
    "\n",
    "\n",
    "<img src=\"UMBC-map.jpg\"/>\n",
    "\n",
    "This is the first day at UMBC for Julie. It is noon time, she just finished her class at ITE building, and plan to go to True Grit for lunch and meet her friend at 12:10pm. She is wondering whether she has enough time to stop by at the library to pick up a textbook. She has a copy of UMBC map as above.\n",
    "\n",
    "To simply the problem (as we usually have to do in solving real-world problems), we have following assumptions:\n",
    "\n",
    "1. Assuming that Julie has been quite familar with the campus and she knows the shortest distance between two points;\n",
    "2. The locations of interest sit on the grid (i.e. precisely on the intersection of the grid line), i.e. ITE is at F4, Library is at D5 and True Grit is at C7\n",
    "3. Each grid is a square with side length of 500 feet\n",
    "4. Julie's walking speed is 4.7 ft/s\n",
    "5. You may recall that the direct/shortest distance between two points can be calculated using [Pythagorean Theorem.](https://www.youtube.com/watch?v=xbNXwRWjzSs)\n",
    "\n",
    "**Question 5** \n",
    "In the code cell below, fill in the blank, in the Markdown/text cell after code cell, state your conclusion based on your calculation\n"
   ]
  },
  {
   "cell_type": "code",
   "execution_count": null,
   "metadata": {},
   "outputs": [],
   "source": [
    "#STEP1: Gather some useful constants\n",
    "\n",
    "#Julie's walking speed in feet/s\n",
    "speed = ...\n",
    "#grid side_length in feet\n",
    "grid_length = ..."
   ]
  },
  {
   "cell_type": "code",
   "execution_count": null,
   "metadata": {},
   "outputs": [],
   "source": [
    "#STEP2: Calculate some distances\n",
    "\n",
    "#shortest distance between ITE and Library in feet, HINT: you will need to use sqrt function \n",
    "ITE_library = ...\n",
    "#shortest distance between library and trueGrit\n",
    "library_trueGrit= ...\n",
    "#shorteset distance between ITE and trueGrit\n",
    "ITE_trueGrit= ...\n"
   ]
  },
  {
   "cell_type": "code",
   "execution_count": null,
   "metadata": {},
   "outputs": [],
   "source": [
    "#STEP3: Calculate time with/without detour to library, you will use the distance calculated in STEP2\n",
    "# make sure you use the variable name (e.g. ITE_library) instead of number\n",
    "\n",
    "#walking distance without detour to library\n",
    "D1 = ...\n",
    "#walking time in minutes without detour (recall: time = distance/speed, making sure converting to the correct units)\n",
    "T1 = ...\n",
    "\n",
    "#walking distance with detour to library\n",
    "D2 = ...\n",
    "#walking time in minutes (with debour)\n",
    "T2 = ...\n",
    "\n",
    "#print the time in minutes assuming Julie does not take the detour, round to 2 digits after decimal point\n",
    "print(round(T1,2))\n",
    "\n",
    "#print the time in minutes assuming Julie takes the detour, round to 2 digits after decimal point\n",
    "print(round(T2,2))\n"
   ]
  },
  {
   "cell_type": "markdown",
   "metadata": {},
   "source": [
    "### My conclusion:\n",
    "Based on your calculation, does Julie has enough time to stop by at the library to pick up a textbook, if she doesn't want to be late for the lunch meeting with her friend?"
   ]
  },
  {
   "cell_type": "markdown",
   "metadata": {},
   "source": [
    "## 6. Table Basics\n",
    "In this problem, you will construct a table that is related to your hobby. For example, (as I learned from the introduction), a number of you like to eat Sushi, so you could construct a table by collecting useful information of the best Sushi restaurant in this area. This will be a small table with 4-5 rows and 3-4 columns. Columns will cover each of the data types we talked in the class, i.e. int, float and str. It will be helpful for you write the table on the paper or spreadsheet before writing codes to construct the table.\n",
    "\n",
    "Reference [Table Basics](https://inferentialthinking.com/chapters/06/Tables.html)"
   ]
  },
  {
   "cell_type": "code",
   "execution_count": null,
   "metadata": {},
   "outputs": [],
   "source": [
    "#codes to create table\n",
    "\n"
   ]
  },
  {
   "cell_type": "markdown",
   "metadata": {
    "deletable": false
   },
   "source": [
    "## Submission\n",
    "\n",
    "Make sure you have run all cells in your notebook in order before running the cell below, so that all images/graphs appear in the output. Then output a pdf file and submit via blackboard."
   ]
  }
 ],
 "metadata": {
  "anaconda-cloud": {},
  "celltoolbar": "Edit Metadata",
  "history": [
   {
    "code": "**SOLUTION:** {\n  'name': 'q3_1_2',\n  'points': 1,\n  'suites': [\n    {\n      'cases': [\n        {\n          'code': r\"\"\"\n          >>> # It looks like you didn't give anything the name;\n          >>> # seconds_in_a_decade.  Maybe there's a typo, or maybe you;\n          >>> # just need to run the cell below Question 3.2 where you defined;\n          >>> # seconds_in_a_decade.  (Click that cell and then click the \"run;\n          >>> # cell\" button in the menu bar above.);\n          >>> 'seconds_in_a_decade' in vars()\n          True\n          \"\"\",\n          'hidden': False,\n          'locked': False\n        },\n        {\n          'code': r\"\"\"\n          >>> # It looks like you didn't change the cell to define;\n          >>> # seconds_in_a_decade appropriately.  It should be a number,;\n          >>> # computed using Python's arithmetic.  For example, this is;\n          >>> # almost right:;\n          >>> #   seconds_in_a_decade = 10*365*24*60*60;\n          >>> seconds_in_a_decade != ...\n          True\n          \"\"\",\n          'hidden': False,\n          'locked': False\n        },\n        {\n          'code': r\"\"\"\n          >>> # It looks like you didn't account for leap years.;\n          >>> # There were 2 leap years and 8 non-leap years in this period.;\n          >>> # Leap years have 366 days instead of 365.;\n          >>> seconds_in_a_decade != 315360000\n          True\n          \"\"\",\n          'hidden': False,\n          'locked': False\n        },\n        {\n          'code': r\"\"\"\n          >>> seconds_in_a_decade == 315532800\n          True\n          \"\"\",\n          'hidden': False,\n          'locked': False\n        }\n      ],\n      'scored': True,\n      'setup': '',\n      'teardown': '',\n      'type': 'doctest'\n    }\n  ]\n}\n",
    "id": "a9aa622109014503967369f29c0cefa9",
    "idx": 49,
    "time": "2021-02-11T01:43:38.526Z",
    "type": "execution"
   },
   {
    "id": "a9aa622109014503967369f29c0cefa9",
    "time": "2021-02-11T01:43:38.617Z",
    "type": "completion"
   },
   {
    "code": "**SOLUTION:** ",
    "id": "a9aa622109014503967369f29c0cefa9",
    "idx": 49,
    "time": "2021-02-11T01:44:09.329Z",
    "type": "execution"
   },
   {
    "id": "a9aa622109014503967369f29c0cefa9",
    "time": "2021-02-11T01:44:09.923Z",
    "type": "completion"
   },
   {
    "code": "```\nBEGIN ASSIGNMENT\ngenerate: true \nfiles:\n    - numberline_0.png\n    - numberline_1.png\n    - map.jpg\n    - METADATA\n    - Makefile\n    - error.jpg\n\n\n\n\n\n\n```",
    "id": "7006ecb4649f493b838ebfe7516ab1d3",
    "idx": 0,
    "time": "2021-02-13T03:00:02.705Z",
    "type": "execution"
   },
   {
    "id": "7006ecb4649f493b838ebfe7516ab1d3",
    "time": "2021-02-13T03:00:02.772Z",
    "type": "completion"
   },
   {
    "code": "# Change the next line \n# so that it computes the number of seconds in a decade \n# and assigns that number the name, seconds_in_a_decade.\n\nseconds_in_a_decade = 10*365*24*60*60 #SOLUTION\n\n# We've put this line in this cell \n# so that it will print the value you've given to seconds_in_a_decade when you run it.  \n# You don't need to change this.\nseconds_in_a_decade",
    "id": "89b470bad01647d8918d6997c82e6d9a",
    "idx": 49,
    "time": "2021-02-13T03:22:20.986Z",
    "type": "execution"
   },
   {
    "id": "89b470bad01647d8918d6997c82e6d9a",
    "time": "2021-02-13T03:22:21.064Z",
    "type": "completion"
   },
   {
    "code": "#TEST\n\ntype(seconds_in_a_decade) == int",
    "id": "5e43b3f3e6504ec991a03861baec3e61",
    "idx": 50,
    "time": "2021-02-13T03:22:25.275Z",
    "type": "execution"
   },
   {
    "id": "5e43b3f3e6504ec991a03861baec3e61",
    "time": "2021-02-13T03:22:25.471Z",
    "type": "completion"
   },
   {
    "code": "# HIDDEN TEST\nseconds_in_a_decade == 10*365*24*60*60 ",
    "id": "4378207dbc1845868a103c9f831a4c48",
    "idx": 51,
    "time": "2021-02-13T03:22:26.507Z",
    "type": "execution"
   },
   {
    "id": "4378207dbc1845868a103c9f831a4c48",
    "time": "2021-02-13T03:22:26.596Z",
    "type": "completion"
   },
   {
    "code": "#TEST\n#It looks like you didn't give anything the name\n# seconds_in_a_decade. Maybe there's a typo, or maybe you \n# just need to run the cell below Question 3.2 where you defined \n# seconds_in_a_decade. Click that cell and then click the \"run\n# cell\" button in the menu bar above.)\n'seconds_in_a_decade' in vars()",
    "id": "67abefcf8978482c82d6c9fa44c20e32",
    "idx": 50,
    "time": "2021-02-16T01:43:33.033Z",
    "type": "execution"
   },
   {
    "id": "67abefcf8978482c82d6c9fa44c20e32",
    "time": "2021-02-16T01:43:33.133Z",
    "type": "completion"
   },
   {
    "code": "print(\"Hello, World!\")",
    "id": "c23a746883c946858e980e1d3f703da7",
    "idx": 5,
    "time": "2021-02-16T01:43:38.274Z",
    "type": "execution"
   },
   {
    "code": "print(\"\\N{WAVING HAND SIGN}, \\N{EARTH GLOBE ASIA-AUSTRALIA}!\")",
    "id": "f90a294d0ce243f18872944ed0f92358",
    "idx": 7,
    "time": "2021-02-16T01:43:38.276Z",
    "type": "execution"
   },
   {
    "code": "print(\"First this line is printed,\")\nprint(\"and then this one.\")",
    "id": "abf75c0f57c3428b8d3c4280ab200ea8",
    "idx": 9,
    "time": "2021-02-16T01:43:38.279Z",
    "type": "execution"
   },
   {
    "code": "print(\"This line is missing something.\"",
    "id": "74c4041e94004370941dec803cfff7b3",
    "idx": 13,
    "time": "2021-02-16T01:43:38.282Z",
    "type": "execution"
   },
   {
    "code": "print(\"This line is missing something.\")",
    "id": "bdf87a8f42924b8b8e1bb55d47f63576",
    "idx": 14,
    "time": "2021-02-16T01:43:38.284Z",
    "type": "execution"
   },
   {
    "code": "# Don't change this cell; just run it. \n# The result will give you directions about how to log in to the submission system, called OK.\n# Once you're logged in, you can run this cell again, \n# but it won't ask you who you are because it remembers you. \n# However, you will need to log in once per assignment.\n# When you log-in please hit return (not shift + return) after typing in your email\n\nimport otter\ngrader = otter.Notebook()",
    "id": "93d4d2d54c9a462683fdd2de8f902cbf",
    "idx": 19,
    "time": "2021-02-16T01:43:38.287Z",
    "type": "execution"
   },
   {
    "code": "3.2500",
    "id": "5b642c396443485c8890ec7e5f215d18",
    "idx": 23,
    "time": "2021-02-16T01:43:38.290Z",
    "type": "execution"
   },
   {
    "code": "print(2)\n3\n4",
    "id": "5a83d039056846b380a3656ddd05db26",
    "idx": 25,
    "time": "2021-02-16T01:43:38.293Z",
    "type": "execution"
   },
   {
    "code": "3.25 - 1.5",
    "id": "d567485c594b43e29d5b47e5782f5c22",
    "idx": 28,
    "time": "2021-02-16T01:43:38.295Z",
    "type": "execution"
   },
   {
    "code": "3+6*5-6*3**2*2**3/4*7",
    "id": "19078c51a0934b6a83afb321196c48e9",
    "idx": 30,
    "time": "2021-02-16T01:43:38.297Z",
    "type": "execution"
   },
   {
    "code": "4+(6*5-(6*3))**2*((2**3)/4*7)",
    "id": "b69a27290bbd43ffa25338e54d792a3f",
    "idx": 31,
    "time": "2021-02-16T01:43:38.299Z",
    "type": "execution"
   },
   {
    "code": "...",
    "id": "a4f7d7f89d2c49149a000cd92cf8d846",
    "idx": 33,
    "time": "2021-02-16T01:43:38.301Z",
    "type": "execution"
   },
   {
    "code": "ten = 3 * 2 + 4",
    "id": "5da868c0070e415f8b8787e8c9e13cce",
    "idx": 35,
    "time": "2021-02-16T01:43:38.303Z",
    "type": "execution"
   },
   {
    "code": "ten",
    "id": "ad4e6650205349c98c1e280eead52bcd",
    "idx": 37,
    "time": "2021-02-16T01:43:38.304Z",
    "type": "execution"
   },
   {
    "code": "...",
    "id": "d0e044651d724d518bbad71d74c267e7",
    "idx": 39,
    "time": "2021-02-16T01:43:38.306Z",
    "type": "execution"
   },
   {
    "code": "close_to_pi = 355/113\nclose_to_pi",
    "id": "423c084b2a4c4e64976f516181585fe2",
    "idx": 41,
    "time": "2021-02-16T01:43:38.308Z",
    "type": "execution"
   },
   {
    "code": "semimonthly_salary = 841.25\nmonthly_salary = 2 * semimonthly_salary\nnumber_of_months_in_a_year = 12\nyearly_salary = number_of_months_in_a_year * monthly_salary\nyearly_salary",
    "id": "aeb99b6345fd459abb0f350f2a2e6151",
    "idx": 43,
    "time": "2021-02-16T01:43:38.310Z",
    "type": "execution"
   },
   {
    "code": "a = 841.25\nb = 2 * a\nc = 12\nd = c * b\nd",
    "id": "96ef56e5486d4a3484cd1ba945da07a1",
    "idx": 45,
    "time": "2021-02-16T01:43:38.312Z",
    "type": "execution"
   },
   {
    "code": "# Change the next line \n# so that it computes the number of seconds in a decade \n# and assigns that number the name, seconds_in_a_decade.\n\nseconds_in_a_decade = 10*365*24*60*60 #SOLUTION\n\n# We've put this line in this cell \n# so that it will print the value you've given to seconds_in_a_decade when you run it.  \n# You don't need to change this.\nseconds_in_a_decade",
    "id": "bb249843126346cf89d54dcb2b580763",
    "idx": 49,
    "time": "2021-02-16T01:43:38.314Z",
    "type": "execution"
   },
   {
    "id": "c23a746883c946858e980e1d3f703da7",
    "time": "2021-02-16T01:43:38.445Z",
    "type": "completion"
   },
   {
    "id": "f90a294d0ce243f18872944ed0f92358",
    "time": "2021-02-16T01:43:38.512Z",
    "type": "completion"
   },
   {
    "id": "abf75c0f57c3428b8d3c4280ab200ea8",
    "time": "2021-02-16T01:43:38.518Z",
    "type": "completion"
   },
   {
    "id": "74c4041e94004370941dec803cfff7b3",
    "time": "2021-02-16T01:43:38.547Z",
    "type": "completion"
   },
   {
    "id": "bdf87a8f42924b8b8e1bb55d47f63576",
    "time": "2021-02-16T01:43:38.555Z",
    "type": "completion"
   },
   {
    "id": "93d4d2d54c9a462683fdd2de8f902cbf",
    "time": "2021-02-16T01:43:38.556Z",
    "type": "completion"
   },
   {
    "id": "5b642c396443485c8890ec7e5f215d18",
    "time": "2021-02-16T01:43:38.559Z",
    "type": "completion"
   },
   {
    "id": "5a83d039056846b380a3656ddd05db26",
    "time": "2021-02-16T01:43:38.594Z",
    "type": "completion"
   },
   {
    "id": "d567485c594b43e29d5b47e5782f5c22",
    "time": "2021-02-16T01:43:38.595Z",
    "type": "completion"
   },
   {
    "id": "19078c51a0934b6a83afb321196c48e9",
    "time": "2021-02-16T01:43:38.595Z",
    "type": "completion"
   },
   {
    "id": "b69a27290bbd43ffa25338e54d792a3f",
    "time": "2021-02-16T01:43:38.596Z",
    "type": "completion"
   },
   {
    "id": "a4f7d7f89d2c49149a000cd92cf8d846",
    "time": "2021-02-16T01:43:38.641Z",
    "type": "completion"
   },
   {
    "id": "5da868c0070e415f8b8787e8c9e13cce",
    "time": "2021-02-16T01:43:38.676Z",
    "type": "completion"
   },
   {
    "id": "ad4e6650205349c98c1e280eead52bcd",
    "time": "2021-02-16T01:43:38.908Z",
    "type": "completion"
   },
   {
    "id": "d0e044651d724d518bbad71d74c267e7",
    "time": "2021-02-16T01:43:38.911Z",
    "type": "completion"
   },
   {
    "id": "423c084b2a4c4e64976f516181585fe2",
    "time": "2021-02-16T01:43:38.980Z",
    "type": "completion"
   },
   {
    "id": "aeb99b6345fd459abb0f350f2a2e6151",
    "time": "2021-02-16T01:43:38.983Z",
    "type": "completion"
   },
   {
    "id": "96ef56e5486d4a3484cd1ba945da07a1",
    "time": "2021-02-16T01:43:38.988Z",
    "type": "completion"
   },
   {
    "id": "bb249843126346cf89d54dcb2b580763",
    "time": "2021-02-16T01:43:39.033Z",
    "type": "completion"
   },
   {
    "code": "#TEST\n#It looks like you didn't give anything the name\n# seconds_in_a_decade. Maybe there's a typo, or maybe you \n# just need to run the cell below Question 3.2 where you defined \n# seconds_in_a_decade. Click that cell and then click the \"run\n# cell\" button in the menu bar above.)\n'seconds_in_a_decade' in vars()",
    "id": "67abefcf8978482c82d6c9fa44c20e32",
    "idx": 50,
    "time": "2021-02-16T01:43:41.537Z",
    "type": "execution"
   },
   {
    "id": "67abefcf8978482c82d6c9fa44c20e32",
    "time": "2021-02-16T01:43:41.603Z",
    "type": "completion"
   },
   {
    "code": "# TEST\n# It looks like you didn't account for leap years.\n# There were 2 leap years and 8 non-leap years in this period.\n# Leap years have 366 days instead of 365.\nseconds_in_a_decade != 315360000",
    "id": "bab339b50c6244c4836128a198edc179",
    "idx": 52,
    "time": "2021-02-16T01:48:06.819Z",
    "type": "execution"
   },
   {
    "id": "bab339b50c6244c4836128a198edc179",
    "time": "2021-02-16T01:48:07.072Z",
    "type": "completion"
   },
   {
    "code": "# TEST\n# It looks like you didn't change the cell to define\n# seconds_in_a_decade appropriately.  It should be a number,\n# computed using Python's arithmetic.  For example, this is\n# almost right:\n#   seconds_in_a_decade = 10*365*24*60*60\nseconds_in_a_decade != ...",
    "id": "e7f4344122c244fc85b6c93122aa3308",
    "idx": 51,
    "time": "2021-02-16T01:48:10.833Z",
    "type": "execution"
   },
   {
    "id": "e7f4344122c244fc85b6c93122aa3308",
    "time": "2021-02-16T01:48:10.904Z",
    "type": "completion"
   },
   {
    "code": "# TEST\n# It looks like you didn't account for leap years.\n# There were 2 leap years and 8 non-leap years in this period.\n# Leap years have 366 days instead of 365.\nseconds_in_a_decade != 315360000",
    "id": "bab339b50c6244c4836128a198edc179",
    "idx": 52,
    "time": "2021-02-16T01:48:11.931Z",
    "type": "execution"
   },
   {
    "id": "bab339b50c6244c4836128a198edc179",
    "time": "2021-02-16T01:48:12.000Z",
    "type": "completion"
   },
   {
    "code": "# Change the next line \n# so that it computes the number of seconds in a decade \n# and assigns that number the name, seconds_in_a_decade.\n\nseconds_in_a_decade = 10*365*24*60*60 #SOLUTION\n\n# We've put this line in this cell \n# so that it will print the value you've given to seconds_in_a_decade when you run it.  \n# You don't need to change this.\nseconds_in_a_decade",
    "id": "bb249843126346cf89d54dcb2b580763",
    "idx": 49,
    "time": "2021-02-16T01:48:21.663Z",
    "type": "execution"
   },
   {
    "id": "bb249843126346cf89d54dcb2b580763",
    "time": "2021-02-16T01:48:21.745Z",
    "type": "completion"
   },
   {
    "code": "# TEST\n#It looks like you didn't give anything the name\n# seconds_in_a_decade. Maybe there's a typo, or maybe you \n# just need to run the cell below Question 3.2 where you defined \n# seconds_in_a_decade. Click that cell and then click the \"run\n# cell\" button in the menu bar above.)\n'seconds_in_a_decade' in vars()",
    "id": "67abefcf8978482c82d6c9fa44c20e32",
    "idx": 50,
    "time": "2021-02-16T01:48:22.303Z",
    "type": "execution"
   },
   {
    "id": "67abefcf8978482c82d6c9fa44c20e32",
    "time": "2021-02-16T01:48:22.371Z",
    "type": "completion"
   },
   {
    "code": "# TEST\n# It looks like you didn't change the cell to define\n# seconds_in_a_decade appropriately.  It should be a number,\n# computed using Python's arithmetic.  For example, this is\n# almost right:\n#   seconds_in_a_decade = 10*365*24*60*60\nseconds_in_a_decade != ...",
    "id": "e7f4344122c244fc85b6c93122aa3308",
    "idx": 51,
    "time": "2021-02-16T01:48:22.997Z",
    "type": "execution"
   },
   {
    "id": "e7f4344122c244fc85b6c93122aa3308",
    "time": "2021-02-16T01:48:23.059Z",
    "type": "completion"
   },
   {
    "code": "# TEST\n# It looks like you didn't account for leap years.\n# There were 2 leap years and 8 non-leap years in this period.\n# Leap years have 366 days instead of 365.\nseconds_in_a_decade != 315360000",
    "id": "bab339b50c6244c4836128a198edc179",
    "idx": 52,
    "time": "2021-02-16T01:48:24.480Z",
    "type": "execution"
   },
   {
    "id": "bab339b50c6244c4836128a198edc179",
    "time": "2021-02-16T01:48:24.550Z",
    "type": "completion"
   },
   {
    "code": "# Change the next line \n# so that it computes the number of seconds in a decade \n# and assigns that number the name, seconds_in_a_decade.\n\nseconds_in_a_decade = (365*8 + 366*2) * 24 * 60 * 60 #SOLUTION\n\n# We've put this line in this cell \n# so that it will print the value you've given to seconds_in_a_decade when you run it.  \n# You don't need to change this.\nseconds_in_a_decade",
    "id": "bb249843126346cf89d54dcb2b580763",
    "idx": 49,
    "time": "2021-02-16T01:50:04.459Z",
    "type": "execution"
   },
   {
    "id": "bb249843126346cf89d54dcb2b580763",
    "time": "2021-02-16T01:50:04.534Z",
    "type": "completion"
   },
   {
    "code": "# Change the next line \n# so that it computes the number of seconds in a decade \n# and assigns that number the name, seconds_in_a_decade.\n\nseconds_in_a_decade = (365*8 + 366*2) * 24 * 60 * 60 #SOLUTION\n\n# We've put this line in this cell \n# so that it will print the value you've given to seconds_in_a_decade when you run it.  \n# You don't need to change this.\nseconds_in_a_decade",
    "id": "bb249843126346cf89d54dcb2b580763",
    "idx": 49,
    "time": "2021-02-16T01:50:10.643Z",
    "type": "execution"
   },
   {
    "id": "bb249843126346cf89d54dcb2b580763",
    "time": "2021-02-16T01:50:10.711Z",
    "type": "completion"
   },
   {
    "code": "# TEST\n#It looks like you didn't give anything the name\n# seconds_in_a_decade. Maybe there's a typo, or maybe you \n# just need to run the cell below Question 3.2 where you defined \n# seconds_in_a_decade. Click that cell and then click the \"run\n# cell\" button in the menu bar above.)\n'seconds_in_a_decade' in vars()",
    "id": "67abefcf8978482c82d6c9fa44c20e32",
    "idx": 50,
    "time": "2021-02-16T01:50:11.299Z",
    "type": "execution"
   },
   {
    "id": "67abefcf8978482c82d6c9fa44c20e32",
    "time": "2021-02-16T01:50:11.414Z",
    "type": "completion"
   },
   {
    "code": "# TEST\n# It looks like you didn't change the cell to define\n# seconds_in_a_decade appropriately.  It should be a number,\n# computed using Python's arithmetic.  For example, this is\n# almost right:\n#   seconds_in_a_decade = 10*365*24*60*60\nseconds_in_a_decade != ...",
    "id": "e7f4344122c244fc85b6c93122aa3308",
    "idx": 51,
    "time": "2021-02-16T01:50:11.959Z",
    "type": "execution"
   },
   {
    "id": "e7f4344122c244fc85b6c93122aa3308",
    "time": "2021-02-16T01:50:12.030Z",
    "type": "completion"
   },
   {
    "code": "# Change the next line \n# so that it computes the number of seconds in a decade \n# and assigns that number the name, seconds_in_a_decade.\n\nseconds_in_a_decade = (365*8 + 366*2) * 24 * 60 * 60 #SOLUTION\n\n# We've put this line in this cell \n# so that it will print the value you've given to seconds_in_a_decade when you run it.  \n# You don't need to change this.\nseconds_in_a_decade",
    "id": "bb249843126346cf89d54dcb2b580763",
    "idx": 49,
    "time": "2021-02-16T01:50:18.996Z",
    "type": "execution"
   },
   {
    "id": "bb249843126346cf89d54dcb2b580763",
    "time": "2021-02-16T01:50:19.083Z",
    "type": "completion"
   },
   {
    "code": "# TEST\n#It looks like you didn't give anything the name\n# seconds_in_a_decade. Maybe there's a typo, or maybe you \n# just need to run the cell below Question 3.2 where you defined \n# seconds_in_a_decade. Click that cell and then click the \"run\n# cell\" button in the menu bar above.)\n'seconds_in_a_decade' in vars()",
    "id": "67abefcf8978482c82d6c9fa44c20e32",
    "idx": 50,
    "time": "2021-02-16T01:50:19.692Z",
    "type": "execution"
   },
   {
    "id": "67abefcf8978482c82d6c9fa44c20e32",
    "time": "2021-02-16T01:50:19.789Z",
    "type": "completion"
   },
   {
    "code": "# TEST\n# It looks like you didn't change the cell to define\n# seconds_in_a_decade appropriately.  It should be a number,\n# computed using Python's arithmetic.  For example, this is\n# almost right:\n#   seconds_in_a_decade = 10*365*24*60*60\nseconds_in_a_decade != ...",
    "id": "e7f4344122c244fc85b6c93122aa3308",
    "idx": 51,
    "time": "2021-02-16T01:50:21.182Z",
    "type": "execution"
   },
   {
    "id": "e7f4344122c244fc85b6c93122aa3308",
    "time": "2021-02-16T01:50:21.252Z",
    "type": "completion"
   },
   {
    "code": "# TEST\n# It looks like you didn't account for leap years.\n# There were 2 leap years and 8 non-leap years in this period.\n# Leap years have 366 days instead of 365.\nseconds_in_a_decade != 315360000",
    "id": "bab339b50c6244c4836128a198edc179",
    "idx": 52,
    "time": "2021-02-16T01:50:22.970Z",
    "type": "execution"
   },
   {
    "id": "bab339b50c6244c4836128a198edc179",
    "time": "2021-02-16T01:50:23.036Z",
    "type": "completion"
   },
   {
    "code": "# HIDDEN TEST\nseconds_in_a_decade == 315532800",
    "id": "cfffea330ed24bba92736fa173e6b868",
    "idx": 53,
    "time": "2021-02-16T01:50:47.376Z",
    "type": "execution"
   },
   {
    "id": "cfffea330ed24bba92736fa173e6b868",
    "time": "2021-02-16T01:50:47.436Z",
    "type": "completion"
   },
   {
    "code": "# TEST\n#It looks like you didn't give anything the name\n# seconds_in_a_decade. Maybe there's a typo, or maybe you \n# just need to run the cell below Question 3.2 where you defined \n# seconds_in_a_decade. Click that cell and then click the \"run\n# cell\" button in the menu bar above.)\n'seconds_in_a_decade' in vars()",
    "id": "67abefcf8978482c82d6c9fa44c20e32",
    "idx": 50,
    "time": "2021-02-16T01:50:51.969Z",
    "type": "execution"
   },
   {
    "id": "67abefcf8978482c82d6c9fa44c20e32",
    "time": "2021-02-16T01:50:52.059Z",
    "type": "completion"
   },
   {
    "code": "# TEST\n# It looks like you didn't change the cell to define\n# seconds_in_a_decade appropriately.  It should be a number,\n# computed using Python's arithmetic.  For example, this is\n# almost right:\n#   seconds_in_a_decade = 10*365*24*60*60\nseconds_in_a_decade != ...",
    "id": "e7f4344122c244fc85b6c93122aa3308",
    "idx": 51,
    "time": "2021-02-16T01:50:52.545Z",
    "type": "execution"
   },
   {
    "id": "e7f4344122c244fc85b6c93122aa3308",
    "time": "2021-02-16T01:50:52.644Z",
    "type": "completion"
   },
   {
    "code": "# TEST\n# It looks like you didn't account for leap years.\n# There were 2 leap years and 8 non-leap years in this period.\n# Leap years have 366 days instead of 365.\nseconds_in_a_decade != 315360000",
    "id": "bab339b50c6244c4836128a198edc179",
    "idx": 52,
    "time": "2021-02-16T01:50:53.156Z",
    "type": "execution"
   },
   {
    "id": "bab339b50c6244c4836128a198edc179",
    "time": "2021-02-16T01:50:53.217Z",
    "type": "completion"
   },
   {
    "code": "# HIDDEN TEST\nseconds_in_a_decade == 315532800",
    "id": "cfffea330ed24bba92736fa173e6b868",
    "idx": 53,
    "time": "2021-02-16T01:50:53.854Z",
    "type": "execution"
   },
   {
    "id": "cfffea330ed24bba92736fa173e6b868",
    "time": "2021-02-16T01:50:54.027Z",
    "type": "completion"
   },
   {
    "code": "# t, the duration of the fall in the experiment, in seconds.\n# Fill this in.\ntime = 1.2 #SOLUTION\n\n# The estimated distance the hammer actually fell, in meters.\n# Fill this in.\nestimated_distance_m = 1.13 #SOLUTION",
    "id": "a3eef904c6b548f78fda93b2b4be258b",
    "idx": 60,
    "time": "2021-02-16T04:00:56.276Z",
    "type": "execution"
   },
   {
    "code": "#TEST\n# Fill in the row\n#   time = ...\n# with something like:\n#   time = 4.567\n# (except with the right number).\ntime != ...",
    "id": "231c002d34f8480ba5d9d547812fe69e",
    "idx": 61,
    "time": "2021-02-16T04:00:56.794Z",
    "type": "execution"
   },
   {
    "id": "a3eef904c6b548f78fda93b2b4be258b",
    "time": "2021-02-16T04:00:57.432Z",
    "type": "completion"
   },
   {
    "id": "231c002d34f8480ba5d9d547812fe69e",
    "time": "2021-02-16T04:00:57.438Z",
    "type": "completion"
   },
   {
    "code": "# TEST\n# Read the text above the question to see what\n# time should be.\nround(time, 5)",
    "id": "1f656a1a5c0245e7a7b9d5bc0eb90658",
    "idx": 62,
    "time": "2021-02-16T04:01:46.798Z",
    "type": "execution"
   },
   {
    "id": "1f656a1a5c0245e7a7b9d5bc0eb90658",
    "time": "2021-02-16T04:01:46.915Z",
    "type": "completion"
   },
   {
    "code": "# TEST\n# Fill in the row\n#   estimated_distance_m = ...\n# with something like:\n#   estimated_distance_m = 4.567\n# (except with the right number).\nestimated_distance_m != ...",
    "id": "0d4f1f5505d44f8486a411aac7f91724",
    "idx": 63,
    "time": "2021-02-16T04:04:29.874Z",
    "type": "execution"
   },
   {
    "id": "0d4f1f5505d44f8486a411aac7f91724",
    "time": "2021-02-16T04:04:30.025Z",
    "type": "completion"
   },
   {
    "code": "# TEST\n# Note that the units are meters, but the text used\n# centimeters.\nestimated_distance_m != 113",
    "id": "87e9ec46848644e4bc6e0cdd7bc9444e",
    "idx": 64,
    "time": "2021-02-16T04:05:03.667Z",
    "type": "execution"
   },
   {
    "id": "87e9ec46848644e4bc6e0cdd7bc9444e",
    "time": "2021-02-16T04:05:03.731Z",
    "type": "completion"
   },
   {
    "code": "# TEST\n# Read the text above the question to see what\n# estimated_distance_m should be.\nround(estimated_distance_m, 5)",
    "id": "e708d0dc112a44e4a50285132f51fa64",
    "idx": 65,
    "time": "2021-02-16T04:06:14.105Z",
    "type": "execution"
   },
   {
    "id": "e708d0dc112a44e4a50285132f51fa64",
    "time": "2021-02-16T04:06:14.187Z",
    "type": "completion"
   },
   {
    "code": "# First, we've written down the values of the 3 universal constants \n# that show up in Newton's formula.\n\n# G, the universal constant measuring the strength of gravity.\ngravity_constant = 6.674 * 10**-11 \n\n# M, the moon's mass, in kilograms.\nmoon_mass_kg = 7.34767309 * 10**22 \n\n# R, the radius of the moon, in meters.\nmoon_radius_m = 1.737 * 10**6 \n\n# The distance the hammer should have fallen \n# over the duration of the fall, in meters, \n# according to Newton's law of gravity.  \n# The text above describes the formula\n# for this distance given by Newton's law.\n# **YOU FILL THIS PART IN.**\npredicted_distance_m = (1/2) * gravity_constant * (moon_mass_kg / moon_radius_m**2)\n* time**2 #SOLUTION\n\n# Here we've computed the difference \n# between the predicted fall distance and the distance we actually measured.\n# If you've filled in the above code, this should just work.\ndifference = predicted_distance_m - estimated_distance_m\ndifference",
    "id": "c752c0a3abeb4efb9e912c867f84813c",
    "idx": 69,
    "time": "2021-02-16T04:13:20.807Z",
    "type": "execution"
   },
   {
    "id": "c752c0a3abeb4efb9e912c867f84813c",
    "time": "2021-02-16T04:13:20.930Z",
    "type": "completion"
   },
   {
    "code": "# First, we've written down the values of the 3 universal constants \n# that show up in Newton's formula.\n\n# G, the universal constant measuring the strength of gravity.\ngravity_constant = 6.674 * 10**-11 \n\n# M, the moon's mass, in kilograms.\nmoon_mass_kg = 7.34767309 * 10**22 \n\n# R, the radius of the moon, in meters.\nmoon_radius_m = 1.737 * 10**6 \n\n# The distance the hammer should have fallen \n# over the duration of the fall, in meters, \n# according to Newton's law of gravity.  \n# The text above describes the formula\n# for this distance given by Newton's law.\n# **YOU FILL THIS PART IN.**\npredicted_distance_m = (1/2) * gravity_constant * (moon_mass_kg / moon_radius_m**2) * time**2 #SOLUTION\n\n# Here we've computed the difference \n# between the predicted fall distance and the distance we actually measured.\n# If you've filled in the above code, this should just work.\ndifference = predicted_distance_m - estimated_distance_m\ndifference",
    "id": "c752c0a3abeb4efb9e912c867f84813c",
    "idx": 69,
    "time": "2021-02-16T04:13:31.034Z",
    "type": "execution"
   },
   {
    "id": "c752c0a3abeb4efb9e912c867f84813c",
    "time": "2021-02-16T04:13:31.671Z",
    "type": "completion"
   },
   {
    "code": "# TEST\n# Compute predicted_distance_m using the formula in the text\n# above.  Hint: it should start with something like this:\n#   predicted_distance_m = (1/2) * gravity_constant ...\nround(predicted_distance_m, 5)",
    "id": "d9fe9f8487e64ce681f9652b82b31f0a",
    "idx": 71,
    "time": "2021-02-16T04:15:06.108Z",
    "type": "execution"
   },
   {
    "id": "d9fe9f8487e64ce681f9652b82b31f0a",
    "time": "2021-02-16T04:15:06.179Z",
    "type": "completion"
   },
   {
    "code": "# TEST \n# Fill in the line that currently says\n#   predicted_distance_m = ...\n# in the cell above.\npredicted_distance_m != ...",
    "id": "5f9f83fa5d8f4da8872decbbb42cfb74",
    "idx": 70,
    "time": "2021-02-16T04:15:09.336Z",
    "type": "execution"
   },
   {
    "id": "5f9f83fa5d8f4da8872decbbb42cfb74",
    "time": "2021-02-16T04:15:09.421Z",
    "type": "completion"
   },
   {
    "code": "# HIDDEN TEST\ndifference == 0.04022",
    "id": "3a6e7c842301403f911a115607264d00",
    "idx": 73,
    "time": "2021-02-16T04:17:24.998Z",
    "type": "execution"
   },
   {
    "id": "3a6e7c842301403f911a115607264d00",
    "time": "2021-02-16T04:17:25.131Z",
    "type": "completion"
   },
   {
    "code": "# TEST \nround(difference, 5) ",
    "id": "d749f7858c63400b8734201fc6888bd0",
    "idx": 72,
    "time": "2021-02-16T04:17:26.989Z",
    "type": "execution"
   },
   {
    "id": "d749f7858c63400b8734201fc6888bd0",
    "time": "2021-02-16T04:17:27.061Z",
    "type": "completion"
   },
   {
    "code": "# HIDDEN TEST\nround(difference, 5)  == 0.04022",
    "id": "3a6e7c842301403f911a115607264d00",
    "idx": 73,
    "time": "2021-02-16T04:17:40.194Z",
    "type": "execution"
   },
   {
    "id": "3a6e7c842301403f911a115607264d00",
    "time": "2021-02-16T04:17:40.260Z",
    "type": "completion"
   },
   {
    "code": "# First, we've written down the values of the 3 universal constants \n# that show up in Newton's formula.\n\n# G, the universal constant measuring the strength of gravity.\ngravity_constant = 6.674 * 10**-11 \n\n# M, the moon's mass, in kilograms.\nmoon_mass_kg = 7.34767309 * 10**22 \n\n# R, the radius of the moon, in meters.\nmoon_radius_m = 1.737 * 10**6 \n\n# The distance the hammer should have fallen \n# over the duration of the fall, in meters, \n# according to Newton's law of gravity.  \n# The text above describes the formula\n# for this distance given by Newton's law.\n# **YOU FILL THIS PART IN.**\npredicted_distance_m = (1/2) * gravity_constant * (moon_mass_kg / moon_radius_m**2) * time**2 #SOLUTION\n\n# Here we've computed the difference \n# between the predicted fall distance and the distance we actually measured.\n# If you've filled in the above code, this should just work.\ndifference = predicted_distance_m - estimated_distance_m\ndifference",
    "id": "c752c0a3abeb4efb9e912c867f84813c",
    "idx": 69,
    "time": "2021-02-16T04:17:44.540Z",
    "type": "execution"
   },
   {
    "id": "c752c0a3abeb4efb9e912c867f84813c",
    "time": "2021-02-16T04:17:44.650Z",
    "type": "completion"
   },
   {
    "code": "# TEST \n# Fill in the line that currently says\n#   predicted_distance_m = ...\n# in the cell above.\npredicted_distance_m != ...",
    "id": "5f9f83fa5d8f4da8872decbbb42cfb74",
    "idx": 70,
    "time": "2021-02-16T04:17:45.320Z",
    "type": "execution"
   },
   {
    "id": "5f9f83fa5d8f4da8872decbbb42cfb74",
    "time": "2021-02-16T04:17:45.381Z",
    "type": "completion"
   },
   {
    "code": "# TEST\n# Compute predicted_distance_m using the formula in the text\n# above.  Hint: it should start with something like this:\n#   predicted_distance_m = (1/2) * gravity_constant ...\nround(predicted_distance_m, 5)",
    "id": "d9fe9f8487e64ce681f9652b82b31f0a",
    "idx": 71,
    "time": "2021-02-16T04:17:46.192Z",
    "type": "execution"
   },
   {
    "id": "d9fe9f8487e64ce681f9652b82b31f0a",
    "time": "2021-02-16T04:17:46.272Z",
    "type": "completion"
   },
   {
    "code": "# TEST \nround(difference, 5) ",
    "id": "d749f7858c63400b8734201fc6888bd0",
    "idx": 72,
    "time": "2021-02-16T04:17:50.050Z",
    "type": "execution"
   },
   {
    "id": "d749f7858c63400b8734201fc6888bd0",
    "time": "2021-02-16T04:17:50.121Z",
    "type": "completion"
   },
   {
    "code": "# HIDDEN TEST\nround(difference, 5)  == 0.04022",
    "id": "3a6e7c842301403f911a115607264d00",
    "idx": 73,
    "time": "2021-02-16T04:17:52.443Z",
    "type": "execution"
   },
   {
    "id": "3a6e7c842301403f911a115607264d00",
    "time": "2021-02-16T04:17:52.527Z",
    "type": "completion"
   },
   {
    "code": "# Here's the number of streets away:\nnum_streets_away = abs(42-34)\n\n# Compute the number of avenues away in a similar way:\nnum_avenues_away = abs(7-10) #SOLUTION\n\nstreet_length_m = 80\navenue_length_m = 274\n\n# Now we compute the total distance Chunhua must walk.\nmanhattan_distance = street_length_m*num_streets_away + avenue_length_m*num_avenues_away\n\n# We've included this line so that you see the distance you've computed \n# when you run this cell.  \n# You don't need to change it, but you can if you want.\nmanhattan_distance",
    "id": "f5c4505a25c8467b8df1bf68e37251f5",
    "idx": 78,
    "time": "2021-02-16T04:20:08.311Z",
    "type": "execution"
   },
   {
    "id": "f5c4505a25c8467b8df1bf68e37251f5",
    "time": "2021-02-16T04:20:08.416Z",
    "type": "completion"
   },
   {
    "code": "#TEST\n# Fill in the line\n#   num_avenues_away = ...\n# in the cell above.\nnum_avenues_away != ...",
    "id": "0a8aa9768d774848a07ad0d92370ad33",
    "idx": 79,
    "time": "2021-02-16T04:20:47.425Z",
    "type": "execution"
   },
   {
    "id": "0a8aa9768d774848a07ad0d92370ad33",
    "time": "2021-02-16T04:20:47.499Z",
    "type": "completion"
   },
   {
    "code": "# TEST \n# Remember to compute the absolute value of 7-10.  Traveling \n# \"-3 blocks\" doesn't really make sense!\nnum_avenues_away != -3",
    "id": "79b1f36a050443718958938e7d7e2c47",
    "idx": 80,
    "time": "2021-02-16T04:21:29.463Z",
    "type": "execution"
   },
   {
    "id": "79b1f36a050443718958938e7d7e2c47",
    "time": "2021-02-16T04:21:29.529Z",
    "type": "completion"
   },
   {
    "code": "# HIDDEN TEST\nnum_avenues_away == 3",
    "id": "fc8838959c8b4dee9417dc930cb5a610",
    "idx": 81,
    "time": "2021-02-16T04:23:09.788Z",
    "type": "execution"
   },
   {
    "id": "fc8838959c8b4dee9417dc930cb5a610",
    "time": "2021-02-16T04:23:09.852Z",
    "type": "completion"
   },
   {
    "code": "# HIDDEN TEST \nmanhattan_distance == 1462",
    "id": "486b024a3f30427e8476e24b9c21f805",
    "idx": 82,
    "time": "2021-02-16T04:23:10.598Z",
    "type": "execution"
   },
   {
    "id": "486b024a3f30427e8476e24b9c21f805",
    "time": "2021-02-16T04:23:10.680Z",
    "type": "completion"
   },
   {
    "code": "# Replace the ... with an expression \n# to compute the absolute value \n# of the difference between Paola's height (1.76m) and the average human height.\npaola_distance_from_average_m = abs(1.76 - 1.688) # SOLUTION\n\n# Again, we've written this here \n# so that the distance you compute will get printed \n# when you run this cell.\npaola_distance_from_average_m",
    "id": "ba86699b1b904963951f81a83747c691",
    "idx": 89,
    "time": "2021-02-16T04:25:13.275Z",
    "type": "execution"
   },
   {
    "id": "ba86699b1b904963951f81a83747c691",
    "time": "2021-02-16T04:25:13.353Z",
    "type": "completion"
   },
   {
    "code": "# TEST\nround(paola_distance_from_average_m, 5) == 0.072",
    "id": "329e4cfb940b4265978ec5a0a8786bd9",
    "idx": 90,
    "time": "2021-02-16T04:25:24.015Z",
    "type": "execution"
   },
   {
    "id": "329e4cfb940b4265978ec5a0a8786bd9",
    "time": "2021-02-16T04:25:24.087Z",
    "type": "completion"
   },
   {
    "code": "# TEST\nround(paola_distance_from_average_m, 5)",
    "id": "329e4cfb940b4265978ec5a0a8786bd9",
    "idx": 90,
    "time": "2021-02-16T04:25:43.467Z",
    "type": "execution"
   },
   {
    "id": "329e4cfb940b4265978ec5a0a8786bd9",
    "time": "2021-02-16T04:25:43.545Z",
    "type": "completion"
   },
   {
    "code": "# HIDDEN TEST\nround(paola_distance_from_average_m, 5) == 0.072",
    "id": "935f16ed3a424d32835e05542670ec34",
    "idx": 91,
    "time": "2021-02-16T04:26:07.171Z",
    "type": "execution"
   },
   {
    "id": "935f16ed3a424d32835e05542670ec34",
    "time": "2021-02-16T04:26:07.265Z",
    "type": "completion"
   },
   {
    "code": "# The three players' heights, in meters:\nklay =  2.01 # Klay Thompson is 6'7\"\nsteph = 1.91 # Steph Curry is 6'3\"\ndangelo = 1.95 # D'Angelo Russell is 6'5\"\n             \n# We'd like to look at all 3 pairs of heights, \n# compute the absolute difference between each pair, \n# and then find the smallest of those 3 absolute differences.  \n# This is left to you!  \n# If you're stuck, try computing the value for each step of the process \n# (like the difference between Klay's heigh and Steph's height) \n# on a separate line and giving it a name (like klay_steph_height_diff)6\nmin_height_difference = min(abs(klay - steph), abs(klay-dangelo), abs(steph-dangelo) # SOLUTION",
    "id": "44f75413e616449786db37040c562b77",
    "idx": 97,
    "time": "2021-02-16T04:27:59.204Z",
    "type": "execution"
   },
   {
    "id": "44f75413e616449786db37040c562b77",
    "time": "2021-02-16T04:27:59.277Z",
    "type": "completion"
   },
   {
    "code": "# The three players' heights, in meters:\nklay =  2.01 # Klay Thompson is 6'7\"\nsteph = 1.91 # Steph Curry is 6'3\"\ndangelo = 1.95 # D'Angelo Russell is 6'5\"\n             \n# We'd like to look at all 3 pairs of heights, \n# compute the absolute difference between each pair, \n# and then find the smallest of those 3 absolute differences.  \n# This is left to you!  \n# If you're stuck, try computing the value for each step of the process \n# (like the difference between Klay's heigh and Steph's height) \n# on a separate line and giving it a name (like klay_steph_height_diff)6\nmin_height_difference = min(abs(klay - steph), abs(klay-dangelo), abs(steph-dangelo)) # SOLUTION",
    "id": "44f75413e616449786db37040c562b77",
    "idx": 97,
    "time": "2021-02-16T04:28:06.675Z",
    "type": "execution"
   },
   {
    "id": "44f75413e616449786db37040c562b77",
    "time": "2021-02-16T04:28:06.794Z",
    "type": "completion"
   },
   {
    "code": "# TEST\nround(min_height_difference, 5)",
    "id": "078d920b265645128de98392af2bcb6e",
    "idx": 98,
    "time": "2021-02-16T04:28:37.237Z",
    "type": "execution"
   },
   {
    "id": "078d920b265645128de98392af2bcb6e",
    "time": "2021-02-16T04:28:37.322Z",
    "type": "completion"
   },
   {
    "code": "# HIDDEN TEST\nround(min_height_difference, 5) == 0.04",
    "id": "0cd7d9cee23e46ec8dbce198c1c3c45d",
    "idx": 99,
    "time": "2021-02-16T04:28:38.707Z",
    "type": "execution"
   },
   {
    "id": "0cd7d9cee23e46ec8dbce198c1c3c45d",
    "time": "2021-02-16T04:28:38.769Z",
    "type": "completion"
   }
  ],
  "kernelspec": {
   "display_name": "Python 3 (ipykernel)",
   "language": "python",
   "name": "python3"
  },
  "language_info": {
   "codemirror_mode": {
    "name": "ipython",
    "version": 3
   },
   "file_extension": ".py",
   "mimetype": "text/x-python",
   "name": "python",
   "nbconvert_exporter": "python",
   "pygments_lexer": "ipython3",
   "version": "3.11.5"
  }
 },
 "nbformat": 4,
 "nbformat_minor": 2
}
