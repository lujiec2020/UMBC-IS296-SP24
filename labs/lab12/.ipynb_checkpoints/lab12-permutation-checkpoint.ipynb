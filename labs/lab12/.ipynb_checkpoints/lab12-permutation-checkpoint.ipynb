{
 "cells": [
  {
   "cell_type": "code",
   "execution_count": null,
   "id": "456f750b",
   "metadata": {},
   "outputs": [],
   "source": [
    "from datascience import *\n",
    "import numpy as np\n",
    "\n",
    "%matplotlib inline\n",
    "import matplotlib.pyplot as plots\n",
    "plots.style.use('fivethirtyeight')"
   ]
  },
  {
   "cell_type": "markdown",
   "id": "a0766ed2",
   "metadata": {},
   "source": [
    "## Lab 12 - Permutation"
   ]
  },
  {
   "cell_type": "markdown",
   "id": "c41e535d",
   "metadata": {},
   "source": [
    "### 1. Data Exploration"
   ]
  },
  {
   "cell_type": "code",
   "execution_count": null,
   "id": "cd71a096",
   "metadata": {},
   "outputs": [],
   "source": [
    "#load dataset\n",
    "tbl_all = Table.read_table('https://raw.githubusercontent.com/lujiec2020/UMBC-IS296-Fall2022/main/data/baby.csv')\n",
    "tbl_all"
   ]
  },
  {
   "cell_type": "code",
   "execution_count": null,
   "id": "2bc4eb79",
   "metadata": {},
   "outputs": [],
   "source": [
    "#select only relevant columns\n",
    "tbl = tbl_all.select('Maternal Smoker', 'Birth Weight')\n",
    "tbl"
   ]
  },
  {
   "cell_type": "code",
   "execution_count": null,
   "id": "81ea26c3",
   "metadata": {},
   "outputs": [],
   "source": [
    "#summary - count of each group\n",
    "tbl.group('Maternal Smoker')"
   ]
  },
  {
   "cell_type": "code",
   "execution_count": null,
   "id": "e07e7b30",
   "metadata": {},
   "outputs": [],
   "source": [
    "#summary - mean value of each group\n",
    "tbl.group('Maternal Smoker', np.average).barh('Maternal Smoker')"
   ]
  },
  {
   "cell_type": "code",
   "execution_count": null,
   "id": "dfcbfd02",
   "metadata": {},
   "outputs": [],
   "source": [
    "#summary - overlaid histogram\n",
    "tbl.hist('Birth Weight', group='Maternal Smoker')"
   ]
  },
  {
   "cell_type": "markdown",
   "id": "1049df51",
   "metadata": {},
   "source": [
    "### 2. Permuation Test"
   ]
  },
  {
   "cell_type": "code",
   "execution_count": null,
   "id": "0b3cb61d",
   "metadata": {},
   "outputs": [],
   "source": [
    "#step1: determine test statistics \n",
    "means_table = tbl.group('Maternal Smoker', np.average) # update\n",
    "means_table\n"
   ]
  },
  {
   "cell_type": "code",
   "execution_count": null,
   "id": "dae49533",
   "metadata": {},
   "outputs": [],
   "source": [
    "means = means_table.column(1)\n",
    "observed_difference = means.item(1) - means.item(0)\n",
    "observed_difference"
   ]
  },
  {
   "cell_type": "code",
   "execution_count": null,
   "id": "99f933f6",
   "metadata": {},
   "outputs": [],
   "source": [
    "#function to calcuate difference of means\n",
    "def difference_of_means(table, label, group_label):\n",
    "    \"\"\"\n",
    "    table: name of table, \n",
    "    label: column label of numerical variable, \n",
    "    group_label: column label of group-label variable\n",
    "    Returns: Difference of means of the two groups\"\"\"\n",
    "    #table with the two relevant columns\n",
    "    reduced = table.select(label, group_label)  \n",
    "    # table containing group means\n",
    "    means_table = reduced.group(group_label, np.average)\n",
    "    # array of group means\n",
    "    means = means_table.column(1)\n",
    "    return means.item(1) - means.item(0)"
   ]
  },
  {
   "cell_type": "code",
   "execution_count": null,
   "id": "28bc8cde",
   "metadata": {},
   "outputs": [],
   "source": [
    "#test function above\n",
    "difference_of_means(tbl, 'Birth Weight', 'Maternal Smoker') # update"
   ]
  },
  {
   "cell_type": "code",
   "execution_count": null,
   "id": "61edd02f",
   "metadata": {},
   "outputs": [],
   "source": [
    "#step 2: run simulation \n",
    "#2a function to run one iteration of simulation\n",
    "def one_simulated_difference(table, label, group_label):\n",
    "    \"\"\"Takes: name of table, column label of numerical variable,\n",
    "    column label of group-label variable\n",
    "    Returns: Difference of means of the two groups after shuffling labels\"\"\"\n",
    "    # array of shuffled labels\n",
    "    shuffled_labels = table.sample(with_replacement = False).column(group_label)\n",
    "    # table of numerical variable and shuffled labels\n",
    "    shuffled_table = table.select(label).with_column('Shuffled Label', shuffled_labels)\n",
    "    return difference_of_means(shuffled_table, label, 'Shuffled Label')  "
   ]
  },
  {
   "cell_type": "code",
   "execution_count": null,
   "id": "d5645d52",
   "metadata": {},
   "outputs": [],
   "source": [
    "#test the function above\n",
    "one_simulated_difference(tbl, 'Birth Weight', 'Maternal Smoker') # update"
   ]
  },
  {
   "cell_type": "code",
   "execution_count": null,
   "id": "575f1aa6",
   "metadata": {},
   "outputs": [],
   "source": [
    "#2b: function to run multiple iterations of simulation\n",
    "differences = make_array()\n",
    "for i in np.arange(100):\n",
    "    new_difference = one_simulated_difference(tbl, 'Birth Weight', 'Maternal Smoker') # update\n",
    "    differences = np.append(differences, new_difference)\n",
    "differences"
   ]
  },
  {
   "cell_type": "code",
   "execution_count": null,
   "id": "19d4ce3f",
   "metadata": {},
   "outputs": [],
   "source": [
    "# step 3: visualize and interprete results \n",
    "Table().with_column('Difference Between Group Means', differences).hist()\n",
    "print('Observed Difference:', observed_difference)\n",
    "print('p-value=',np.mean(differences<observed_difference))\n",
    "plots.title('Prediction Under the Null Hypothesis');"
   ]
  },
  {
   "cell_type": "markdown",
   "id": "1ba4900f",
   "metadata": {},
   "source": [
    "## Interesting Data, Curious Question\n",
    "##### Here is a list of dataset collected by IS 296 Students, pick one of your favorite and pose your own questions and answer your question using permutation.  \n",
    "note: here we are doing two-sample test, which means that you need to make sure your dataset for permuation test has two columns, one is group variable ( binary variable such as \"Materal Smoker\") and one is a numeric variable (\"Birth Weight\"). You will state your conclusion based on the simulation result, i.e. whether there is significant assocation/relationship between those two variables."
   ]
  },
  {
   "cell_type": "code",
   "execution_count": null,
   "id": "d3c90565",
   "metadata": {},
   "outputs": [],
   "source": [
    "# self-tracking data set #1\n",
    "tbl_all = Table.read_table(\"https://raw.githubusercontent.com/lujiec2020/UMBC-IS296-SP23/main/data/trackingData1.csv\")\n",
    "tbl_all"
   ]
  },
  {
   "cell_type": "code",
   "execution_count": null,
   "id": "6e4dd73e",
   "metadata": {},
   "outputs": [],
   "source": [
    "# self-tracking data set #2\n",
    "tbl_all = Table.read_table(\"https://raw.githubusercontent.com/lujiec2020/UMBC-IS296-SP23/main/data/trackingData2.csv\")\n",
    "tbl_all"
   ]
  },
  {
   "cell_type": "code",
   "execution_count": null,
   "id": "e0bb5377",
   "metadata": {},
   "outputs": [],
   "source": [
    "#cecreal data from Muhammad\n",
    "tbl_all = Table.read_table('https://raw.githubusercontent.com/lujiec2020/UMBC-IS296-Fall2022/main/student-data/cereal.csv')\n",
    "tbl_all"
   ]
  },
  {
   "cell_type": "code",
   "execution_count": null,
   "id": "7375bdad",
   "metadata": {},
   "outputs": [],
   "source": [
    "# diabetes data from Leah\n",
    "tbl_all = Table.read_table('https://raw.githubusercontent.com/lujiec2020/UMBC-IS296-Fall2022/main/student-data/diabetes.csv')\n",
    "tbl_all"
   ]
  },
  {
   "cell_type": "code",
   "execution_count": null,
   "id": "8ec63062",
   "metadata": {},
   "outputs": [],
   "source": [
    "# soccer data from Iris\n",
    "tbl_all = Table.read_table('https://raw.githubusercontent.com/lujiec2020/UMBC-IS296-Fall2022/main/student-data/soccer_player_cleaned.csv')\n",
    "tbl_all"
   ]
  },
  {
   "cell_type": "code",
   "execution_count": null,
   "id": "84c111e7",
   "metadata": {},
   "outputs": [],
   "source": [
    "#candy dataset\n",
    "tbl_all = Table.read_table('https://raw.githubusercontent.com/lujiec2020/UMBC-IS296-Fall2022/main/student-data/halloween-candy-data.csv')\n",
    "tbl_all"
   ]
  },
  {
   "cell_type": "code",
   "execution_count": null,
   "id": "f0fc482b",
   "metadata": {},
   "outputs": [],
   "source": [
    "#NBA data from Shivam\n",
    "url = 'https://raw.githubusercontent.com/lujiec2020/UMBC-IS296-Fall2022/main/student-data/2021-2022_NBA_Player_Stats_Playoffs.csv'\n",
    "tbl_all = Table.read_table(url)\n",
    "tbl_all"
   ]
  },
  {
   "cell_type": "code",
   "execution_count": null,
   "id": "2cc1bab0",
   "metadata": {},
   "outputs": [],
   "source": [
    "# auto-MPG data from Peter\n",
    "url = 'https://raw.githubusercontent.com/lujiec2020/UMBC-IS296-Fall2022/main/student-data/auto-mpg.csv'\n",
    "tbl_all = Table.read_table(url)\n",
    "tbl_all"
   ]
  },
  {
   "cell_type": "code",
   "execution_count": null,
   "id": "02fbdbeb",
   "metadata": {},
   "outputs": [],
   "source": [
    "# for additional data check out this link\n",
    "# https://github.com/lujiec2020/UMBC-IS296-Fall2022/tree/main/student-data\n",
    "# select a dataset, click on raw, grab url from the brower "
   ]
  }
 ],
 "metadata": {
  "kernelspec": {
   "display_name": "Python 3 (ipykernel)",
   "language": "python",
   "name": "python3"
  },
  "language_info": {
   "codemirror_mode": {
    "name": "ipython",
    "version": 3
   },
   "file_extension": ".py",
   "mimetype": "text/x-python",
   "name": "python",
   "nbconvert_exporter": "python",
   "pygments_lexer": "ipython3",
   "version": "3.11.5"
  }
 },
 "nbformat": 4,
 "nbformat_minor": 5
}
