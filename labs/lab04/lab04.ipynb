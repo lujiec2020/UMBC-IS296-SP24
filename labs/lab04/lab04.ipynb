{
 "cells": [
  {
   "cell_type": "code",
   "execution_count": null,
   "id": "1a24e084",
   "metadata": {},
   "outputs": [],
   "source": [
    "from datascience import *\n",
    "import numpy as np\n",
    "\n",
    "%matplotlib inline\n",
    "import matplotlib.pyplot as plots\n",
    "plots.style.use('fivethirtyeight')"
   ]
  },
  {
   "cell_type": "markdown",
   "id": "8955bbc0",
   "metadata": {},
   "source": [
    "## Lab 04: Data Viz\n",
    "## For each of the question, first write code to reproduce the figure and then explain the pattern you noticed using comment"
   ]
  },
  {
   "cell_type": "code",
   "execution_count": null,
   "id": "37dc6786",
   "metadata": {},
   "outputs": [],
   "source": [
    "steps = Table.read_table('./data/fitbit_excercise_2024.csv')\n",
    "steps"
   ]
  },
  {
   "cell_type": "markdown",
   "id": "63f170f5",
   "metadata": {},
   "source": [
    "##  Figure 1\n",
    "<img src=\"figure/figure1.png\" width=\"500\" height=\"340\"/>"
   ]
  },
  {
   "cell_type": "code",
   "execution_count": null,
   "id": "706d0504",
   "metadata": {},
   "outputs": [],
   "source": [
    "#Figure 1\n",
    "..."
   ]
  },
  {
   "cell_type": "markdown",
   "id": "7960ef5e",
   "metadata": {},
   "source": [
    "##  Figure 2\n",
    "<img src=\"figure/figure2.png\" width=\"500\" height=\"340\"/>"
   ]
  },
  {
   "cell_type": "code",
   "execution_count": null,
   "id": "8e68c1b8",
   "metadata": {},
   "outputs": [],
   "source": [
    "#Figure 2\n",
    "..."
   ]
  },
  {
   "cell_type": "markdown",
   "id": "6db5a3a9",
   "metadata": {},
   "source": [
    "##  Figure 3\n",
    "<img src=\"figure/figure3.png\" width=\"400\" height=\"340\">"
   ]
  },
  {
   "cell_type": "code",
   "execution_count": null,
   "id": "2b90919f",
   "metadata": {},
   "outputs": [],
   "source": [
    "#Figure 3\n",
    "..."
   ]
  },
  {
   "cell_type": "markdown",
   "id": "a9cd34a3",
   "metadata": {},
   "source": [
    "##  Figure 4\n",
    "<img src=\"figure/figure4.png\" width=\"400\" height=\"340\">"
   ]
  },
  {
   "cell_type": "code",
   "execution_count": null,
   "id": "93913044",
   "metadata": {},
   "outputs": [],
   "source": [
    "#Figure 4\n",
    "..."
   ]
  },
  {
   "cell_type": "markdown",
   "id": "390096bf",
   "metadata": {},
   "source": [
    "##  Figure 5\n",
    "<img src=\"figure/figure5.png\" width=\"400\" height=\"340\">"
   ]
  },
  {
   "cell_type": "code",
   "execution_count": null,
   "id": "471b03e7",
   "metadata": {},
   "outputs": [],
   "source": [
    "#Figure 5\n",
    "..."
   ]
  }
 ],
 "metadata": {
  "kernelspec": {
   "display_name": "Python 3 (ipykernel)",
   "language": "python",
   "name": "python3"
  },
  "language_info": {
   "codemirror_mode": {
    "name": "ipython",
    "version": 3
   },
   "file_extension": ".py",
   "mimetype": "text/x-python",
   "name": "python",
   "nbconvert_exporter": "python",
   "pygments_lexer": "ipython3",
   "version": "3.11.5"
  }
 },
 "nbformat": 4,
 "nbformat_minor": 5
}
