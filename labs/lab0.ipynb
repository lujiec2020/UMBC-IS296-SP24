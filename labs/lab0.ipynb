{
 "cells": [
  {
   "cell_type": "markdown",
   "id": "9b430cb9",
   "metadata": {},
   "source": [
    "# Welcome to IS 296 - Foundations of Data Science\n",
    "## Lab 0 - Get to Know Your Friend\n",
    "In this lab, you will get familar with the DataHub Jupyter Notebook Enviornment. We will practice with the information you gathered from the group activity in the class. \n",
    "\n",
    "#### Today's lab\n",
    "\n",
    "In today's lab, you'll learn how to:\n",
    "\n",
    "1. navigate Jupyter notebooks (like this one);\n",
    "2. write and evaluate some basic *expressions* in Python, the computer language of the course;\n",
    "3. call *functions* to use code other people have written;"
   ]
  },
  {
   "cell_type": "markdown",
   "id": "86a6aa40",
   "metadata": {},
   "source": [
    "# 1. Jupyter notebooks\n",
    "This webpage is called a Jupyter notebook. A notebook is a place to write programs and view their results, and also to write text.\n",
    "\n",
    "## 1.1. Text/Markdown cells\n",
    "In a notebook, each rectangle containing text or code is called a *cell*.\n",
    "\n",
    "Text cells (like this one) can be edited by double-clicking on them. They're written in a simple format called [Markdown] (http://daringfireball.net/projects/markdown/syntax) to add formatting and section headings.  You don't need to learn Markdown, but you might want to.\n",
    "\n",
    "After you edit a text cell, click the \"run cell\" button at the top that looks like ▶| or hold down `shift` + `return` to confirm any changes. (Try not to delete the instructions of the lab.)\n"
   ]
  },
  {
   "cell_type": "markdown",
   "id": "f04ffa1c",
   "metadata": {},
   "source": [
    "**Question 1.1.1.** add a line to the bottom of the cell above. It says \"This Notebook is authored by xxx\", please put your FirstName and LastName. Add a hyperlink on your name that links to your personal website, github or linkedin. If you don't have a website, you may put UMBC's website. Make sure you test the link. Refer to the above Text/Markdown cell for how to add hyperlink. \n",
    "\n",
    "Add another line, says \"My partner's name is xxx\", please put your partner's first and last name, also add a hyperlink to your partner's website, same as above. \n",
    "\n",
    "Hint: By clicking the cell above, you will enter into the edit mode (box outline turn into green) to see the markdown codes. "
   ]
  },
  {
   "cell_type": "markdown",
   "id": "163e7679",
   "metadata": {},
   "source": [
    "## 1.2. Code cells\n",
    "Other cells contain code in the Python 3 language. Running a code cell will execute all of the code it contains.\n",
    "\n",
    "To run the code in a code cell, first click on that cell to activate it.  It'll be highlighted with a little green or blue rectangle.  Next, either press ▶| or hold down `shift` + `return`.\n",
    "\n",
    "Try running this cell first, then change to a different messsage."
   ]
  },
  {
   "cell_type": "code",
   "execution_count": null,
   "id": "0495f67b",
   "metadata": {},
   "outputs": [],
   "source": [
    "print(\"Hello, World!\")"
   ]
  },
  {
   "cell_type": "markdown",
   "id": "610768f3",
   "metadata": {},
   "source": [
    "Emoji can also be printed. Check out this [website](https://unicode-table.com/en/sets/emoji/} for a list of emojj. \n",
    "You can copy and paste the emojj into the cell.\n",
    "How are you feeling today? \n",
    "Change the cell below, with a different emojj"
   ]
  },
  {
   "cell_type": "code",
   "execution_count": null,
   "id": "e2501f09",
   "metadata": {},
   "outputs": [],
   "source": [
    "print(\"I am feeling 😀\")"
   ]
  },
  {
   "cell_type": "markdown",
   "id": "39e450ae",
   "metadata": {},
   "source": [
    "The fundamental building block of Python code is an expression. Cells can contain multiple lines with multiple expressions. When you run a cell, the lines of code are executed in the order in which they appear. Every `print` expression prints a line. Run the next cell and notice the order of the output."
   ]
  },
  {
   "cell_type": "code",
   "execution_count": null,
   "id": "4b3c7cc0",
   "metadata": {},
   "outputs": [],
   "source": [
    "print(\"First this line is printed,\")\n",
    "print(\"and then this one.\")"
   ]
  },
  {
   "cell_type": "markdown",
   "id": "47f5b1cc",
   "metadata": {},
   "source": [
    "**Question 1.2.1.** Change the cell above so that it prints out:\n",
    "\n",
    "    First this line,\n",
    "    then the whole,\n",
    "    and then this one."
   ]
  },
  {
   "cell_type": "markdown",
   "id": "8ac1a531",
   "metadata": {},
   "source": [
    "## 1.3. Writing Jupyter notebooks\n",
    "You can use Jupyter notebooks for your own projects or documents.  When you make your own notebook, you'll need to create your own cells for text and code.\n",
    "\n",
    "To add a cell, click the + button in the menu bar.  It'll start out as a text/Markdown cell.  You can change it to a code cell by clicking inside it so it's highlighted, clicking the drop-down box next to the restart (⟳) button in the menu bar, and choosing \"Code\".\n",
    "\n",
    "**Question 1.3.1.** Add a code cell below this one.  Write code in it that prints out:\n",
    "   \n",
    "    A whole new cell!\n",
    "\n",
    "Run your cell to verify that it works."
   ]
  },
  {
   "cell_type": "markdown",
   "id": "c898e498",
   "metadata": {},
   "source": [
    "**Question 1.3.2.** Add a text/Markdown cell below this one. Write Markdown code so that it display a list of common facts between you and your parter as a numbered list. Hint, look at the first cell in this notebook for example of numbered list. "
   ]
  },
  {
   "cell_type": "code",
   "execution_count": null,
   "id": "142855d9",
   "metadata": {},
   "outputs": [],
   "source": [
    "#Notebook can show an image, this is an example to display an image from the internet\n",
    "#the first line is to load the package so that we could use the Image class\n",
    "from IPython.display import Image \n",
    "Image(url='http://python.org/images/python-logo.gif')"
   ]
  },
  {
   "cell_type": "markdown",
   "id": "57237fc9",
   "metadata": {},
   "source": [
    "**Question 1.3.3.** Add a code cell below this one, so that you show an image of your parnter's favorite food"
   ]
  },
  {
   "cell_type": "code",
   "execution_count": null,
   "id": "67072a0d",
   "metadata": {},
   "outputs": [],
   "source": [
    "#this is how to display audio file\n",
    "from IPython.display import Audio\n",
    "Audio(url=\"http://www.nch.com.au/acm/8k16bitpcm.wav\")"
   ]
  },
  {
   "cell_type": "code",
   "execution_count": null,
   "id": "24da19d7",
   "metadata": {},
   "outputs": [],
   "source": [
    "#this is how to display a youtube video\n",
    "from IPython.display import YouTubeVideo\n",
    "YouTubeVideo('y1dbbrfekAM') "
   ]
  },
  {
   "cell_type": "markdown",
   "id": "f37798da",
   "metadata": {},
   "source": [
    "**Questions 1.3.4.** Insert a new code cell below to display either an audio/video that shows something that your partner is passionate about"
   ]
  },
  {
   "cell_type": "markdown",
   "id": "7ce11486",
   "metadata": {},
   "source": [
    "to submit this notebook, go to File menu --> download as pdf, then submit it blackboard under assignment"
   ]
  }
 ],
 "metadata": {
  "kernelspec": {
   "display_name": "Python 3",
   "language": "python",
   "name": "python3"
  },
  "language_info": {
   "codemirror_mode": {
    "name": "ipython",
    "version": 3
   },
   "file_extension": ".py",
   "mimetype": "text/x-python",
   "name": "python",
   "nbconvert_exporter": "python",
   "pygments_lexer": "ipython3",
   "version": "3.8.8"
  }
 },
 "nbformat": 4,
 "nbformat_minor": 5
}
